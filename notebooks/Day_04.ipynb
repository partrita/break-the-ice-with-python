{
 "cells": [
  {
   "cell_type": "markdown",
   "metadata": {},
   "source": [
    "# 문제 14\n",
    "\n",
    "### **문제:**\n",
    "\n",
    "> **_문장을 입력받아 대문자 수와 소문자 수를 계산하는 프로그램을 작성하십시오._**\n",
    "\n",
    "> **_다음과 같은 입력이 프로그램에 제공된다고 가정합니다:_**\n",
    "\n",
    "\n",
    "Hello world!\n",
    "\n",
    "\n",
    "> **_그러면 출력은 다음과 같아야 합니다:_**\n",
    "\n",
    "\n",
    "UPPER CASE 1\n",
    "\n",
    "LOWER CASE 9\n",
    "\n",
    "\n",
    "---\n",
    "\n",
    "### 힌트:\n",
    "\n",
    "> **_문제에 입력 데이터가 제공되는 경우 콘솔 입력으로 간주해야 합니다._**\n",
    "\n",
    "---\n",
    "\n",
    "\n",
    "\n",
    "**해결책:**"
   ]
  },
  {
   "cell_type": "code",
   "execution_count": null,
   "metadata": {},
   "outputs": [],
   "source": [
    "word = input()\n",
    "upper_count, lower_count = 0, 0 # 변수명 변경\n",
    "\n",
    "for char_item in word: # 변수명 변경\n",
    "    if \"a\" <= char_item and char_item <= \"z\":\n",
    "        lower_count += 1\n",
    "    if \"A\" <= char_item and char_item <= \"Z\": # elif가 아닌 if 사용 (대소문자 동시 체크 가능성 배제)\n",
    "        upper_count += 1\n",
    "\n",
    "print(\"UPPER CASE {0}\\nLOWER CASE {1}\".format(upper_count, lower_count))"
   ]
  },
  {
   "cell_type": "markdown",
   "metadata": {},
   "source": [
    "**또는** (islower, isupper 사용)"
   ]
  },
  {
   "cell_type": "code",
   "execution_count": null,
   "metadata": {},
   "outputs": [],
   "source": [
    "word = input()\n",
    "upper_count, lower_count = 0, 0\n",
    "\n",
    "for char_item in word:\n",
    "    lower_count += char_item.islower() # islower()는 소문자이면 True(1), 아니면 False(0) 반환\n",
    "    upper_count += char_item.isupper() # isupper()는 대문자이면 True(1), 아니면 False(0) 반환\n",
    "\n",
    "print(\"UPPER CASE {0}\\nLOWER CASE {1}\".format(upper_count, lower_count))"
   ]
  },
  {
   "cell_type": "markdown",
   "metadata": {},
   "source": [
    "**또는** (sum과 제너레이터 표현식 사용)"
   ]
  },
  {
   "cell_type": "code",
   "execution_count": null,
   "metadata": {},
   "outputs": [],
   "source": [
    "word = input()\n",
    "upper_count = sum(\n",
    "    1 for char_item in word if char_item.isupper()\n",
    ")  # 조건이 True이면 1을 누적하여 합산합니다.\n",
    "lower_count = sum(1 for char_item in word if char_item.islower())\n",
    "\n",
    "print(\"UPPER CASE {0}\\nLOWER CASE {1}\".format(upper_count, lower_count))"
   ]
  },
  {
   "cell_type": "markdown",
   "metadata": {},
   "source": [
    "**또는** (Amitewu 제공 솔루션)"
   ]
  },
  {
   "cell_type": "code",
   "execution_count": null,
   "metadata": {},
   "outputs": [],
   "source": [
    "# Amitewu 제공 솔루션\n",
    "\n",
    "sentence = input(\"문장을 입력하세요: \") # \"Enter the sentense\" 번역\n",
    "upper_val = 0 # 변수명 변경\n",
    "lower_val = 0 # 변수명 변경\n",
    "for char_x in sentence: # 변수명 변경\n",
    "    if char_x.isupper() == True: # '== True'는 불필요\n",
    "        upper_val += 1\n",
    "    if char_x.islower() == True: # '== True'는 불필요\n",
    "        lower_val += 1\n",
    "\n",
    "print(\"UPPER CASE: \", upper_val)\n",
    "print(\"LOWER CASE: \", lower_val)"
   ]
  },
  {
   "cell_type": "markdown",
   "metadata": {},
   "source": [
    "---\n",
    "\n",
    "# 문제 15\n",
    "\n",
    "### **문제:**\n",
    "\n",
    "> **_주어진 숫자를 a 값으로 사용하여 a+aa+aaa+aaaa 값을 계산하는 프로그램을 작성하십시오._**\n",
    "\n",
    "> **_다음과 같은 입력이 프로그램에 제공된다고 가정합니다:_**\n",
    "\n",
    "\n",
    "9\n",
    "\n",
    "\n",
    "> **_그러면 출력은 다음과 같아야 합니다:_**\n",
    "\n",
    "\n",
    "11106\n",
    "\n",
    "\n",
    "---\n",
    "\n",
    "### 힌트:\n",
    "\n",
    "> **_문제에 입력 데이터가 제공되는 경우 콘솔 입력으로 간주해야 합니다._**\n",
    "\n",
    "---\n",
    "\n",
    "\n",
    "\n",
    "**해결책:**"
   ]
  },
  {
   "cell_type": "code",
   "execution_count": null,
   "metadata": {},
   "outputs": [],
   "source": [
    "a_str = input() # 변수명 변경\n",
    "total_sum, temp_str = 0, str()  # 정수와 빈 문자열 초기화, 변수명 변경\n",
    "\n",
    "for i in range(4):\n",
    "    temp_str += a_str  # 'a_str'을 'temp_str'에 연결합니다.\n",
    "    total_sum += int(temp_str)  # 문자열 타입을 정수 타입으로 변환합니다.\n",
    "\n",
    "print(total_sum)"
   ]
  },
  {
   "cell_type": "markdown",
   "metadata": {},
   "source": [
    "**또는** (문자열 곱셈 활용)\n",
    "\n",
    "```python\n",
    "a_str = input()\n",
    "# N*a_str은 문자열 a_str을 N번 반복합니다. 예: a_str=\"9\", 2*a_str=\"99\", 3*a_str=\"999\"\n",
    "total_sum = int(a_str) + int(2*a_str) + int(3*a_str) + int(4*a_str)\n",
    "print(total_sum)\n",
    "```"
   ]
  }
 ],
 "metadata": {
  "kernelspec": {
   "display_name": "Python 3",
   "language": "python",
   "name": "python3"
  },
  "language_info": {
   "codemirror_mode": {
    "name": "ipython",
    "version": 3
   },
   "file_extension": ".py",
   "mimetype": "text/x-python",
   "name": "python",
   "nbconvert_exporter": "python",
   "pygments_lexer": "ipython3",
   "version": "3.7.6"
  }
 },
 "nbformat": 4,
 "nbformat_minor": 4
}
