{
 "cells": [
  {
   "cell_type": "markdown",
   "metadata": {},
   "source": [
    "# 문제 16\n",
    "\n",
    "### **문제:**\n",
    "\n",
    "> **_리스트 컴프리헨션을 사용하여 리스트의 각 홀수를 제곱하십시오. 리스트는 쉼표로 구분된 숫자 시퀀스로 입력됩니다._** >**_다음과 같은 입력이 프로그램에 제공된다고 가정합니다:_**\n",
    "\n",
    "\n",
    "1,2,3,4,5,6,7,8,9\n",
    "\n",
    "\n",
    "> **_그러면 출력은 다음과 같아야 합니다:_**\n",
    "\n",
    "\n",
    "1,9,25,49,81\n",
    "\n",
    "\n",
    "---\n",
    "\n",
    "### 힌트:\n",
    "\n",
    "> **_문제에 입력 데이터가 제공되는 경우 콘솔 입력으로 간주해야 합니다._**\n",
    "\n",
    "---\n",
    "\n",
    "\n",
    "\n",
    "**해결책:**"
   ]
  },
  {
   "cell_type": "code",
   "execution_count": null,
   "metadata": {},
   "outputs": [],
   "source": [
    "# 입력받은 문자열을 ',' 기준으로 나누고, 각 요소를 정수로 변환합니다.\n",
    "# 정수 i가 홀수이면 (i % 2 가 1, 즉 True), i의 제곱을 문자열로 변환하여 리스트에 추가합니다.\n",
    "squared_odds_list = [str(int(i) ** 2) for i in input().split(\",\") if int(i) % 2]\n",
    "print(\",\".join(squared_odds_list))"
   ]
  },
  {
   "cell_type": "markdown",
   "metadata": {},
   "source": [
    "---"
   ]
  },
  {
   "cell_type": "code",
   "execution_count": null,
   "metadata": {},
   "outputs": [],
   "source": [
    "\"\"\"shagun 제공 솔루션\"\"\"\n",
    "\n",
    "input_str_list = input().split(\",\")  # 쉼표 위치에서 분할하고 리스트에 설정합니다.\n",
    "\n",
    "sequence_squared_odds = []\n",
    "integer_list = [int(i) for i in input_str_list]  # 문자열을 정수로 변환합니다.\n",
    "for num in integer_list:\n",
    "    if num % 2 != 0: # 홀수이면\n",
    "        squared_num = num * num\n",
    "        sequence_squared_odds.append(squared_num)\n",
    "\n",
    "\n",
    "string_sequence = [\n",
    "    str(i) for i in sequence_squared_odds\n",
    "]  # join 연산을 적용할 수 있도록 모든 정수를 문자열로 변환합니다.\n",
    "print(\",\".join(string_sequence))"
   ]
  },
  {
   "cell_type": "markdown",
   "metadata": {},
   "source": [
    "---\n",
    "\n",
    "**_테스트 케이스와 솔루션에 실수가 있었는데 @dwedigital의 도움으로 알림을 받고 수정했습니다. 그에게 진심으로 감사합니다._**\n",
    "\n",
    "# 문제 17\n",
    "\n",
    "### **문제:**\n",
    "\n",
    "> **_콘솔 입력에서 트랜잭션 로그를 기반으로 은행 계좌의 순 금액을 계산하는 프로그램을 작성하십시오. 트랜잭션 로그 형식은 다음과 같습니다:_**\n",
    "\n",
    "```\n",
    "D 100\n",
    "W 200\n",
    "```\n",
    "\n",
    "- D는 입금을 의미하고 W는 출금을 의미합니다.\n",
    "\n",
    "> **_다음과 같은 입력이 프로그램에 제공된다고 가정합니다:_**\n",
    "\n",
    "```\n",
    "D 300\n",
    "D 300\n",
    "W 200\n",
    "D 100\n",
    "```\n",
    "\n",
    "> **_그러면 출력은 다음과 같아야 합니다:_**\n",
    "\n",
    "```\n",
    "500\n",
    "```\n",
    "\n",
    "---\n",
    "\n",
    "### 힌트:\n",
    "\n",
    "> **_문제에 입력 데이터가 제공되는 경우 콘솔 입력으로 간주해야 합니다._**\n",
    "\n",
    "---\n",
    "\n",
    "\n",
    "\n",
    "**해결책:**"
   ]
  },
  {
   "cell_type": "code",
   "execution_count": null,
   "metadata": {},
   "outputs": [],
   "source": [
    "total_amount = 0 # 변수명 total을 total_amount로 변경\n",
    "while True:\n",
    "    transaction_str = input().split() # 변수명 s를 transaction_str로 변경\n",
    "    if not transaction_str:  # 문자열이 비어 있으면 중단합니다.\n",
    "        break\n",
    "    # 두 개의 입력이 문자열 데이터 타입으로 command와 number_str에 분배됩니다.\n",
    "    command, number_str = map(str, transaction_str) \n",
    "\n",
    "    if command == \"D\":\n",
    "        total_amount += int(number_str)\n",
    "    if command == \"W\": # elif command == \"W\": 가 더 적절할 수 있습니다.\n",
    "        total_amount -= int(number_str)\n",
    "\n",
    "print(total_amount)"
   ]
  },
  {
   "cell_type": "markdown",
   "metadata": {},
   "source": [
    "---"
   ]
  },
  {
   "cell_type": "code",
   "execution_count": null,
   "metadata": {},
   "outputs": [],
   "source": [
    "\"\"\"leonedott 제공 솔루션\"\"\"\n",
    "\n",
    "transactions_list = [] # 변수명 lst를 transactions_list로 변경\n",
    "while True:\n",
    "    line_input = input() # 변수명 x를 line_input으로 변경\n",
    "    if len(line_input) == 0:\n",
    "        break\n",
    "    transactions_list.append(line_input)\n",
    "\n",
    "balance = 0\n",
    "for item in transactions_list:\n",
    "    if \"D\" in item: # 문자열에 'D'가 포함되어 있는지 확인 (더 정확하게는 item.startswith(\"D \") 사용 권장)\n",
    "        balance += int(item.strip(\"D \")) # \"D \"를 제거하고 정수로 변환\n",
    "    if \"W\" in item: # elif \"W\" in item: 이 더 적절할 수 있습니다.\n",
    "        balance -= int(item.strip(\"W \")) # \"W \"를 제거하고 정수로 변환\n",
    "print(balance)"
   ]
  },
  {
   "cell_type": "markdown",
   "metadata": {},
   "source": [
    "---"
   ]
  },
  {
   "cell_type": "code",
   "execution_count": null,
   "metadata": {},
   "outputs": [],
   "source": [
    "\"\"\"AlexanderSro 제공 솔루션\"\"\"\n",
    "\n",
    "account_balance = 0 # 변수명 account를 account_balance로 변경\n",
    "while True:\n",
    "    action = input(\"입금/출금/잔액/종료? D/W/B/Q: \").lower() # \"Deposit/Whitdrow/Balance/Quit? D/W/B/Q: \" 번역\n",
    "    if action == \"d\":\n",
    "        deposit_amount = input(\"얼마나 입금하시겠습니까? \") # \"How much would you like to deposit? \" 번역, 변수명 변경\n",
    "        account_balance = account_balance + int(deposit_amount)\n",
    "    elif action == \"w\":\n",
    "        withdrawal_amount = input(\"얼마나 출금하시겠습니까? \") # \"How much would you like to withdrow? \" 번역, 변수명 변경\n",
    "        account_balance = account_balance - int(withdrawal_amount)\n",
    "    elif action == \"b\":\n",
    "        print(account_balance)\n",
    "    else: # Q 또는 다른 입력 시 종료\n",
    "        quit()\n"
   ]
  },
  {
   "cell_type": "markdown",
   "metadata": {},
   "source": [
    "---"
   ]
  },
  {
   "cell_type": "code",
   "execution_count": null,
   "metadata": {},
   "outputs": [],
   "source": [
    "\"\"\"ShalomPrinz 제공 솔루션\n",
    "\"\"\"\n",
    "lines_input = [] # 변수명 lines를 lines_input으로 변경\n",
    "while True:\n",
    "    loop_input_str = input() # 변수명 loopInput을 loop_input_str로 변경\n",
    "    if loop_input_str.lower() == \"done\": # 소문자로 비교하여 'done', 'Done', 'DONE' 등 모두 처리\n",
    "        break\n",
    "    else:\n",
    "        lines_input.append(loop_input_str)\n",
    "\n",
    "# 각 라인 i에 대해, 첫 글자가 'D'이면 i[2:] (세 번째 문자부터 끝까지)를 정수로 변환하고,\n",
    "# 그렇지 않으면 (즉, 'W'이면) i[2:]를 정수로 변환한 후 음수로 만듭니다.\n",
    "amounts_list = list(int(i[2:]) if i[0].upper() == 'D' else -int(i[2:]) for i in lines_input)\n",
    "print(sum(amounts_list))"
   ]
  },
  {
   "cell_type": "markdown",
   "metadata": {},
   "source": [
    "---"
   ]
  }
 ],
 "metadata": {
  "kernelspec": {
   "display_name": "Python 3",
   "language": "python",
   "name": "python3"
  },
  "language_info": {
   "codemirror_mode": {
    "name": "ipython",
    "version": 3
   },
   "file_extension": ".py",
   "mimetype": "text/x-python",
   "name": "python",
   "nbconvert_exporter": "python",
   "pygments_lexer": "ipython3",
   "version": "3.7.6"
  }
 },
 "nbformat": 4,
 "nbformat_minor": 4
}
