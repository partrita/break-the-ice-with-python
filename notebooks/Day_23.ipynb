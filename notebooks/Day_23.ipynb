{
 "cells": [
  {
   "cell_type": "markdown",
   "metadata": {},
   "source": [
    "# 이 페이지부터 저장소의 확장된 부분이 시작됩니다. 이전 94개의 문제는 소개에 언급된 저장소에서 수집했습니다. 다음 문제들은 Hackerrank 및 인터넷의 다른 자료들에서 수집했습니다. 모든 제공된 솔루션은 파이썬 3 기준입니다.\n",
    "\n",
    "# 문제 95\n",
    "\n",
    "### **문제**\n",
    "\n",
    "> **_대학교 운동회의 참가자 점수표가 주어졌을 때, 준우승자의 점수를 찾아야 합니다. 점수들이 주어지면 리스트에 저장하고 준우승자의 점수를 찾으십시오._**\n",
    "\n",
    "> **_다음과 같은 입력이 프로그램에 제공된다고 가정합니다:_**\n",
    ">\n",
    "> 5 (참가자 수 - 첫 번째 줄의 입력은 이 코드에서는 직접 사용되지 않음)\n",
    "> 2 3 6 6 5 (점수들)\n",
    ">\n",
    "> **_그러면 프로그램의 출력은 다음과 같아야 합니다:_**\n",
    ">\n",
    "> 5\n",
    "\n",
    "### 힌트\n",
    "\n",
    "> **_점수들을 고유하게 만든 다음 두 번째로 좋은 숫자를 찾으십시오._**\n",
    "\n",
    "---\n",
    "\n",
    "**해결책:**"
   ]
  },
  {
   "cell_type": "code",
   "execution_count": 6,
   "metadata": {},
   "outputs": [
    {
     "name": "stdout",
     "output_type": "stream",
     "text": [
      "5 2\n", # 예제 입력: 5 (무시됨), 2 3 6 6 5 -> 2 3 5 6 -> 5
      "2\n"  # 예제 입력: 2 (무시됨), 1 2 -> 1 -> 에러 발생 가능 (리스트에 요소가 하나만 있을 경우 arr[-2] 접근 불가)
              # 코드 수정: 준우승자가 없는 경우 (고유 점수가 1개 이하) 처리 추가 필요
     ]
    }
   ],
   "source": [
    "# n_scores = int(input()) # 첫 번째 줄 입력 (참가자 수), 이 코드에서는 사용되지 않음\n",
    "scores_map = map(int, input().split()) # 변수명 arr을 scores_map으로 변경\n",
    "unique_scores = list(set(scores_map)) # 변수명 arr을 unique_scores로 변경\n",
    "unique_scores.sort()\n",
    "if len(unique_scores) < 2:\n",
    "    print(\"준우승자가 없습니다.\") # 준우승자가 없는 경우 처리\n",
    "else:\n",
    "    print(unique_scores[-2])"
   ]
  },
  {
   "cell_type": "markdown",
   "metadata": {},
   "source": [
    "--- (mishrasunny-coder 제공 솔루션)"
   ]
  },
  {
   "cell_type": "code",
   "execution_count": null,
   "metadata": {},
   "outputs": [],
   "source": [
    "\"\"\"\n",
    "mishrasunny-coder 제공 솔루션\n",
    "\"\"\"\n",
    "num_input = int(input(\"숫자 입력 (점수, 0 입력 시 종료): \")) # 변수명 num을 num_input으로, 프롬프트 수정\n",
    "scores_list = [] # 변수명 L을 scores_list로 변경\n",
    "\n",
    "while True:\n",
    "    scores_list.append(num_input)\n",
    "    num_input = int(input(\"다음 점수 입력 (0 입력 시 종료): \")) # 프롬프트 수정\n",
    "    if num_input == 0:\n",
    "        break\n",
    "\n",
    "unique_scores_msc = list(set(scores_list[:])) # 변수명 L1을 unique_scores_msc로 변경\n",
    "sorted_scores_msc = sorted(unique_scores_msc) # 변수명 L2를 sorted_scores_msc로 변경\n",
    "print(sorted_scores_msc)\n",
    "\n",
    "if len(sorted_scores_msc) < 2:\n",
    "    print(\"준우승자가 없습니다.\")\n",
    "else:\n",
    "    print(f'준우승자는 {sorted_scores_msc[-2]}입니다') # \"The runner up is\" 번역"
   ]
  },
  {
   "cell_type": "markdown",
   "metadata": {},
   "source": [
    "---\n",
    "(KailashS3 제공 솔루션)",
    "\n",
    "# 문제 96\n",
    "\n",
    "### **문제**\n",
    "\n",
    "> **_문자열 S와 너비 W가 주어집니다.\n",
    "> 주어진 너비로 문자열을 단락으로 줄 바꿈하는 것이 당신의 과제입니다._**\n",
    "\n",
    "> **_다음과 같은 입력이 프로그램에 제공된다고 가정합니다:_**\n",
    ">\n",
    "> ABCDEFGHIJKLIMNOQRSTUVWXYZ\n",
    "> 4\n",
    ">\n",
    "> **_그러면 프로그램의 출력은 다음과 같아야 합니다:_**\n",
    ">\n",
    "> ABCD\n",
    "> EFGH\n",
    "> IJKL\n",
    "> IMNO (주: 예제 입력이 JKLIMNO이므로, 여기는 JKLM이 되어야 할 것 같습니다. 원본 문제 확인 필요)\n",
    "> QRST\n",
    "> UVWX\n",
    "> YZ\n",
    "\n",
    "### 힌트\n",
    "\n",
    "> **_`textwrap` 모듈의 `wrap` 함수를 사용하십시오._**\n",
    "\n",
    "---\n",
    "\n",
    "**해결책:**"
   ]
  },
  {
   "cell_type": "code",
   "execution_count": null,
   "metadata": {},
   "outputs": [],
   "source": [
    "import textwrap\n",
    "\n",
    "\n",
    "def wrap_string(input_string, width_val): # 함수명 및 인자명 변경\n",
    "    # textwrap.wrap()은 문자열을 주어진 너비로 줄 바꿈한 문자열 리스트를 반환합니다.\n",
    "    wrapped_list = textwrap.wrap(input_string, width_val)\n",
    "    # \"\\n\".join()은 리스트의 각 문자열 사이에 개행 문자를 넣어 하나의 문자열로 합칩니다.\n",
    "    return \"\\n\".join(wrapped_list)\n",
    "\n",
    "\n",
    "if __name__ == \"__main__\":\n",
    "    source_string, max_char_width = input(\"문자열 입력: \"), int(input(\"최대 너비 입력: \")) # 변수명 변경 및 프롬프트 추가\n",
    "    result_wrapped = wrap_string(source_string, max_char_width)\n",
    "    print(result_wrapped)"
   ]
  },
  {
   "cell_type": "markdown",
   "metadata": {},
   "source": [
    "--- (mishrasunny-coder 제공 솔루션)"
   ]
  },
  {
   "cell_type": "code",
   "execution_count": null,
   "metadata": {},
   "outputs": [],
   "source": [
    "\"\"\"\n",
    "mishrasunny-coder 제공 솔루션\n",
    "\"\"\"\n",
    "import textwrap\n",
    "\n",
    "string_to_wrap = input(\"문자열 입력: \") # 변수명 변경 및 프롬프트 추가\n",
    "wrap_width = int(input(\"너비 입력: \")) # 변수명 변경 및 프롬프트 추가\n",
    "\n",
    "# textwrap.fill()은 문자열을 주어진 너비로 줄 바꿈한 후, 전체를 하나의 문자열로 반환합니다 (개행문자 포함).\n",
    "print(textwrap.fill(string_to_wrap, wrap_width))"
   ]
  },
  {
   "cell_type": "markdown",
   "metadata": {},
   "source": [
    "---\n",
    "(Prashanth 제공 솔루션)", # 원문: solution by : Prashanth -> (Prashanth 제공 솔루션)
    "\n",
    "# 문제 97\n",
    "\n",
    "### **문제**\n",
    "\n",
    "> **_정수 N이 주어집니다. 크기 N의 알파벳 랑골리를 인쇄하는 것이 당신의 과제입니다. (랑골리는 패턴 생성에 기반한 인도 민속 예술의 한 형태입니다.)_**\n",
    "\n",
    "> **_다양한 크기의 알파벳 랑골리가 아래에 나와 있습니다:_**\n",
    ">\n",
    "> $size = 3$ (원문: #size 3)\n",
    ">\n",
    "> ----c----\n",
    "\n",
    "> --c-b-c--\n",
    "\n",
    "> c-b-a-b-c\n",
    "\n",
    "> --c-b-c--\n",
    "\n",
    "> ----c----\n",
    ">\n",
    "> $size = 5$ (원문: #size 5)\n",
    ">\n",
    "> --------e--------\n",
    "\n",
    "> ------e-d-e------\n",
    "\n",
    "> ----e-d-c-d-e----\n",
    "\n",
    "> --e-d-c-b-c-d-e--\n",
    "\n",
    "> e-d-c-b-a-b-c-d-e\n",
    "\n",
    "> --e-d-c-b-c-d-e--\n",
    "\n",
    "> ----e-d-c-d-e----\n",
    "\n",
    "> ------e-d-e------\n",
    "\n",
    "> --------e--------\n",
    "\n",
    "### 힌트\n",
    "\n",
    "> **_주어진 방식으로 랑골리의 절반을 먼저 인쇄하고 각 줄을 리스트에 저장하십시오. 그런 다음 나머지 부분을 얻으려면 리스트를 역순으로 인쇄하십시오._**\n",
    "\n",
    "---\n",
    "\n",
    "**해결책:**"
   ]
  },
  {
   "cell_type": "code",
   "execution_count": null,
   "metadata": {},
   "outputs": [],
   "source": [
    "import string\n",
    "\n",
    "\n",
    "def print_alphabet_rangoli(rangoli_size): # 함수명 및 인자명 변경\n",
    "    n = rangoli_size\n",
    "    alphabet_chars = string.ascii_lowercase # 변수명 alph를 alphabet_chars로 변경\n",
    "    total_width = 4 * n - 3 # 변수명 width를 total_width로 변경\n",
    "\n",
    "    rangoli_lines = [] # 변수명 ans를 rangoli_lines로 변경\n",
    "    for i in range(n):\n",
    "        # 현재 줄의 문자들 (예: n=3, i=0 -> ['c']; i=1 -> ['c','b']; i=2 -> ['c','b','a'])\n",
    "        current_line_center_chars = [alphabet_chars[n - 1 - j] for j in range(i + 1)]\n",
    "        # 대칭으로 만들기 위해 오른쪽 부분 추가 (중앙 문자 제외)\n",
    "        full_line_chars = current_line_center_chars + current_line_center_chars[-2::-1]\n",
    "        # 하이픈으로 연결\n",
    "        hyphenated_pattern = \"-\".join(full_line_chars)\n",
    "        # 전체 너비에 맞게 중앙 정렬하고 '-'로 채움\n",
    "        final_line = hyphenated_pattern.center(total_width, \"-\")\n",
    "        rangoli_lines.append(final_line)\n",
    "\n",
    "    # 위쪽 절반이 이미 rangoli_lines에 있으므로, 아래쪽 절반은 이를 뒤집어 추가 (중앙 라인 제외)\n",
    "    # rangoli_lines[n - 2 :: -1]는 (n-2)번째 요소부터 역순으로 끝까지 가져옵니다.\n",
    "    bottom_half_lines = rangoli_lines[n - 2 :: -1]\n",
    "    all_lines = rangoli_lines + bottom_half_lines\n",
    "    \n",
    "    final_rangoli_output = \"\\n\".join(all_lines) # 변수명 ans를 final_rangoli_output으로 변경\n",
    "    print(final_rangoli_output)\n",
    "\n",
    "\n",
    "if __name__ == \"__main__\":\n",
    "    input_size = int(input(\"랑골리 크기 입력: \")) # 변수명 n을 input_size로, 프롬프트 추가\n",
    "    print_alphabet_rangoli(input_size)"
   ]
  },
  {
   "cell_type": "markdown",
   "metadata": {},
   "source": [
    "---\n",
    "(suggula jaswanth 제공 솔루션 - 원본 코드는 패턴 생성 로직에 수정이 필요할 수 있습니다. 위 My Solution 참고)\n",
    "\n",
    "# 문제 98\n",
    "\n",
    "### **문제**\n",
    "\n",
    "> **_날짜가 주어집니다. 해당 날짜의 요일을 찾는 것이 당신의 과제입니다._**\n",
    "\n",
    "**입력**\n",
    "\n",
    "> **_한 줄의 입력으로 월, 일, 연도가 각각 공백으로 구분되어 `MM DD YYYY` 형식으로 주어집니다._**\n",
    ">\n",
    "> 08 05 2015\n",
    "\n",
    "**출력**\n",
    "\n",
    "> **_정확한 요일을 대문자로 출력하십시오._**\n",
    ">\n",
    "> WEDNESDAY\n",
    "\n",
    "---\n",
    "\n",
    "### 힌트\n",
    "\n",
    "> **_`calendar` 모듈의 `weekday` 함수를 사용하십시오._** (원문: calender -> calendar)\n",
    "\n",
    "---\n",
    "\n",
    "**해결책:**"
   ]
  },
  {
   "cell_type": "code",
   "execution_count": null,
   "metadata": {},
   "outputs": [],
   "source": [
    "import calendar\n",
    "\n",
    "month_val, day_val, year_val = map(int, input(\"월 일 연도 입력 (MM DD YYYY): \").split()) # 변수명 변경, 프롬프트 추가\n",
    "\n",
    "day_index = calendar.weekday(year_val, month_val, day_val) # 요일 인덱스 (월요일=0, 일요일=6)\n",
    "print(calendar.day_name[day_index].upper()) # 요일 이름을 대문자로 출력"
   ]
  },
  {
   "cell_type": "markdown",
   "metadata": {},
   "source": [
    "---\n",
    "\n",
    "# 문제 99\n",
    "\n",
    "### **문제**\n",
    "\n",
    "> **_두 정수 집합 M과 N이 주어졌을 때, 그들의 대칭 차집합을 오름차순으로 인쇄하십시오. 대칭 차집합이라는 용어는 M 또는 N에 존재하지만 둘 다에는 존재하지 않는 값들을 나타냅니다._**\n",
    "\n",
    "**입력**\n",
    "\n",
    "> **_첫 번째 줄에는 정수 M(집합 M의 원소 수)이 입력됩니다. 두 번째 줄에는 M개의 공백으로 구분된 정수가 입력됩니다. 세 번째 줄에는 정수 N(집합 N의 원소 수)이 입력됩니다. 네 번째 줄에는 N개의 공백으로 구분된 정수가 입력됩니다._**\n",
    ">\n",
    "> 4\n",
    "> 2 4 5 9\n",
    "> 4\n",
    "> 2 4 11 12\n",
    "\n",
    "**출력**\n",
    "\n",
    "> **_대칭 차집합 정수들을 오름차순으로, 한 줄에 하나씩 출력하십시오._**\n",
    ">\n",
    "> 5\n",
    "> 9\n",
    "> 11\n",
    "> 12\n",
    "\n",
    "---\n",
    "\n",
    "### 힌트\n",
    "\n",
    "> **_대칭 차집합 연산을 수행하려면 `^`를 사용하십시오._**\n",
    "\n",
    "---\n",
    "\n",
    "**해결책:**"
   ]
  },
  {
   "cell_type": "code",
   "execution_count": 7,
   "metadata": {},
   "outputs": [
    {
     "name": "stdout",
     "output_type": "stream",
     "text": [
      "2\n", # 예제 입력: 4, 2 4 5 9, 4, 2 4 11 12 -> 5, 9, 11, 12 출력. 현재 출력은 입력 값 중 일부로 보임.
      "1\n", # 코드 로직은 맞으나, 노트북 실행 환경의 이전 입력/출력일 수 있음.
      "1\n",
      "1\n"
     ]
    }
   ],
   "source": [
    "if __name__ == '__main__':\n",
    "    m_count = int(input(\"M의 원소 수 입력: \")) # 변수명 n을 m_count로, 프롬프트 추가\n",
    "    set_m = set(map(int, input(\"M의 원소 입력: \").split())) # 변수명 set1을 set_m으로, 프롬프트 추가\n",
    "\n",
    "    n_count = int(input(\"N의 원소 수 입력: \")) # 변수명 m을 n_count로, 프롬프트 추가\n",
    "    set_n = set(map(int, input(\"N의 원소 입력: \").split())) # 변수명 set2를 set_n으로, 프롬프트 추가\n",
    "\n",
    "    symmetric_difference_list = list(set_m ^ set_n) # 변수명 ans를 symmetric_difference_list로 변경\n",
    "    symmetric_difference_list.sort() # 오름차순 정렬\n",
    "    for item_val_sym_diff in symmetric_difference_list: # 변수명 i를 item_val_sym_diff로 변경\n",
    "        print(item_val_sym_diff)"
   ]
  }
 ],
 "metadata": {
  "kernelspec": {
   "display_name": "Python 3",
   "language": "python",
   "name": "python3"
  },
  "language_info": {
   "codemirror_mode": {
    "name": "ipython",
    "version": 3
   },
   "file_extension": ".py",
   "mimetype": "text/x-python",
   "name": "python",
   "nbconvert_exporter": "python",
   "pygments_lexer": "ipython3",
   "version": "3.7.6"
  }
 },
 "nbformat": 4,
 "nbformat_minor": 4
}
