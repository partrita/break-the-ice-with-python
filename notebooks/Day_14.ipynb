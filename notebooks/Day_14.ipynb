{
 "cells": [
  {
   "cell_type": "markdown",
   "metadata": {},
   "source": [
    "# 문제 51\n",
    "\n",
    "### **문제**\n",
    "\n",
    "> **_5/0을 계산하는 함수를 작성하고 try/except를 사용하여 예외를 처리하십시오._**\n",
    "\n",
    "---\n",
    "\n",
    "### 힌트\n",
    "\n",
    "> **_try/except를 사용하여 예외를 처리하십시오._**\n",
    "\n",
    "---\n",
    "\n",
    "**해결책:**"
   ]
  },
  {
   "cell_type": "code",
   "execution_count": null,
   "metadata": {},
   "outputs": [],
   "source": [
    "def divide_by_zero(): # 함수명 변경\n",
    "    return 5 / 0\n",
    "\n",
    "\n",
    "try:\n",
    "    divide_by_zero()\n",
    "except ZeroDivisionError as ze: # 0으로 나누기 예외를 ze 변수로 받음\n",
    "    print(\"왜 숫자를 0으로 나누려고 하십니까!!\") # \"Why on earth you are dividing a number by ZERO!!\" 번역\n",
    "except Exception as e: # 다른 모든 예외를 e 변수로 받음 (구체적인 예외 처리가 더 좋음)\n",
    "    print(f\"다른 예외 발생: {e}\") # \"Any other exception\"을 더 구체적으로 변경"
   ]
  },
  {
   "cell_type": "markdown",
   "metadata": {},
   "source": [
    "---\n",
    "\n",
    "# 문제 52\n",
    "\n",
    "### **문제**\n",
    "\n",
    "> **_문자열 메시지를 속성으로 사용하는 사용자 정의 예외 클래스를 정의하십시오._**\n",
    "\n",
    "---\n",
    "\n",
    "### 힌트\n",
    "\n",
    "> **_사용자 정의 예외를 정의하려면 `Exception`에서 상속받은 클래스를 정의해야 합니다._**\n",
    "\n",
    "---\n",
    "\n",
    "**해결책:**"
   ]
  },
  {
   "cell_type": "code",
   "execution_count": null,
   "metadata": {},
   "outputs": [],
   "source": [
    "class MyCustomError(Exception): # 클래스명 변경\n",
    "    \"\"\"사용자 정의 목적을 위해 발생하는 예외\n",
    "\n",
    "    속성:\n",
    "        message -- 오류 설명\n",
    "    \"\"\"\n",
    "\n",
    "    def __init__(self, message):\n",
    "        self.message = message\n",
    "        super().__init__(self.message) # 부모 Exception 클래스의 생성자 호출\n",
    "\n",
    "try:\n",
    "    num_input = int(input(\"숫자를 입력하세요: \")) # 변수명 num을 num_input으로, 프롬프트 추가\n",
    "    if num_input < 10:\n",
    "        raise MyCustomError(\"입력값이 10보다 작습니다\") # \"Input is less than 10\" 번역\n",
    "    elif num_input > 10:\n",
    "        raise MyCustomError(\"입력값이 10보다 큽니다\") # \"Input is grater than 10\" 번역 (grater -> greater 오타 수정 고려)\n",
    "    else:\n",
    "        print(\"입력값은 10입니다.\")\n",
    "except MyCustomError as ce:\n",
    "    print(\"발생한 오류: \" + ce.message) # \"The error raised: \" 번역\n",
    "except ValueError: # 정수가 아닌 값 입력 시 처리\n",
    "    print(\"잘못된 입력입니다. 정수를 입력해주세요.\")"
   ]
  },
  {
   "cell_type": "markdown",
   "metadata": {},
   "source": [
    "---\n",
    "\n",
    "# 문제 53\n",
    "\n",
    "### **문제**\n",
    "\n",
    "> **_\"username@companyname.com\" 형식의 이메일 주소가 있다고 가정하고, 주어진 이메일 주소의 사용자 이름을 인쇄하는 프로그램을 작성하십시오. 사용자 이름과 회사 이름은 모두 문자로만 구성됩니다._**\n",
    "\n",
    "> **_예시:\n",
    "> 다음 이메일 주소가 프로그램에 입력으로 주어지면:\n", # 원문 형식 유지하며 번역
    "\n",
    "> john@google.com\n",
    "\n",
    "> **_그러면 프로그램의 출력은 다음과 같아야 합니다:_**\n",
    "\n",
    "> john\n",
    "\n",
    "> **_문제에 입력 데이터가 제공되는 경우 콘솔 입력으로 간주해야 합니다._**\n",
    "\n",
    "---\n",
    "\n",
    "### 힌트\n",
    "\n",
    "> **_`\\w`를 사용하여 문자와 일치시킵니다._** (정규 표현식에서 `\\w`는 영숫자 문자 + 밑줄을 의미합니다.)\n",
    "\n",
    "---\n",
    "\n",
    "**해결책:**"
   ]
  },
  {
   "cell_type": "code",
   "execution_count": null,
   "metadata": {},
   "outputs": [],
   "source": [
    "email_address = \"john@google.com\" # 변수명 email을 email_address로 변경\n",
    "username_part = email_address.split(\"@\")[0] # '@'를 기준으로 나누고 첫 번째 요소(사용자 이름) 선택, 변수명 변경\n",
    "print(username_part)"
   ]
  },
  {
   "cell_type": "markdown",
   "metadata": {},
   "source": [
    "---\n",
    "\n",
    "**또는** (정규 표현식 사용)"
   ]
  },
  {
   "cell_type": "code",
   "execution_count": null,
   "metadata": {},
   "outputs": [],
   "source": [
    "import re\n",
    "\n",
    "email_addresses_str = \"john@google.com elise@python.com\" # 변수명 email을 email_addresses_str로 변경\n",
    "# 정규 표현식 패턴: (\\w+)는 사용자 이름 그룹, @ 뒤에는 \\w+.com (회사 이름과 .com)\n",
    "# \\.은 실제 점(.) 문자와 일치하도록 이스케이프 처리합니다.\n",
    "pattern = r\"(\\w+)@\\w+\\.com\" # 'r'을 사용하여 raw string으로 지정\n",
    "usernames_found = re.findall(pattern, email_addresses_str) # 패턴과 일치하는 모든 사용자 이름을 찾아 리스트로 반환, 변수명 변경\n",
    "print(usernames_found) # 예: ['john', 'elise']"
   ]
  },
  {
   "cell_type": "markdown",
   "metadata": {},
   "source": [
    "---"
   ]
  }
 ],
 "metadata": {
  "kernelspec": {
   "display_name": "Python 3",
   "language": "python",
   "name": "python3"
  },
  "language_info": {
   "codemirror_mode": {
    "name": "ipython",
    "version": 3
   },
   "file_extension": ".py",
   "mimetype": "text/x-python",
   "name": "python",
   "nbconvert_exporter": "python",
   "pygments_lexer": "ipython3",
   "version": "3.7.6"
  }
 },
 "nbformat": 4,
 "nbformat_minor": 4
}
