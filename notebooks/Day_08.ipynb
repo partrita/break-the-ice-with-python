{
 "cells": [
  {
   "cell_type": "markdown",
   "metadata": {},
   "source": [
    "# 문제 22\n",
    "\n",
    "### **문제:**\n",
    "\n",
    "> **_입력으로부터 단어의 빈도를 계산하는 프로그램을 작성하십시오. 출력은 키를 영숫자순으로 정렬한 후 출력해야 합니다._**\n",
    "\n",
    "> **_다음과 같은 입력이 프로그램에 제공된다고 가정합니다:_**\n",
    "\n",
    "\n",
    "New to Python or choosing between Python 2 and Python 3? Read Python 2 or Python 3.\n",
    "\n",
    "\n",
    "> **_그러면 출력은 다음과 같아야 합니다:_** (주: 실제 출력 순서는 딕셔너리 구현 및 정렬 방식에 따라 다를 수 있으나, 문제에서는 키의 영숫자순 정렬을 요구합니다.)\n",
    "\n",
    "```\n",
    "2:2\n",
    "3.:1\n",
    "3?:1\n",
    "New:1\n",
    "Python:5\n",
    "Read:1\n",
    "and:1\n",
    "between:1\n",
    "choosing:1\n",
    "or:2\n",
    "to:1\n",
    "```\n",
    "\n",
    "---\n",
    "\n",
    "### 힌트\n",
    "\n",
    "> **_문제에 입력 데이터가 제공되는 경우 콘솔 입력으로 간주해야 합니다._**\n",
    "\n",
    "---\n",
    "\n",
    "\n",
    "\n",
    "**해결책:**"
   ]
  },
  {
   "cell_type": "code",
   "execution_count": null,
   "metadata": {},
   "outputs": [],
   "source": [
    "input_string = input().split() # 변수명 ss를 input_string으로 변경\n",
    "unique_sorted_words = sorted(set(input_string))  # 분리된 단어는 set으로 중복 제거 후 정렬됩니다.\n",
    "\n",
    "for word_item in unique_sorted_words: # 변수명 i를 word_item으로 변경\n",
    "    print(\"{0}:{1}\".format(word_item, input_string.count(word_item))) # 각 단어와 해당 단어의 빈도수 출력"
   ]
  },
  {
   "cell_type": "markdown",
   "metadata": {},
   "source": [
    "**또는** (딕셔너리 setdefault 사용)"
   ]
  },
  {
   "cell_type": "code",
   "execution_count": null,
   "metadata": {},
   "outputs": [],
   "source": [
    "input_string_dict = input().split() # 변수명 ss를 input_string_dict로 변경\n",
    "word_counts_dict = {} # 변수명 dict를 word_counts_dict로 변경 (dict는 내장 타입과 충돌)\n",
    "for word_item_dict in input_string_dict: # 변수명 i를 word_item_dict로 변경\n",
    "    # setdefault() 함수는 키와 값을 받아 딕셔너리에 설정합니다.\n",
    "    # 키가 이미 있으면 기존 값을 반환하고, 없으면 기본값(여기서는 input_string_dict.count(word_item_dict))으로 설정 후 해당 값을 반환합니다.\n",
    "    # 이 방식은 각 단어에 대해 count를 반복 호출하므로 비효율적일 수 있습니다.\n",
    "    word_counts_dict.setdefault(word_item_dict, input_string_dict.count(word_item_dict))\n",
    "\n",
    "sorted_word_counts = sorted(\n",
    "    word_counts_dict.items()\n",
    ")  # items() 함수는 딕셔너리의 (키, 값) 쌍을 리스트로 반환한 다음 정렬합니다.\n",
    "# 정렬은 기본적으로 첫 번째 키(단어) -> 두 번째 키(빈도수) 순서로 수행됩니다.\n",
    "for item in sorted_word_counts: # 변수명 i를 item으로 변경\n",
    "    print(\"%s:%d\" % (item[0], item[1]))"
   ]
  },
  {
   "cell_type": "markdown",
   "metadata": {},
   "source": [
    "**또는** (딕셔너리 컴프리헨션 사용 - 비효율적일 수 있음)"
   ]
  },
  {
   "cell_type": "code",
   "execution_count": null,
   "metadata": {},
   "outputs": [],
   "source": [
    "input_string_comp = input().split() # 변수명 ss를 input_string_comp로 변경\n",
    "# 딕셔너리를 설정합니다: i -> 분리된 단어, input_string_comp.count(i) -> input_string_comp에서 i의 총 등장 횟수\n",
    "# 이 방식도 각 i에 대해 count를 호출하므로 큰 입력에 대해 비효율적입니다.\n",
    "word_counts_comp = {\n",
    "    i: input_string_comp.count(i) for i in input_string_comp\n",
    "}  \n",
    "sorted_word_counts_comp = sorted(\n",
    "    word_counts_comp.items()\n",
    ")  # items() 함수는 딕셔너리의 (키, 값) 쌍을 리스트로 반환한 다음 정렬합니다.\n",
    "# 정렬은 기본적으로 첫 번째 키 -> 두 번째 키 순서로 수행됩니다.\n",
    "for item_comp in sorted_word_counts_comp: # 변수명 i를 item_comp로 변경\n",
    "    print(\"%s:%d\" % (item_comp[0], item_comp[1]))"
   ]
  },
  {
   "cell_type": "markdown",
   "metadata": {},
   "source": [
    "**또는** (collections.Counter 사용 - 효율적)"
   ]
  },
  {
   "cell_type": "code",
   "execution_count": null,
   "metadata": {},
   "outputs": [],
   "source": [
    "from collections import Counter\n",
    "\n",
    "input_string_counter = input().split() # 변수명 ss를 input_string_counter로 변경\n",
    "word_counts_counter = Counter(input_string_counter)  # 키와 빈도수를 딕셔너리 형태로 반환합니다 (Counter 객체).\n",
    "sorted_word_counts_counter = sorted(word_counts_counter.items())  # (단어, 빈도수) 튜플 리스트로 변환 후 정렬합니다.\n",
    "\n",
    "for item_counter in sorted_word_counts_counter: # 변수명 i를 item_counter로 변경\n",
    "    print(\"%s:%d\" % (item_counter[0], item_counter[1]))"
   ]
  },
  {
   "cell_type": "markdown",
   "metadata": {},
   "source": [
    "**AnjanKumarG 제공 솔루션** (pprint 사용)"
   ]
  },
  {
   "cell_type": "code",
   "execution_count": null,
   "metadata": {},
   "outputs": [],
   "source": [
    "from pprint import pprint # pprint는 \"pretty print\"의 약자로, 복잡한 자료구조를 사람이 읽기 쉽게 출력합니다.\n",
    "\n",
    "p_input = input().split() # 변수명 p를 p_input으로 변경\n",
    "# 각 단어 i를 키로, p_input.count(i) (단어의 빈도)를 값으로 하는 딕셔너리를 생성하여 예쁘게 출력합니다.\n",
    "# 이 방식도 count를 반복 호출하므로 비효율적일 수 있습니다. 정렬도 적용되지 않습니다.\n",
    "pprint({i: p_input.count(i) for i in p_input})"
   ]
  },
  {
   "cell_type": "markdown",
   "metadata": {},
   "source": [
    "---\n",
    "\n",
    "# 문제 23\n",
    "\n",
    "### **문제:**\n",
    "\n",
    "> **_숫자의 제곱 값을 계산할 수 있는 메소드를 작성하십시오._**\n",
    "\n",
    "---\n",
    "\n",
    "### 힌트:\n",
    "\n",
    "\n",
    "** 연산자를 사용하며, n**p는 n^p를 의미합니다.\n",
    "\n",
    "\n",
    "---\n",
    "\n",
    "\n",
    "\n",
    "**해결책:**"
   ]
  },
  {
   "cell_type": "code",
   "execution_count": null,
   "metadata": {},
   "outputs": [],
   "source": [
    "num_input = int(input()) # 변수명 n을 num_input으로 변경\n",
    "print(num_input ** 2)"
   ]
  },
  {
   "cell_type": "markdown",
   "metadata": {},
   "source": [
    "---\n",
    "\n",
    "# 문제 24\n",
    "\n",
    "### **문제:**\n",
    "\n",
    "> **_파이썬에는 많은 내장 함수가 있으며, 사용 방법을 모르는 경우 온라인 문서를 읽거나 책을 찾을 수 있습니다. 하지만 파이썬에는 모든 내장 함수에 대한 내장 문서 기능이 있습니다._**\n",
    "\n",
    "> **_abs(), int(), raw_input() (Python 2)과 같은 일부 파이썬 내장 함수 문서를 인쇄하는 프로그램을 작성하십시오._**\n",
    "\n",
    "> **_그리고 사용자 정의 함수에 대한 문서도 추가하십시오._**\n",
    "\n",
    "### 힌트:\n",
    "\n",
    "\n",
    "내장 문서 메소드는 __doc__입니다.\n",
    "\n",
    "\n",
    "---\n",
    "\n",
    "\n",
    "\n",
    "**해결책:**"
   ]
  },
  {
   "cell_type": "code",
   "execution_count": null,
   "metadata": {},
   "outputs": [],
   "source": [
    "print(str.__doc__)\n",
    "print(sorted.__doc__)\n",
    "# print(input.__doc__) # Python 3의 input()에 대한 문서\n",
    "\n",
    "def power_func(base, exponent): # 함수명 pow를 power_func로 변경 (pow는 내장 함수와 충돌)\n",
    "    \"\"\"\n",
    "    매개변수 base: 임의의 정수입니다. (원문: param n)\n",
    "    매개변수 exponent: base에 대한 거듭제곱입니다. (원문: param p)\n",
    "    반환 값: base의 exponent 거듭제곱 = base^exponent (원문: n to the power p = n^p)\n",
    "    \"\"\"\n",
    "\n",
    "    return base ** exponent\n",
    "\n",
    "\n",
    "print(power_func(3, 4))\n",
    "print(power_func.__doc__)"
   ]
  },
  {
   "cell_type": "markdown",
   "metadata": {},
   "source": [
    "---\n",
    "\n",
    "# 문제 25\n",
    "\n",
    "### **문제:**\n",
    "\n",
    "> **_클래스 매개변수를 가지고 동일한 인스턴스 매개변수를 갖는 클래스를 정의하십시오._**\n",
    "\n",
    "---\n",
    "\n",
    "### 힌트:\n",
    "\n",
    "\n",
    "인스턴스 매개변수를 정의하려면 __init__ 메소드에 추가해야 합니다. 생성자 매개변수로 객체를 초기화하거나 나중에 값을 설정할 수 있습니다.\n",
    "\n",
    "\n",
    "---\n",
    "\n",
    "\n",
    "\n",
    "**해결책:**"
   ]
  },
  {
   "cell_type": "code",
   "execution_count": 2,
   "metadata": {},
   "outputs": [
    {
     "name": "stdout",
     "output_type": "stream",
     "text": [
      "Car name is Honda\n", # 클래스 이름 Car와 인스턴스 이름 Honda 출력
      "Car name is Toyota\n" # 클래스 이름 Car와 인스턴스 이름 Toyota 출력
     ]
    }
   ],
   "source": [
    "class Car:\n",
    "    # 클래스 변수 (모든 인스턴스가 공유)\n",
    "    name = \"Car\" \n",
    "\n",
    "    def __init__(self, name=None):\n",
    "        # 인스턴스 변수 (각 인스턴스에 고유)\n",
    "        # 생성 시 name이 주어지면 해당 값을, 아니면 클래스 변수 Car.name을 사용 (또는 None을 유지)\n",
    "        # 문제의 의도는 '동일한 인스턴스 매개변수'이므로, 인스턴스별로 다른 이름을 가질 수 있도록 self.name을 사용합니다.\n",
    "        # 만약 생성자에서 name 인자가 없으면 self.name은 None이 됩니다.\n",
    "        self.name = name \n",
    "\n",
    "\n",
    "honda = Car(\"Honda\") # honda.name은 \"Honda\"\n",
    "print(f\"{Car.name} name is {honda.name}\")\n",
    "\n",
    "toyota = Car() # toyota.name은 None으로 초기화됨\n",
    "toyota.name = \"Toyota\" # 인스턴스 변수 toyota.name을 \"Toyota\"로 설정\n",
    "print(f\"{Car.name} name is {toyota.name}\")"
   ]
  },
  {
   "cell_type": "markdown",
   "metadata": {},
   "source": [
    "---"
   ]
  }
 ],
 "metadata": {
  "kernelspec": {
   "display_name": "Python 3",
   "language": "python",
   "name": "python3"
  },
  "language_info": {
   "codemirror_mode": {
    "name": "ipython",
    "version": 3
   },
   "file_extension": ".py",
   "mimetype": "text/x-python",
   "name": "python",
   "nbconvert_exporter": "python",
   "pygments_lexer": "ipython3",
   "version": "3.7.6"
  }
 },
 "nbformat": 4,
 "nbformat_minor": 4
}
