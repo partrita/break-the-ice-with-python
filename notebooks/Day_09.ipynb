{
 "cells": [
  {
   "cell_type": "markdown",
   "metadata": {},
   "source": [
    "# 문제 26\n",
    "\n",
    "### **문제:**\n",
    "\n",
    "> **_두 숫자의 합을 계산할 수 있는 함수를 정의하십시오._**\n",
    "\n",
    "---\n",
    "\n",
    "### 힌트:\n",
    "\n",
    "> **_두 숫자를 인수로 사용하는 함수를 정의하십시오. 함수 내에서 합계를 계산하고 값을 반환할 수 있습니다._**\n",
    "\n",
    "---\n",
    "\n",
    "\n",
    "\n",
    "**해결책:**"
   ]
  },
  {
   "cell_type": "code",
   "execution_count": null,
   "metadata": {},
   "outputs": [],
   "source": [
    "# 'sum_lambda'와 같이 변수명을 변경하여 내장 함수 'sum'과의 충돌을 피하는 것이 좋습니다.\n",
    "calculate_sum = lambda n1, n2: n1 + n2  # 여기서 람다는 합계와 같은 간단한 함수를 정의하는 데 사용됩니다.\n",
    "print(calculate_sum(1, 2))"
   ]
  },
  {
   "cell_type": "markdown",
   "metadata": {},
   "source": [
    "---\n",
    "\n",
    "# 문제 27\n",
    "\n",
    "### **문제:**\n",
    "\n",
    "> **_정수를 문자열로 변환하여 콘솔에 인쇄할 수 있는 함수를 정의하십시오._**\n",
    "\n",
    "---\n",
    "\n",
    "### 힌트:\n",
    "\n",
    "> **_str()을 사용하여 숫자를 문자열로 변환하십시오._**\n",
    "\n",
    "---\n",
    "\n",
    "\n",
    "\n",
    "**해결책:**"
   ]
  },
  {
   "cell_type": "code",
   "execution_count": null,
   "metadata": {},
   "outputs": [],
   "source": [
    "convert_to_string = lambda x: str(x) # 변수명 conv를 convert_to_string으로 변경\n",
    "num_as_string = convert_to_string(10) # 변수명 n을 num_as_string으로 변경\n",
    "print(num_as_string)\n",
    "print(type(num_as_string))  # 변수의 유형을 확인합니다."
   ]
  },
  {
   "cell_type": "markdown",
   "metadata": {},
   "source": [
    "---\n",
    "\n",
    "# 문제 28\n",
    "\n",
    "### **문제:**\n",
    "\n",
    "> **_문자열 형태로 두 개의 정수를 받아 합계를 계산한 다음 콘솔에 인쇄할 수 있는 함수를 정의하십시오._**\n",
    "\n",
    "---\n",
    "\n",
    "### 힌트:\n",
    "\n",
    "> **_int()를 사용하여 문자열을 정수로 변환하십시오._**\n",
    "\n",
    "---\n",
    "\n",
    "\n",
    "\n",
    "**해결책:**"
   ]
  },
  {
   "cell_type": "code",
   "execution_count": null,
   "metadata": {},
   "outputs": [],
   "source": [
    "sum_str_integers = lambda s1, s2: int(s1) + int(s2) # 변수명 sum을 sum_str_integers로 변경\n",
    "print(sum_str_integers(\"10\", \"45\"))  # 55"
   ]
  },
  {
   "cell_type": "markdown",
   "metadata": {},
   "source": [
    "---\n",
    "\n",
    "# 문제 29\n",
    "\n",
    "### **문제:**\n",
    "\n",
    "> **_두 개의 문자열을 입력으로 받아 연결한 다음 콘솔에 인쇄할 수 있는 함수를 정의하십시오._**\n",
    "\n",
    "---\n",
    "\n",
    "### 힌트:\n",
    "\n",
    "> **_+ 기호를 사용하여 문자열을 연결하십시오._**\n",
    "\n",
    "---\n",
    "\n",
    "\n",
    "\n",
    "**해결책:**"
   ]
  },
  {
   "cell_type": "code",
   "execution_count": null,
   "metadata": {},
   "outputs": [],
   "source": [
    "concat_strings = lambda s1, s2: s1 + s2 # 변수명 sum을 concat_strings로 변경\n",
    "print(concat_strings(\"10\", \"45\"))  # 1045"
   ]
  },
  {
   "cell_type": "markdown",
   "metadata": {},
   "source": [
    "---\n",
    "\n",
    "# 문제 30\n",
    "\n",
    "### **문제:**\n",
    "\n",
    "> **_두 개의 문자열을 입력으로 받아 콘솔에 최대 길이의 문자열을 인쇄할 수 있는 함수를 정의하십시오. 두 문자열의 길이가 같으면 함수는 모든 문자열을 한 줄씩 인쇄해야 합니다._**\n",
    "\n",
    "---\n",
    "\n",
    "### 힌트:\n",
    "\n",
    "> **_len() 함수를 사용하여 문자열의 길이를 가져옵니다._**\n",
    "\n",
    "---\n",
    "\n",
    "\n",
    "\n",
    "**해결책:**"
   ]
  },
  {
   "cell_type": "code",
   "execution_count": null,
   "metadata": {},
   "outputs": [],
   "source": [
    "def print_max_len_string(s1, s2): # 함수명 printVal을 print_max_len_string으로 변경\n",
    "    len1 = len(s1)\n",
    "    len2 = len(s2)\n",
    "    if len1 > len2:\n",
    "        print(s1)\n",
    "    elif len1 < len2:\n",
    "        print(s2)\n",
    "    else:\n",
    "        print(s1)\n",
    "        print(s2)\n",
    "\n",
    "\n",
    "input_s1, input_s2 = input(\"두 문자열을 공백으로 구분하여 입력하세요: \").split() # 프롬프트 추가 및 변수명 변경\n",
    "print_max_len_string(input_s1, input_s2)"
   ]
  },
  {
   "cell_type": "markdown",
   "metadata": {},
   "source": [
    "---"
   ]
  },
  {
   "cell_type": "code",
   "execution_count": null,
   "metadata": {},
   "outputs": [],
   "source": [
    "\"\"\"yuan1z 제공 솔루션\"\"\"\n",
    "# 람다 함수를 괄호로 묶는 것은 print 함수가 반환 값을 받지 않도록 하기 위함일 수 있으나,\n",
    "# 여기서는 func 변수에 람다를 할당하는 것이 일반적입니다.\n",
    "# 또한, 람다 내에서 print를 여러 번 호출하는 것은 표준적이지 않습니다.\n",
    "# 아래는 가독성을 위해 수정된 버전입니다.\n",
    "def print_strings_by_len(a, b):\n",
    "    if len(a) != len(b):\n",
    "        print(max((a,b), key=len))\n",
    "    else:\n",
    "        print(a)\n",
    "        print(b)\n",
    "\n",
    "# 예시 호출 (원래 코드에서는 func에 할당만 하고 호출하지 않았습니다.)\n",
    "# str1, str2 = input(\"두 문자열 입력: \").split()\n",
    "# print_strings_by_len(str1, str2)\n",
    "\n",
    "# 원본 코드의 의도를 최대한 살린다면:\n",
    "func_yuan1z = (\n",
    "    lambda a, b: print(max((a, b), key=len)) \n",
    "    if len(a) != len(b) \n",
    "    else print(a + \"\\n\" + b) # print 함수의 반환 값은 None이므로, 이 람다는 항상 None을 반환합니다.\n",
    ")\n",
    "# func_yuan1z(\"apple\", \"banana\") # 예시 호출"
   ]
  },
  {
   "cell_type": "markdown",
   "metadata": {},
   "source": [
    "---"
   ]
  }
 ],
 "metadata": {
  "kernelspec": {
   "display_name": "Python 3",
   "language": "python",
   "name": "python3"
  },
  "language_info": {
   "codemirror_mode": {
    "name": "ipython",
    "version": 3
   },
   "file_extension": ".py",
   "mimetype": "text/x-python",
   "name": "python",
   "nbconvert_exporter": "python",
   "pygments_lexer": "ipython3",
   "version": "3.7.6"
  }
 },
 "nbformat": 4,
 "nbformat_minor": 4
}
