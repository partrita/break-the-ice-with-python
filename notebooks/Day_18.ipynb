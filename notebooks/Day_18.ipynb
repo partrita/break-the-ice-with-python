{
 "cells": [
  {
   "cell_type": "markdown",
   "metadata": {},
   "source": [
    "# 문제 70\n",
    "\n",
    "### **문제**\n",
    "\n",
    "> **_random 모듈과 리스트 컴프리헨션을 사용하여 0과 10 사이(경계값 포함)의 임의의 짝수를 출력하는 프로그램을 작성하십시오._**\n",
    "\n",
    "---\n",
    "\n",
    "### 힌트\n",
    "\n",
    "> **_리스트에서 임의의 요소를 선택하려면 `random.choice()`를 사용하십시오._**\n",
    "\n",
    "---\n",
    "\n",
    "\n",
    "\n",
    "**해결책:**"
   ]
  },
  {
   "cell_type": "code",
   "execution_count": null,
   "metadata": {},
   "outputs": [],
   "source": [
    "import random\n",
    "\n",
    "# 0부터 10까지 2씩 증가하는 숫자(짝수)로 리스트 생성\n",
    "even_numbers_list = [i for i in range(0, 11, 2)] # 변수명 resp를 even_numbers_list로 변경\n",
    "print(random.choice(even_numbers_list)) # 리스트에서 무작위로 하나 선택하여 출력"
   ]
  },
  {
   "cell_type": "markdown",
   "metadata": {},
   "source": [
    "---\n",
    "\n",
    "# 문제 71\n",
    "\n",
    "### **문제**\n",
    "\n",
    "> **_random 모듈과 리스트 컴프리헨션을 사용하여 10과 150 사이(경계값 포함)에서 5와 7로 모두 나누어지는 임의의 숫자를 출력하는 프로그램을 작성하십시오._**\n",
    "\n",
    "---\n",
    "\n",
    "### 힌트\n",
    "\n",
    "> **_리스트에서 임의의 요소를 선택하려면 `random.choice()`를 사용하십시오._**\n",
    "\n",
    "---\n",
    "\n",
    "\n",
    "\n",
    "**해결책:**"
   ]
  },
  {
   "cell_type": "code",
   "execution_count": null,
   "metadata": {},
   "outputs": [],
   "source": [
    "import random\n",
    "\n",
    "# 10부터 150까지 숫자 중 35 (5*7)로 나누어지는 i로 리스트 생성\n",
    "divisible_by_35_list = [i for i in range(10, 151) if i % 35 == 0] # 변수명 resp를 divisible_by_35_list로 변경\n",
    "print(random.choice(divisible_by_35_list)) # 리스트에서 무작위로 하나 선택하여 출력"
   ]
  },
  {
   "cell_type": "markdown",
   "metadata": {},
   "source": [
    "---\n",
    "\n",
    "# 문제 72\n",
    "\n",
    "### **문제**\n",
    "\n",
    "> **_100과 200 사이(경계값 포함)의 임의의 숫자 5개로 구성된 리스트를 생성하는 프로그램을 작성하십시오._**\n",
    "\n",
    "---\n",
    "\n",
    "### 힌트\n",
    "\n",
    "> **_임의의 값으로 구성된 리스트를 생성하려면 `random.sample()`을 사용하십시오._**\n",
    "\n",
    "---\n",
    "\n",
    "\n",
    "\n",
    "**해결책:**"
   ]
  },
  {
   "cell_type": "code",
   "execution_count": null,
   "metadata": {},
   "outputs": [],
   "source": [
    "import random\n",
    "\n",
    "# range(100, 201) (100부터 200까지)에서 중복 없이 5개의 숫자를 무작위로 선택하여 리스트 생성\n",
    "random_sample_list = random.sample(range(100, 201), 5) # 변수명 resp를 random_sample_list로 변경\n",
    "print(random_sample_list)"
   ]
  },
  {
   "cell_type": "markdown",
   "metadata": {},
   "source": [
    "---\n",
    "\n",
    "# 문제 73\n",
    "\n",
    "### **문제**\n",
    "\n",
    "> **_100과 200 사이(경계값 포함)의 임의의 짝수 5개로 구성된 리스트를 무작위로 생성하는 프로그램을 작성하십시오._**\n",
    "\n",
    "---\n",
    "\n",
    "### 힌트\n",
    "\n",
    "> **_임의의 값으로 구성된 리스트를 생성하려면 `random.sample()`을 사용하십시오._**\n",
    "\n",
    "---\n",
    "\n",
    "\n",
    "\n",
    "**해결책:**"
   ]
  },
  {
   "cell_type": "code",
   "execution_count": null,
   "metadata": {},
   "outputs": [],
   "source": [
    "import random\n",
    "\n",
    "# range(100, 201, 2)는 100부터 200까지 짝수만 생성합니다.\n",
    "# 이 범위에서 중복 없이 5개의 짝수를 무작위로 선택합니다.\n",
    "random_even_sample_list = random.sample(range(100, 201, 2), 5) # 변수명 resp를 random_even_sample_list로 변경\n",
    "print(random_even_sample_list)"
   ]
  },
  {
   "cell_type": "markdown",
   "metadata": {},
   "source": [
    "---\n",
    "\n",
    "# 문제 74\n",
    "\n",
    "### **문제**\n",
    "\n",
    "> **_1과 1000 사이(경계값 포함)에서 5와 7로 모두 나누어지는 임의의 숫자 5개로 구성된 리스트를 무작위로 생성하는 프로그램을 작성하십시오._**\n",
    "\n",
    "---\n",
    "\n",
    "### 힌트\n",
    "\n",
    "> **_임의의 값으로 구성된 리스트를 생성하려면 `random.sample()`을 사용하십시오._**\n",
    "\n",
    "---\n",
    "\n",
    "\n",
    "\n",
    "**해결책:**"
   ]
  },
  {
   "cell_type": "code",
   "execution_count": null,
   "metadata": {},
   "outputs": [],
   "source": [
    "import random\n",
    "\n",
    "# 1부터 1000까지 숫자 중 35로 나누어지는 i로 리스트 생성\n",
    "divisible_by_35_full_list = [i for i in range(1, 1001) if i % 35 == 0] # 변수명 lst를 divisible_by_35_full_list로 변경\n",
    "# 위 리스트에서 중복 없이 5개의 숫자를 무작위로 선택\n",
    "random_sample_divisible_list = random.sample(divisible_by_35_full_list, 5) # 변수명 resp를 random_sample_divisible_list로 변경\n",
    "print(random_sample_divisible_list)"
   ]
  },
  {
   "cell_type": "markdown",
   "metadata": {},
   "source": [
    "---"
   ]
  }
 ],
 "metadata": {
  "kernelspec": {
   "display_name": "Python 3",
   "language": "python",
   "name": "python3"
  },
  "language_info": {
   "codemirror_mode": {
    "name": "ipython",
    "version": 3
   },
   "file_extension": ".py",
   "mimetype": "text/x-python",
   "name": "python",
   "nbconvert_exporter": "python",
   "pygments_lexer": "ipython3",
   "version": "3.7.6"
  }
 },
 "nbformat": 4,
 "nbformat_minor": 4
}
