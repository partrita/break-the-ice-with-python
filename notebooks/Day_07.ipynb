{
 "cells": [
  {
   "cell_type": "markdown",
   "metadata": {},
   "source": [
    "# 문제 20\n",
    "\n",
    "### **문제:**\n",
    "\n",
    "> **_주어진 범위 0과 n 사이에서 7로 나누어지는 숫자를 반복할 수 있는 제너레이터가 있는 클래스를 정의하십시오._**\n",
    "\n",
    "---\n",
    "\n",
    "### 힌트:\n",
    "\n",
    "> **_클래스, 함수 및 컴프리헨션 사용을 고려하십시오._**\n",
    "\n",
    "---\n",
    "\n",
    "\n",
    "\n",
    "**해결책: 파이썬 3**"
   ]
  },
  {
   "cell_type": "code",
   "execution_count": null,
   "metadata": {},
   "outputs": [],
   "source": [
    "\"\"\"ShalomPrinz 제공 솔루션\n",
    "\"\"\"\n",
    "\n",
    "\n",
    "class MyGen:\n",
    "    def by_seven(self, n_val): # 변수명을 n에서 n_val로 변경\n",
    "        # 0부터 int(n_val / 7)까지 반복합니다. (n_val까지 7의 배수 개수)\n",
    "        for i in range(0, int(n_val / 7) + 1):\n",
    "            yield i * 7 # 현재 숫자에 7을 곱한 값을 반환합니다.\n",
    "\n",
    "\n",
    "# MyGen 클래스의 인스턴스를 만들고 by_seven 메소드를 호출합니다.\n",
    "for num_item in MyGen().by_seven(int(input(\"숫자를 입력하세요... \"))): # 변수명 i를 num_item으로 변경\n",
    "    print(num_item)"
   ]
  },
  {
   "cell_type": "markdown",
   "metadata": {},
   "source": [
    "---"
   ]
  },
  {
   "cell_type": "code",
   "execution_count": null,
   "metadata": {},
   "outputs": [],
   "source": [
    "\"\"\"Seawolf159 제공 솔루션\n",
    "\"\"\"\n",
    "\n",
    "\n",
    "class Divisible:\n",
    "    def by_seven(self, n_val): # 변수명을 n에서 n_val로 변경\n",
    "        for number_val in range(n_val + 1): # 변수명을 number에서 number_val로 변경\n",
    "            if number_val % 7 == 0:\n",
    "                yield number_val # 7로 나누어지면 반환합니다.\n",
    "\n",
    "\n",
    "divisible_obj = Divisible() # Divisible 클래스의 인스턴스 생성, 변수명 변경\n",
    "generator_obj = divisible_obj.by_seven(int(input(\"숫자를 입력하세요. --> \"))) # by_seven 메소드 호출하여 제너레이터 얻기, 변수명 변경\n",
    "for number_item in generator_obj: # 제너레이터 반복, 변수명 변경\n",
    "    print(number_item)"
   ]
  },
  {
   "cell_type": "markdown",
   "metadata": {},
   "source": [
    "---\n",
    "\n",
    "# 문제 21\n",
    "\n",
    "### **문제:**\n",
    "\n",
    "> **_로봇이 원점 (0,0)에서 시작하여 평면에서 움직입니다. 로봇은 주어진 단계만큼 UP, DOWN, LEFT, RIGHT 방향으로 움직일 수 있습니다. 로봇 이동의 흔적은 다음과 같습니다:_**\n",
    "\n",
    "```\n",
    "UP 5\n",
    "DOWN 3\n",
    "LEFT 3\n",
    "RIGHT 2\n",
    "```\n",
    "> **_방향 뒤의 숫자는 단계입니다. 일련의 이동 후 현재 위치와 원점 사이의 거리를 계산하는 프로그램을 작성하십시오. 거리가 부동 소수점이면 가장 가까운 정수를 인쇄하십시오._**\n",
    "> **_예시:_**\n",
    "> **_다음 튜플이 프로그램에 입력으로 주어지면:_**\n",
    "\n",
    "```\n",
    "UP 5\n",
    "DOWN 3\n",
    "LEFT 3\n",
    "RIGHT 2\n",
    "```\n",
    "\n",
    "> **_그러면 프로그램의 출력은 다음과 같아야 합니다:_**\n",
    "\n",
    "```\n",
    "2\n",
    "```\n",
    "---\n",
    "\n",
    "### 힌트:\n",
    "\n",
    "> **_문제에 입력 데이터가 제공되는 경우 콘솔 입력으로 간주해야 합니다. 여기서 거리는 유클리드 거리를 나타냅니다. sqrt 함수를 사용하려면 math 모듈을 가져옵니다._**\n",
    "\n",
    "---\n",
    "\n",
    "\n",
    "\n",
    "**해결책:**"
   ]
  },
  {
   "cell_type": "code",
   "execution_count": null,
   "metadata": {},
   "outputs": [],
   "source": [
    "import math\n",
    "\n",
    "pos_x, pos_y = 0, 0 # x, y 좌표를 표준적인 의미로 사용 (x: 수평, y: 수직)\n",
    "while True:\n",
    "    command_str = input().split() # 변수명 s를 command_str로 변경\n",
    "    if not command_str:\n",
    "        break\n",
    "    direction = command_str[0] # command_str[0]은 방향을 나타냅니다.\n",
    "    steps = int(command_str[1]) # command_str[1]은 이동 단위를 나타냅니다.\n",
    "    \n",
    "    if direction == \"UP\":\n",
    "        pos_y += steps\n",
    "    elif direction == \"DOWN\":\n",
    "        pos_y -= steps\n",
    "    elif direction == \"LEFT\":\n",
    "        pos_x -= steps\n",
    "    elif direction == \"RIGHT\":\n",
    "        pos_x += steps\n",
    "        \n",
    "# N**P는 N^P를 의미합니다.\n",
    "# 유클리드 거리 = (x^2 + y^2)의 제곱근, 가장 가까운 정수로 반올림합니다.\n",
    "distance = round(math.sqrt(pos_x**2 + pos_y**2))\n",
    "print(distance)"
   ]
  },
  {
   "cell_type": "markdown",
   "metadata": {},
   "source": [
    "---"
   ]
  }
 ],
 "metadata": {
  "kernelspec": {
   "display_name": "Python 3",
   "language": "python",
   "name": "python3"
  },
  "language_info": {
   "codemirror_mode": {
    "name": "ipython",
    "version": 3
   },
   "file_extension": ".py",
   "mimetype": "text/x-python",
   "name": "python",
   "nbconvert_exporter": "python",
   "pygments_lexer": "ipython3",
   "version": "3.7.6"
  }
 },
 "nbformat": 4,
 "nbformat_minor": 4
}
