{
 "cells": [
  {
   "cell_type": "markdown",
   "metadata": {},
   "source": [
    "# 문제 44\n",
    "\n",
    "### **문제:**\n",
    "\n",
    "> **_`map()`을 사용하여 1과 20 사이(둘 다 포함) 숫자의 제곱으로 구성된 리스트를 만드는 프로그램을 작성하십시오._**\n",
    "\n",
    "---\n",
    "\n",
    "### 힌트:\n",
    "\n",
    "> **_`map()`을 사용하여 리스트를 생성하십시오. 익명 함수를 정의하려면 `lambda`를 사용하십시오._**\n",
    "\n",
    "---\n",
    "\n",
    "\n",
    "\n",
    "**해결책:**"
   ]
  },
  {
   "cell_type": "code",
   "execution_count": null,
   "metadata": {
    "code_folding": []
   },
   "outputs": [],
   "source": [
    "def square_num_map(x): # 함수명 sqr을 square_num_map으로 변경\n",
    "    return x * x\n",
    "\n",
    "\n",
    "squared_numbers_list = list(map(square_num_map, range(1, 21))) # 변수명 변경\n",
    "print(squared_numbers_list)"
   ]
  },
  {
   "cell_type": "markdown",
   "metadata": {},
   "source": [
    "---\n",
    "\n",
    "# 문제 45\n",
    "\n",
    "### **문제:**\n",
    "\n",
    "> **_`printNationality`라는 정적 메소드를 가진 `American`이라는 클래스를 정의하십시오._**\n",
    "\n",
    "---\n",
    "\n",
    "### 힌트:\n",
    "\n",
    "> **_클래스 정적 메소드를 정의하려면 `@staticmethod` 데코레이터를 사용하십시오. 두 가지 다른 메소드도 있습니다. 자세한 내용은 이 [링크](https://realpython.com/blog/python/instance-class-and-static-methods-demystified/)를 참조하십시오._**\n",
    "\n",
    "---\n",
    "\n",
    "\n",
    "\n",
    "**해결책:**"
   ]
  },
  {
   "cell_type": "code",
   "execution_count": null,
   "metadata": {},
   "outputs": [],
   "source": [
    "class American:\n",
    "    @staticmethod\n",
    "    def printNationality():\n",
    "        print(\"나는 미국인입니다\") # \"I am American\" 번역\n",
    "\n",
    "\n",
    "american_obj = American() # 변수명 변경\n",
    "american_obj.printNationality()  # @staticmethod가 함수를 데코레이트하지 않으면 이 코드는 실행되지 않습니다.\n",
    "# 그 이유는 클래스에 인스턴스 메서드 호출 시 첫 번째 인자로 self가 전달되어야 하는데, @staticmethod가 없으면 self를 받도록 정의되지 않았기 때문입니다.\n",
    "\n",
    "American.printNationality()  # 이 코드는 @staticmethod가 없어도 printNationality()가 self를 인자로 받지 않는다면 실행될 수 있지만,\n",
    "# 일반적으로 클래스명으로 직접 호출하는 정적 메서드는 @staticmethod로 정의하는 것이 올바른 방법입니다."
   ]
  },
  {
   "cell_type": "markdown",
   "metadata": {},
   "source": [
    "---\n",
    "\n",
    "# 문제 46\n",
    "\n",
    "### **문제:**\n",
    "\n",
    "> **_`American`이라는 클래스와 그 하위 클래스 `NewYorker`를 정의하십시오._**\n",
    "\n",
    "---\n",
    "\n",
    "### 힌트:\n",
    "\n",
    "> **하위 클래스를 정의하려면 `class Subclass(ParentClass):`를 사용하십시오.**\n", # 마지막 '\*' 제거
    "\n",
    "---\n",
    "\n",
    "\n",
    "\n",
    "**해결책:**"
   ]
  },
  {
   "cell_type": "code",
   "execution_count": null,
   "metadata": {},
   "outputs": [],
   "source": [
    "class American: # Python 3에서는 기본적으로 object를 상속합니다.\n",
    "    pass\n",
    "\n",
    "\n",
    "class NewYorker(American): # American 클래스를 상속합니다.\n",
    "    pass\n",
    "\n",
    "\n",
    "american_instance = American() # 변수명 변경\n",
    "newyorker_instance = NewYorker() # 변수명 변경\n",
    "\n",
    "print(american_instance) # 객체의 문자열 표현 출력\n",
    "print(newyorker_instance)"
   ]
  },
  {
   "cell_type": "markdown",
   "metadata": {},
   "source": [
    "---"
   ]
  }
 ],
 "metadata": {
  "kernelspec": {
   "display_name": "Python 3",
   "language": "python",
   "name": "python3"
  },
  "language_info": {
   "codemirror_mode": {
    "name": "ipython",
    "version": 3
   },
   "file_extension": ".py",
   "mimetype": "text/x-python",
   "name": "python",
   "nbconvert_exporter": "python",
   "pygments_lexer": "ipython3",
   "version": "3.7.6"
  }
 },
 "nbformat": 4,
 "nbformat_minor": 4
}
