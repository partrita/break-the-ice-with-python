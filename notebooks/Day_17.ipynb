{
 "cells": [
  {
   "cell_type": "markdown",
   "metadata": {},
   "source": [
    "# 문제 65\n",
    "\n",
    "### **문제**\n",
    "\n",
    "> **_리스트 `[2,4,6,8]`의 모든 숫자가 짝수인지 확인하는 assert 문을 작성하십시오._**\n",
    "\n",
    "---\n",
    "\n",
    "### 힌트\n",
    "\n",
    "> **_단언문을 만들려면 `\"assert 표현식\"`을 사용하십시오._**\n",
    "\n",
    "---\n",
    "\n",
    "\n",
    "\n",
    "**해결책:**"
   ]
  },
  {
   "cell_type": "code",
   "execution_count": null,
   "metadata": {},
   "outputs": [],
   "source": [
    "data_list = [2, 4, 5, 6] # 변수명 data를 data_list로, 리스트에 홀수 5를 포함하여 assert가 실패하도록 함\n",
    "for item in data_list: # 변수명 i를 item으로 변경\n",
    "    assert item % 2 == 0, \"{}는 짝수가 아닙니다\".format(item) # 조건이 거짓이면 메시지와 함께 AssertionError 발생"
   ]
  },
  {
   "cell_type": "markdown",
   "metadata": {},
   "source": [
    "---\n",
    "\n",
    "# 문제 66\n",
    "\n",
    "### **문제**\n",
    "\n",
    "> **_콘솔에서 기본 수학 표현식을 입력받아 평가 결과를 인쇄하는 프로그램을 작성하십시오._**\n",
    "\n",
    "> **_예시:\n",
    "> 다음 표현식이 프로그램에 입력으로 주어지면:_** (원문: n is given -> 표현식이 주어지면)\n",
    "\n",
    "\n",
    "> 35 + 3\n",
    "\n",
    "\n",
    "> **_그러면 프로그램의 출력은 다음과 같아야 합니다:_**\n",
    "\n",
    "\n",
    "> 38\n",
    "\n",
    "\n",
    "---\n",
    "\n",
    "### 힌트\n",
    "\n",
    "> **_표현식을 평가하려면 `eval()`을 사용하십시오._** (주의: `eval()`은 안전하지 않은 입력을 평가할 수 있으므로 신뢰할 수 없는 소스의 입력에는 사용하지 않는 것이 좋습니다.)\n",
    "\n",
    "---\n",
    "\n",
    "\n",
    "\n",
    "**해결책:**"
   ]
  },
  {
   "cell_type": "code",
   "execution_count": null,
   "metadata": {},
   "outputs": [],
   "source": [
    "expression_str = input(\"수학 표현식을 입력하세요: \") # 변수명 expression을 expression_str로, 프롬프트 추가\n",
    "evaluation_result = eval(expression_str) # 변수명 ans를 evaluation_result로 변경\n",
    "print(evaluation_result)"
   ]
  },
  {
   "cell_type": "markdown",
   "metadata": {},
   "source": [
    "---\n",
    "\n",
    "# 문제 67\n",
    "\n",
    "### **문제**\n",
    "\n",
    "> **_정렬된 리스트에서 항목을 검색하는 이진 검색 함수를 작성하십시오. 함수는 리스트에서 검색할 요소의 인덱스를 반환해야 합니다._**\n",
    "\n",
    "---\n",
    "\n",
    "### 힌트\n",
    "\n",
    "> **_조건을 처리하려면 `if/elif`를 사용하십시오._**\n",
    "\n",
    "---\n",
    "\n",
    "**해결책:**\n",
    "\n",
    "### AasaiAlangaram 제공 솔루션 (수정 제안 포함)"
   ]
  },
  {
   "cell_type": "code",
   "execution_count": null,
   "metadata": {},
   "outputs": [],
   "source": [
    "def binary_search_ascending_corrected(arr, target_val): # 함수명 및 변수명 변경, 오름차순 명시\n",
    "    lower_bound = 0 # 변수명 변경\n",
    "    upper_bound = len(arr) - 1 # 일반적인 이진 검색의 상한 인덱스\n",
    "    print(\"배열 길이:\", len(arr)) # \"Array Length:\" 번역\n",
    "    while lower_bound <= upper_bound: # 조건 변경 (lower < upper 에서 lower <= upper)\n",
    "        mid_point = (lower_bound + upper_bound) // 2 # 변수명 변경, // 연산자 사용\n",
    "        print(\"중간 인덱스:\", mid_point) # \"Middle Value:\"를 \"중간 인덱스:\"로 번역\n",
    "        current_value = arr[mid_point] # 변수명 변경\n",
    "        if target_val == current_value:\n",
    "            return mid_point\n",
    "        elif target_val > current_value:\n",
    "            lower_bound = mid_point + 1 # 표준 이진 검색 로직\n",
    "        else: # target_val < current_value\n",
    "            upper_bound = mid_point - 1 # 표준 이진 검색 로직\n",
    "    return -1 # 찾지 못한 경우 -1 또는 None 반환 (여기서는 -1로 통일)\n",
    "\n",
    "test_array = [1, 5, 8, 10, 12, 13, 55, 66, 73, 78, 82, 85, 88, 99] # 변수명 Array를 test_array로 변경\n",
    "print(\"값을 찾은 인덱스:\", binary_search_ascending_corrected(test_array, 82)) # \"The Value Found at Index:\" 번역"
   ]
  },
  {
   "cell_type": "markdown",
   "metadata": {},
   "source": [
    "---\n",
    "**또는**\n",
    "\n",
    "### yuan1z 제공 솔루션 (재귀, 수정 제안 포함)"
   ]
  },
  {
   "cell_type": "code",
   "execution_count": null,
   "metadata": {},
   "outputs": [],
   "source": [
    "# 전역 변수를 사용하는 재귀는 상태 관리가 복잡하므로, 인덱스를 인자로 전달하는 방식이 더 일반적입니다.\n",
    "# 아래는 yuan1z 솔루션의 아이디어를 바탕으로 수정한 재귀 이진 검색입니다.\n",
    "def binary_search_recursive(arr_list, target_num, low_idx, high_idx):\n",
    "    if high_idx >= low_idx:\n",
    "        mid_idx = (low_idx + high_idx) // 2\n",
    "        if arr_list[mid_idx] == target_num:\n",
    "            return mid_idx\n",
    "        elif arr_list[mid_idx] > target_num:\n",
    "            return binary_search_recursive(arr_list, target_num, low_idx, mid_idx - 1)\n",
    "        else:\n",
    "            return binary_search_recursive(arr_list, target_num, mid_idx + 1, high_idx)\n",
    "    else:\n",
    "        return \"리스트에 없음\" # \"No exit in the list\" 번역\n",
    "\n",
    "test_list_recursive = [1, 5, 8, 10, 12, 13, 55, 66, 73, 78, 82, 85, 88, 99, 100]\n",
    "target_val_recursive = 66\n",
    "print(f\"{target_val_recursive}의 인덱스: {binary_search_recursive(test_list_recursive, target_val_recursive, 0, len(test_list_recursive)-1)}\")"
   ]
  },
  {
   "cell_type": "markdown",
   "metadata": {},
   "source": [
    "---\n",
    "\n",
    "# 문제 68\n",
    "\n",
    "### **문제**\n",
    "\n",
    "> **_파이썬 모듈을 사용하여 10과 100 사이의 임의의 부동 소수점 숫자를 생성하십시오._**\n",
    "\n",
    "---\n",
    "\n",
    "### 힌트\n",
    "\n",
    "> **_`random.random()`을 사용하여 [0,1) 범위의 임의의 부동 소수점 숫자를 생성하십시오._** (주: random.uniform(a,b)가 더 적합합니다.)\n",
    "\n",
    "---\n",
    "\n",
    "\n",
    "\n",
    "**해결책:**"
   ]
  },
  {
   "cell_type": "code",
   "execution_count": null,
   "metadata": {},
   "outputs": [],
   "source": [
    "import random\n",
    "\n",
    "# random.uniform(a, b)는 a <= x <= b 범위의 부동 소수점을 반환합니다.\n",
    "random_float_10_100 = random.uniform(10, 100) # 변수명 rand_num을 random_float_10_100으로 변경\n",
    "print(random_float_10_100)"
   ]
  },
  {
   "cell_type": "markdown",
   "metadata": {},
   "source": [
    "---\n",
    "\n",
    "# 문제 69\n",
    "\n",
    "### **문제**\n",
    "\n",
    "> **_파이썬 모듈을 사용하여 5와 95 사이의 임의의 부동 소수점 숫자를 생성하십시오._**\n",
    "\n",
    "---\n",
    "\n",
    "### 힌트\n",
    "\n",
    "> **_`random.random()`을 사용하여 [0,1) 범위의 임의의 부동 소수점 숫자를 생성하십시오._** (주: random.uniform(a,b)가 더 적합합니다.)\n",
    "\n",
    "---\n",
    "\n",
    "\n",
    "\n",
    "**해결책:**"
   ]
  },
  {
   "cell_type": "code",
   "execution_count": null,
   "metadata": {},
   "outputs": [],
   "source": [
    "import random\n",
    "\n",
    "random_float_5_95 = random.uniform(5, 95) # 변수명 rand_num을 random_float_5_95로 변경\n",
    "print(random_float_5_95)"
   ]
  },
  {
   "cell_type": "markdown",
   "metadata": {},
   "source": [
    "---"
   ]
  }
 ],
 "metadata": {
  "kernelspec": {
   "display_name": "Python 3",
   "language": "python",
   "name": "python3"
  },
  "language_info": {
   "codemirror_mode": {
    "name": "ipython",
    "version": 3
   },
   "file_extension": ".py",
   "mimetype": "text/x-python",
   "name": "python",
   "nbconvert_exporter": "python",
   "pygments_lexer": "ipython3",
   "version": "3.7.6"
  }
 },
 "nbformat": 4,
 "nbformat_minor": 4
}
