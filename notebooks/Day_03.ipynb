{
 "cells": [
  {
   "cell_type": "markdown",
   "metadata": {},
   "source": [
    "# 문제 10\n",
    "\n",
    "### **문제**\n",
    "\n",
    "> **_공백으로 구분된 단어 시퀀스를 입력받아 중복된 단어를 모두 제거하고 영숫자순으로 정렬한 후 단어를 인쇄하는 프로그램을 작성하십시오._**\n",
    "\n",
    "> **_다음과 같은 입력이 프로그램에 제공된다고 가정합니다:_**\n",
    "\n",
    "hello world and practice makes perfect and hello world again\n",
    "\n",
    "> **_그러면 출력은 다음과 같아야 합니다:_**\n",
    "\n",
    "again and hello makes perfect practice world\n",
    "\n",
    "---\n",
    "\n",
    "### 힌트:\n",
    "\n",
    "> **_문제에 입력 데이터가 제공되는 경우 콘솔 입력으로 간주해야 합니다. 중복된 데이터를 자동으로 제거하기 위해 set 컨테이너를 사용한 다음 sorted()를 사용하여 데이터를 정렬합니다._**\n",
    "\n",
    "---\n",
    "\n",
    "**해결책:**"
   ]
  },
  {
   "cell_type": "code",
   "execution_count": null,
   "metadata": {},
   "outputs": [],
   "source": [
    "word_input = input().split() # 변수명을 word에서 word_input으로 변경\n",
    "\n",
    "# 아래 반복문은 리스트를 순회하면서 요소를 제거할 때 인덱스 문제를 일으킬 수 있습니다.\n",
    "# 예를 들어 ['a', 'b', 'b', 'c']에서 첫 번째 'b'를 제거하면 리스트는 ['a', 'b', 'c']가 되고,\n",
    "# 다음 순회는 변경된 리스트의 다음 요소를 가리키므로 두 번째 'b'를 건너뛸 수 있습니다.\n",
    "# 고유한 단어를 순서대로 얻고 싶다면 set을 사용한 후 정렬하는 것이 좋습니다.\n",
    "temp_list = []\n",
    "seen = set()\n",
    "for item in word_input:\n",
    "    if item not in seen:\n",
    "        temp_list.append(item)\n",
    "        seen.add(item)\n",
    "temp_list.sort()\n",
    "print(\" \".join(temp_list))"
   ]
  },
  {
   "cell_type": "markdown",
   "metadata": {},
   "source": [
    "**또는** (set을 사용한 더 간결한 방법)"
   ]
  },
  {
   "cell_type": "code",
   "execution_count": null,
   "metadata": {},
   "outputs": [],
   "source": [
    "word_input = input().split()\n",
    "# set으로 중복을 제거하고 list로 변환한 후 sorted로 정렬합니다.\n",
    "unique_sorted_words = sorted(list(set(word_input)))\n",
    "print(\" \".join(unique_sorted_words))"
   ]
  },
  {
   "cell_type": "markdown",
   "metadata": {},
   "source": [
    "**또는** (원본 코드의 직접 수정 - 권장하지 않음)"
   ]
  },
  {
   "cell_type": "code",
   "execution_count": null,
   "metadata": {},
   "outputs": [],
   "source": [
    "word = input().split()\n",
    "# 이 방식은 리스트 반복 중 요소 제거로 인해 일부 중복이 남을 수 있습니다.\n",
    "# word_copy = list(word) # 복사본을 만들어 반복하거나, 뒤에서부터 제거하는 방법 등을 고려해야 합니다.\n",
    "# 여기서는 set을 사용하는 것이 가장 파이썬스러운 해결책입니다.\n",
    "print(\" \".join(sorted(list(set(word))))) # 가장 간결하고 정확한 방법"
   ]
  },
  {
   "cell_type": "markdown",
   "metadata": {},
   "source": [
    "---\n",
    "\n",
    "# 문제 11\n",
    "\n",
    "### **문제**\n",
    "\n",
    "> **_쉼표로 구분된 4자리 이진수 시퀀스를 입력받아 5로 나누어지는지 확인하는 프로그램을 작성하십시오. 5로 나누어지는 숫자는 쉼표로 구분된 시퀀스로 인쇄해야 합니다._**\n",
    "\n",
    "> **_예시:_**\n",
    "\n",
    "0100,0011,1010,1001\n",
    "\n",
    "> **_그러면 출력은 다음과 같아야 합니다:_**\n",
    "\n",
    "1010\n",
    "\n",
    "> **_참고: 데이터는 콘솔을 통해 입력된다고 가정합니다._**\n",
    "\n",
    "---\n",
    "\n",
    "### 힌트:\n",
    "\n",
    "> **_문제에 입력 데이터가 제공되는 경우 콘솔 입력으로 간주해야 합니다._**\n",
    "\n",
    "---\n",
    "\n",
    "**해결책:**"
   ]
  },
  {
   "cell_type": "code",
   "execution_count": null,
   "metadata": {},
   "outputs": [],
   "source": [
    "def check_divisible_by_5_manual(binary_str):  # 이진수를 정수로 변환하고 5로 나누어지면 0을 반환합니다.\n",
    "    total, pw = 0, 1\n",
    "    # reversed(binary_str)는 이터레이터를 반환하지만, 문자열을 직접 뒤집지는 않습니다.\n",
    "    # 올바르게 하려면 binary_str = binary_str[::-1] 또는 for i in reversed(binary_str):\n",
    "    for digit_char in reversed(binary_str):\n",
    "        total += pw * (ord(digit_char) - ord('0'))  # ord() 함수는 문자의 ASCII(유니코드) 값을 반환합니다.\n",
    "        pw *= 2\n",
    "    return total % 5\n",
    "\n",
    "\n",
    "data = input().split(\",\")  # 입력값을 여기서 받고 ',' 위치에서 분할합니다.\n",
    "lst = []\n",
    "\n",
    "for item in data:\n",
    "    if check_divisible_by_5_manual(item) == 0:  # 0이 발견되면 5로 나누어지고 리스트에 추가됩니다.\n",
    "        lst.append(item)\n",
    "\n",
    "print(\",\".join(lst))"
   ]
  },
  {
   "cell_type": "markdown",
   "metadata": {},
   "source": [
    "**또는** (내장 함수 사용)"
   ]
  },
  {
   "cell_type": "code",
   "execution_count": null,
   "metadata": {},
   "outputs": [],
   "source": [
    "def check_divisible_by_5_builtin(binary_str):  # check 함수는 5로 나누어지면 True를 반환합니다.\n",
    "    return int(binary_str, 2) % 5 == 0  # int(x,b)는 x를 문자열로, b를 밑으로 하여 10진수로 변환합니다.\n",
    "\n",
    "\n",
    "data = input().split(\",\")\n",
    "\n",
    "filtered_data = list(\n",
    "    filter(check_divisible_by_5_builtin, data)\n",
    ")  # filter(func,object) 함수에서 'check_divisible_by_5_builtin' 함수가 True를 반환하는 'data'의 요소만 선택합니다.\n",
    "print(\",\".join(filtered_data))"
   ]
  },
  {
   "cell_type": "markdown",
   "metadata": {},
   "source": [
    "**또는** (람다 함수 사용)"
   ]
  },
  {
   "cell_type": "code",
   "execution_count": null,
   "metadata": {},
   "outputs": [],
   "source": [
    "data = input().split(\",\")\n",
    "filtered_data_lambda = list(\n",
    "    filter(lambda i: int(i, 2) % 5 == 0, data)\n",
    ")  # 람다는 한 줄짜리 함수를 작성하는 데 도움이 되는 연산자입니다.\n",
    "print(\",\".join(filtered_data_lambda))"
   ]
  },
  {
   "cell_type": "markdown",
   "metadata": {},
   "source": [
    "---\n",
    "\n",
    "# 문제 12\n",
    "\n",
    "### **문제:**\n",
    "\n",
    "> **_1000과 3000 사이(두 숫자 포함)의 모든 숫자 중에서 숫자의 각 자릿수가 짝수인 숫자를 찾는 프로그램을 작성하십시오. 얻은 숫자는 한 줄에 쉼표로 구분된 시퀀스로 인쇄해야 합니다._**\n",
    "\n",
    "---\n",
    "\n",
    "### 힌트:\n",
    "\n",
    "> **_문제에 입력 데이터가 제공되는 경우 콘솔 입력으로 간주해야 합니다._**\n",
    "\n",
    "---\n",
    "\n",
    "**해결책:**"
   ]
  },
  {
   "cell_type": "code",
   "execution_count": null,
   "metadata": {},
   "outputs": [],
   "source": [
    "lst = []\n",
    "\n",
    "for i in range(1000, 3001):\n",
    "    flag = True # 기본적으로 모든 자릿수가 짝수라고 가정 (변수명을 flag에서 all_digits_even으로 변경 권장)\n",
    "    for digit_char in str(i):  # 모든 정수 i는 문자열로 변환됩니다.\n",
    "        if int(digit_char) % 2 != 0:  # 각 자릿수를 정수로 변환하여 짝수인지 확인 (ord() 불필요)\n",
    "            flag = False  # 홀수 자릿수가 발견되면 플래그는 False가 됩니다.\n",
    "            break # 더 이상 확인할 필요 없음\n",
    "    if flag:\n",
    "        lst.append(str(i))  # i는 문자열로 리스트에 저장됩니다.\n",
    "\n",
    "print(\",\".join(lst))"
   ]
  },
  {
   "cell_type": "markdown",
   "metadata": {},
   "source": [
    "**또는** (filter와 all 사용)"
   ]
  },
  {
   "cell_type": "code",
   "execution_count": null,
   "metadata": {},
   "outputs": [],
   "source": [
    "def check_all_even_digits(num_str):\n",
    "    return all(\n",
    "        int(digit_char) % 2 == 0 for digit_char in num_str\n",
    "    )  # all은 num_str의 모든 자릿수 digit_char가 짝수이면 True를 반환합니다.\n",
    "\n",
    "\n",
    "all_numbers_str = [\n",
    "    str(i) for i in range(1000, 3001)\n",
    "]  # 주어진 모든 숫자의 리스트를 문자열 데이터 유형으로 만듭니다.\n",
    "filtered_list = list(\n",
    "    filter(check_all_even_digits, all_numbers_str)\n",
    ")  # filter는 check_all_even_digits 조건이 False이면 리스트에서 요소를 제거합니다.\n",
    "print(\",\".join(filtered_list))"
   ]
  },
  {
   "cell_type": "markdown",
   "metadata": {},
   "source": [
    "**또는** (람다 함수 사용)"
   ]
  },
  {
   "cell_type": "code",
   "execution_count": null,
   "metadata": {},
   "outputs": [],
   "source": [
    "numbers_str_list = [str(i) for i in range(1000, 3001)]\n",
    "filtered_list_lambda = list(\n",
    "    filter(lambda num_str: all(int(digit_char) % 2 == 0 for digit_char in num_str), numbers_str_list)\n",
    ")  # 람다를 사용하여 filter 함수 내에 함수를 정의합니다.\n",
    "print(\",\".join(filtered_list_lambda))"
   ]
  },
  {
   "cell_type": "markdown",
   "metadata": {},
   "source": [
    "---\n",
    "\n",
    "# 문제 13\n",
    "\n",
    "### **문제:**\n",
    "\n",
    "> **_문장을 입력받아 글자 수와 숫자 수를 계산하는 프로그램을 작성하십시오._**\n",
    "\n",
    "> **_다음과 같은 입력이 프로그램에 제공된다고 가정합니다:_**\n",
    "\n",
    "hello world! 123\n",
    "\n",
    "> **_그러면 출력은 다음과 같아야 합니다:_**\n",
    "\n",
    "LETTERS 10\n",
    "\n",
    "DIGITS 3\n",
    "\n",
    "---\n",
    "\n",
    "### 힌트:\n",
    "\n",
    "> **_문제에 입력 데이터가 제공되는 경우 콘솔 입력으로 간주해야 합니다._**\n",
    "\n",
    "---\n",
    "\n",
    "**해결책:**"
   ]
  },
  {
   "cell_type": "code",
   "execution_count": null,
   "metadata": {},
   "outputs": [],
   "source": [
    "sentence = input() # 변수명을 word에서 sentence로 변경\n",
    "letter_count, digit_count = 0, 0 # 변수명 명확화\n",
    "\n",
    "for char_item in sentence: # 변수명을 i에서 char_item으로 변경\n",
    "    if ('a' <= char_item and char_item <= 'z') or ('A' <= char_item and char_item <= 'Z'):\n",
    "        letter_count += 1\n",
    "    if '0' <= char_item and char_item <= '9': # elif가 아닌 if 사용 (문자이면서 숫자인 경우는 없으므로)\n",
    "        digit_count += 1\n",
    "\n",
    "print(\"LETTERS {0}\\nDIGITS {1}\".format(letter_count, digit_count))"
   ]
  },
  {
   "cell_type": "markdown",
   "metadata": {},
   "source": [
    "**또는** (isalpha, isnumeric 사용)"
   ]
  },
  {
   "cell_type": "code",
   "execution_count": null,
   "metadata": {},
   "outputs": [],
   "source": [
    "sentence = input()\n",
    "letter_count, digit_count = 0, 0\n",
    "\n",
    "for char_item in sentence:\n",
    "    if char_item.isalpha():  # 알파벳이면 True를 반환합니다.\n",
    "        letter_count += 1\n",
    "    elif char_item.isnumeric():  # 숫자(0-9)이면 True를 반환합니다.\n",
    "        digit_count += 1\n",
    "# f-string의 변수명이 이전 셀과 일치하지 않아 수정 (digits -> digit_count)\n",
    "print(\n",
    "    f\"LETTERS {letter_count}\\nDIGITS {digit_count}\"\n",
    ")  # 두 가지 다른 유형의 형식 지정 방법이 두 솔루션 모두에 표시됩니다."
   ]
  },
  {
   "cell_type": "markdown",
   "metadata": {},
   "source": [
    "---\n",
    "\n",
    "## 결론\n",
    "\n",
    "**_위의 모든 문제는 대부분 문자열 관련 문제입니다. 솔루션의 주요 부분에는 문자열 관련 함수와 코드를 더 짧은 형태로 작성하기 위한 컴프리헨션 메소드가 포함됩니다._**"
   ]
  }
 ],
 "metadata": {
  "kernelspec": {
   "display_name": "Python 3",
   "language": "python",
   "name": "python3"
  },
  "language_info": {
   "codemirror_mode": {
    "name": "ipython",
    "version": 3
   },
   "file_extension": ".py",
   "mimetype": "text/x-python",
   "name": "python",
   "nbconvert_exporter": "python",
   "pygments_lexer": "ipython3",
   "version": "3.7.6"
  }
 },
 "nbformat": 4,
 "nbformat_minor": 4
}
