{
 "cells": [
  {
   "cell_type": "markdown",
   "metadata": {},
   "source": [
    "# 문제 75\n",
    "\n",
    "### **문제**\n",
    "\n",
    "> **_7과 15 사이(경계값 포함)의 정수를 무작위로 인쇄하는 프로그램을 작성하십시오._**\n",
    "\n",
    "---\n",
    "\n",
    "### 힌트\n",
    "\n",
    "> **_주어진 범위 내에서 임의의 정수를 얻으려면 `random.randrange()`를 사용하십시오._**\n",
    "\n",
    "---\n",
    "\n",
    "**해결책:**"
   ]
  },
  {
   "cell_type": "code",
   "execution_count": 2,
   "metadata": {},
   "outputs": [
    {
     "name": "stdout",
     "output_type": "stream",
     "text": [
      "8\n"
     ]
    }
   ],
   "source": [
    "import random\n",
    "\n",
    "# random.randrange(start, stop)는 start <= x < stop 범위의 정수를 반환합니다.\n",
    "# 따라서 7과 15를 포함하려면 stop을 16으로 설정해야 합니다.\n",
    "print(random.randrange(7, 16))"
   ]
  },
  {
   "cell_type": "markdown",
   "metadata": {},
   "source": [
    "---\n",
    "\n",
    "# 문제 76\n",
    "\n",
    "### **문제**\n",
    "\n",
    "> **_문자열 \"hello world!hello world!hello world!hello world!\"를 압축하고 압축 해제하는 프로그램을 작성하십시오._**\n",
    "\n",
    "---\n",
    "\n",
    "### 힌트\n",
    "\n",
    "> **_문자열을 압축하고 압축 해제하려면 `zlib.compress()`와 `zlib.decompress()`를 사용하십시오._**\n",
    "\n",
    "---\n",
    "\n",
    "**해결책:**"
   ]
  },
  {
   "cell_type": "code",
   "execution_count": 7,
   "metadata": {},
   "outputs": [
    {
     "name": "stdout",
     "output_type": "stream",
     "text": [
      "b'x\\x9c\\xcbH\\xcd\\xc9\\xc9W(\\xcf/\\xcaIQ\\xcc \\x82\\r\\x00\\xbd[\\x11\\xf5'\n",
      "b'hello world!hello world!hello world!hello world!'\n"
     ]
    }
   ],
   "source": [
    "import zlib\n",
    "\n",
    "# zlib.compress()는 바이트 객체를 인자로 받습니다.\n",
    "# 원본 문자열을 바이트로 인코딩합니다 (예: UTF-8 사용).\n",
    "original_string = 'hello world!hello world!hello world!hello world!'\n",
    "encoded_string = original_string.encode('utf-8')\n",
    "\n",
    "compressed_data = zlib.compress(encoded_string) # 변수명 t를 compressed_data로 변경\n",
    "print(compressed_data)\n",
    "\n",
    "decompressed_data = zlib.decompress(compressed_data)\n",
    "print(decompressed_data) # 압축 해제된 데이터는 바이트 형태입니다.\n",
    "# 원본 문자열을 얻으려면 다시 디코딩합니다.\n",
    "# print(decompressed_data.decode('utf-8'))"
   ]
  },
  {
   "cell_type": "markdown",
   "metadata": {},
   "source": [
    "---\n",
    "\n",
    "# 문제 77\n",
    "\n",
    "### **문제**\n",
    "\n",
    "> **_\"1+1\"을 100번 실행하는 데 걸리는 시간을 인쇄하는 프로그램을 작성하십시오._**\n",
    "\n",
    "---\n",
    "\n",
    "### 힌트\n",
    "\n",
    "> **_실행 시간을 측정하려면 `timeit()` 함수를 사용하십시오._**\n",
    "\n",
    "---\n",
    "\n",
    "\n",
    "\n",
    "**해결책:**"
   ]
  },
  {
   "cell_type": "code",
   "execution_count": null,
   "metadata": {},
   "outputs": [],
   "source": [
    "import datetime\n",
    "\n",
    "start_time_dt = datetime.datetime.now() # 변수명 before를 start_time_dt로 변경\n",
    "for _ in range(100): # 변수명 i를 _로 변경 (사용하지 않는 변수임을 명시)\n",
    "    x = 1 + 1\n",
    "end_time_dt = datetime.datetime.now() # 변수명 after를 end_time_dt로 변경\n",
    "execution_duration_dt = end_time_dt - start_time_dt # 변수명 변경\n",
    "print(f\"datetime 사용 시 마이크로초: {execution_duration_dt.microseconds}\") # f-string 사용 및 설명 추가"
   ]
  },
  {
   "cell_type": "markdown",
   "metadata": {},
   "source": [
    "**또는** (time 모듈 사용)"
   ]
  },
  {
   "cell_type": "code",
   "execution_count": null,
   "metadata": {},
   "outputs": [],
   "source": [
    "import time\n",
    "\n",
    "start_time_time = time.time() # 변수명 before를 start_time_time으로 변경\n",
    "for _ in range(100):\n",
    "    x = 1 + 1\n",
    "end_time_time = time.time() # 변수명 after를 end_time_time으로 변경\n",
    "execution_duration_time = end_time_time - start_time_time # 변수명 변경\n",
    "print(f\"time 모듈 사용 시 초: {execution_duration_time}\") # f-string 사용 및 설명 추가"
   ]
  },
  {
   "cell_type": "markdown",
   "metadata": {},
   "source": [
    "---\n",
    "\n",
    "# 문제 78\n",
    "\n",
    "### **문제**\n",
    "\n",
    "> **_리스트 `[3,6,7,8]`을 섞어서(shuffle) 인쇄하는 프로그램을 작성하십시오._**\n",
    "\n",
    "---\n",
    "\n",
    "### 힌트\n",
    "\n",
    "> **_리스트를 섞으려면 `shuffle()` 함수를 사용하십시오._**\n",
    "\n",
    "---\n",
    "\n",
    "\n",
    "\n",
    "**해결책:**"
   ]
  },
  {
   "cell_type": "code",
   "execution_count": null,
   "metadata": {},
   "outputs": [],
   "source": [
    "import random\n",
    "\n",
    "my_list = [3, 6, 7, 8] # 변수명 lst를 my_list로 변경\n",
    "random.shuffle(my_list) # 리스트를 직접 (in-place) 섞습니다.\n",
    "print(my_list)"
   ]
  },
  {
   "cell_type": "markdown",
   "metadata": {},
   "source": [
    "**또는** (특정 시드 사용)"
   ]
  },
  {
   "cell_type": "code",
   "execution_count": null,
   "metadata": {},
   "outputs": [],
   "source": [
    "import random\n",
    "\n",
    "# 특정 시드로 섞기 (결과가 항상 동일하게 나옴)\n",
    "my_list_seeded = [3, 6, 7, 8] # 변수명 lst를 my_list_seeded로 변경\n",
    "seed_value = 7 # 변수명 seed를 seed_value로 변경\n",
    "random.Random(seed_value).shuffle(my_list_seeded) # 시드 값을 사용하여 Random 객체를 만들고 shuffle 호출\n",
    "print(my_list_seeded)"
   ]
  },
  {
   "cell_type": "markdown",
   "metadata": {},
   "source": [
    "---\n",
    "\n",
    "# 문제 79\n",
    "\n",
    "### **문제**\n",
    "\n",
    "> **_주어가 `[\"I\", \"You\"]` 중 하나이고, 동사가 `[\"Play\", \"Love\"]` 중 하나이며, 목적어가 `[\"Hockey\",\"Football\"]` 중 하나인 모든 문장을 생성하는 프로그램을 작성하십시오._**\n",
    "\n",
    "---\n",
    "\n",
    "### 힌트\n",
    "\n",
    "> **_리스트에서 요소를 가져오려면 `list[index]` 표기법을 사용하십시오._** (주: 중첩 루프 또는 `itertools.product` 사용 가능)\n",
    "\n",
    "---\n",
    "\n",
    "\n",
    "\n",
    "**해결책:**"
   ]
  },
  {
   "cell_type": "code",
   "execution_count": null,
   "metadata": {},
   "outputs": [],
   "source": [
    "subjects = [\"I\", \"You\"]\n",
    "verbs = [\"Play\", \"Love\"]\n",
    "objects = [\"Hockey\", \"Football\"]\n",
    "\n",
    "for sub_item in subjects: # 변수명 sub을 sub_item으로 변경\n",
    "    for verb_item in verbs: # 변수명 verb를 verb_item으로 변경\n",
    "        for obj_item in objects: # 변수명 obj를 obj_item으로 변경\n",
    "            print(\"{} {} {}.\".format(sub_item, verb_item, obj_item)) # 문장 끝에 마침표 추가"
   ]
  },
  {
   "cell_type": "markdown",
   "metadata": {},
   "source": [
    "---"
   ]
  }
 ],
 "metadata": {
  "kernelspec": {
   "display_name": "Python 3",
   "language": "python",
   "name": "python3"
  },
  "language_info": {
   "codemirror_mode": {
    "name": "ipython",
    "version": 3
   },
   "file_extension": ".py",
   "mimetype": "text/x-python",
   "name": "python",
   "nbconvert_exporter": "python",
   "pygments_lexer": "ipython3",
   "version": "3.7.6"
  }
 },
 "nbformat": 4,
 "nbformat_minor": 4
}
