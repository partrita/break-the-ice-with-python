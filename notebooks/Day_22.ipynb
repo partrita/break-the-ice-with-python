{
 "cells": [
  {
   "cell_type": "markdown",
   "metadata": {},
   "source": [
    "# 문제 90\n",
    "\n",
    "### **문제**\n",
    "\n",
    "> **_콘솔에서 입력받은 문자열의 각 문자 수를 세어 인쇄하는 프로그램을 작성하십시오._**\n",
    "\n",
    "> **_예시:\n",
    "> 다음 문자열이 프로그램에 입력으로 주어지면:_**\n",
    "\n",
    "```\n",
    "abcdefgabc\n",
    "```\n",
    "\n",
    "> **_그러면 프로그램의 출력은 다음과 같아야 합니다:_** (주: 출력 순서는 다를 수 있습니다)\n",
    "\n",
    "```\n",
    "a,2\n",
    "c,2\n",
    "b,2\n",
    "e,1\n",
    "d,1\n",
    "g,1\n",
    "f,1\n",
    "```\n",
    "\n",
    "### 힌트\n",
    "\n",
    "> **_키/값 쌍을 저장하려면 `dict`를 사용하십시오.\n",
    "> 기본값으로 키를 조회하려면 `dict.get()` 메소드를 사용하십시오._**\n",
    "\n",
    "---\n",
    "\n",
    "**해결책:**"
   ]
  },
  {
   "cell_type": "code",
   "execution_count": null,
   "metadata": {},
   "outputs": [],
   "source": [
    "import string\n",
    "\n",
    "input_str = input(\"문자열을 입력하세요: \") # 변수명 s를 input_str로, 프롬프트 추가\n",
    "# 이 방식은 알파벳 소문자만 계산합니다. 모든 문자를 계산하려면 다른 접근 방식이 필요합니다.\n",
    "for char_code in string.ascii_lowercase: # 변수명 letter를 char_code로 변경\n",
    "    count = input_str.count(char_code) # 변수명 cnt를 count로 변경\n",
    "    if count > 0:\n",
    "        print(\"{},{}\".format(char_code, count))\n",
    "\n",
    "# 모든 문자를 계산하는 방법 (딕셔너리 사용):\n",
    "# char_counts = {}\n",
    "# for char_item in input_str:\n",
    "#     char_counts[char_item] = char_counts.get(char_item, 0) + 1\n",
    "# for char_item, count_val in sorted(char_counts.items()): # 정렬된 순서로 출력\n",
    "#     print(f\"{char_item},{count_val}\")"
   ]
  },
  {
   "cell_type": "markdown",
   "metadata": {},
   "source": [
    "**또는** (ord/chr 사용 - 알파벳 소문자만)"
   ]
  },
  {
   "cell_type": "code",
   "execution_count": null,
   "metadata": {},
   "outputs": [],
   "source": [
    "input_str_ord = input(\"문자열을 입력하세요: \") # 변수명 s를 input_str_ord로 변경\n",
    "for letter_ascii_val in range(ord(\"a\"), ord(\"z\") + 1):  # ord()는 문자의 ASCII(유니코드) 값을 반환합니다.\n",
    "    current_char = chr(letter_ascii_val)  # chr()은 ASCII(유니코드) 값을 문자로 변환합니다.\n",
    "    char_count_ord = input_str_ord.count(current_char) # 변수명 cnt를 char_count_ord로 변경\n",
    "    if char_count_ord > 0:\n",
    "        print(\"{},{}\".format(current_char, char_count_ord))"
   ]
  },
  {
   "cell_type": "markdown",
   "metadata": {},
   "source": [
    "---\n",
    "\n",
    "# 문제 91\n",
    "\n",
    "### **문제**\n",
    "\n",
    "> **_콘솔에서 문자열을 입력받아 역순으로 인쇄하는 프로그램을 작성하십시오._**\n",
    "\n",
    "> **예시:\n",
    "> 다음 문자열이 프로그램에 입력으로 주어지면:** (원문: program:\\* -> program:)\n",
    "\n",
    "\n",
    "rise to vote sir\n",
    "\n",
    "\n",
    "> **_그러면 프로그램의 출력은 다음과 같아야 합니다:_**\n",
    "\n",
    "ris etov ot esir\n",
    "\n",
    "### 힌트\n",
    "\n",
    "> **_리스트(또는 문자열)를 역순으로 슬라이싱하려면 `[::-1]`을 사용하십시오._**\n",
    "\n",
    "---\n",
    "\n",
    "**해결책:**"
   ]
  },
  {
   "cell_type": "code",
   "execution_count": null,
   "metadata": {},
   "outputs": [],
   "source": [
    "input_string_rev = input(\"문자열을 입력하세요: \") # 변수명 s를 input_string_rev로 변경\n",
    "reversed_string = \"\".join(reversed(input_string_rev)) # reversed()는 이터레이터를 반환\n",
    "print(reversed_string)\n",
    "\n",
    "# 또는 슬라이싱 사용:\n",
    "# reversed_string_slicing = input_string_rev[::-1]\n",
    "# print(reversed_string_slicing)"
   ]
  },
  {
   "cell_type": "markdown",
   "metadata": {},
   "source": [
    "---\n",
    "\n",
    "# 문제 92\n",
    "\n",
    "### **문제**\n",
    "\n",
    "> **_콘솔에서 문자열을 입력받아 짝수 인덱스의 문자들을 인쇄하는 프로그램을 작성하십시오._**\n",
    "\n",
    "> **_예시:\n",
    "> 다음 문자열이 프로그램에 입력으로 주어지면:_**\n",
    "```\n",
    "H1e2l3l4o5w6o7r8l9d\n",
    "```\n",
    "> **_그러면 프로그램의 출력은 다음과 같아야 합니다:_**\n",
    "```\n",
    "Helloworld\n",
    "```\n",
    "### 힌트\n",
    "\n",
    "> **_리스트(또는 문자열)를 2단계씩 건너뛰며 슬라이싱하려면 `[::2]`를 사용하십시오._**\n",
    "\n",
    "---\n",
    "\n",
    "\n",
    "\n",
    "**해결책:**"
   ]
  },
  {
   "cell_type": "code",
   "execution_count": null,
   "metadata": {},
   "outputs": [],
   "source": [
    "input_str_even = \"H1e2l3l4o5w6o7r8l9d\" # 예제 입력, 변수명 s를 input_str_even으로 변경\n",
    "# 리스트 컴프리헨션을 사용하여 짝수 인덱스의 문자들을 선택합니다.\n",
    "even_indexed_chars_list = [input_str_even[i] for i in range(len(input_str_even)) if i % 2 == 0]\n",
    "print(\"\".join(even_indexed_chars_list))\n",
    "\n",
    "# 또는 슬라이싱 사용:\n",
    "# even_indexed_chars_slicing = input_str_even[::2]\n",
    "# print(even_indexed_chars_slicing)"
   ]
  },
  {
   "cell_type": "markdown",
   "metadata": {},
   "source": [
    "**또는** (루프 사용)"
   ]
  },
  {
   "cell_type": "code",
   "execution_count": null,
   "metadata": {},
   "outputs": [],
   "source": [
    "input_str_loop = \"H1e2l3l4o5w6o7r8l9d\" # 변수명 s를 input_str_loop로 변경\n",
    "new_string = \"\" # 변수명 ns를 new_string으로 변경\n",
    "for i in range(len(input_str_loop)):\n",
    "    if i % 2 == 0: # 인덱스가 짝수이면\n",
    "        new_string += input_str_loop[i] # 새 문자열에 추가\n",
    "print(new_string)"
   ]
  },
  {
   "cell_type": "markdown",
   "metadata": {},
   "source": [
    "---\n",
    "\n",
    "# 문제 93\n",
    "\n",
    "### **문제**\n",
    "\n",
    "> **_`[1,2,3]`의 모든 순열을 인쇄하는 프로그램을 작성하십시오._**\n",
    "\n",
    "---\n",
    "\n",
    "### 힌트\n",
    "\n",
    "> **_리스트의 순열을 얻으려면 `itertools.permutations()`를 사용하십시오._**\n",
    "\n",
    "---\n",
    "\n",
    "**해결책:**"
   ]
  },
  {
   "cell_type": "code",
   "execution_count": 1,
   "metadata": {},
   "outputs": [
    {
     "name": "stdout",
     "output_type": "stream",
     "text": [
      "[(1, 2, 3), (1, 3, 2), (2, 1, 3), (2, 3, 1), (3, 1, 2), (3, 2, 1)]\n"
     ]
    }
   ],
   "source": [
    "import itertools\n",
    "\n",
    "# itertools.permutations()는 순열을 포함하는 이터레이터를 반환합니다.\n",
    "# list()로 변환하여 모든 순열을 리스트로 만듭니다.\n",
    "print(list(itertools.permutations([1, 2, 3])))"
   ]
  },
  {
   "cell_type": "markdown",
   "metadata": {},
   "source": [
    "---\n",
    "(popomaticbubble 제공 솔루션)",
    "\n",
    "# 문제 94\n",
    "\n",
    "### **문제**\n",
    "\n",
    "> **_고전적인 중국 고대 퍼즐을 푸는 프로그램을 작성하십시오:\n",
    "> 농장에 있는 닭과 토끼의 머리 수를 세니 35개이고 다리 수를 세니 94개입니다. 토끼와 닭은 각각 몇 마리입니까?_**\n",
    "\n",
    "---\n",
    "\n",
    "### 힌트\n",
    "\n",
    "> **_모든 가능한 해를 반복하려면 `for` 루프를 사용하십시오._**\n",
    "\n",
    "---\n",
    "\n",
    "**해결책:**"
   ]
  },
  {
   "cell_type": "code",
   "execution_count": 3,
   "metadata": {
    "code_folding": []
   },
   "outputs": [
    {
     "name": "stdout",
     "output_type": "stream",
     "text": [
      "(23, 12)\n"
     ]
    }
   ],
   "source": [
    "def solve_puzzle(num_heads, num_legs): # 함수명 solve를 solve_puzzle로, 변수명 변경\n",
    "    no_solution_msg = \"해답 없음!\" # \"No solutions!\" 번역, 변수명 ns를 no_solution_msg로 변경\n",
    "    for num_chickens in range(num_heads + 1): # i를 num_chickens로 변경 (닭의 수)\n",
    "        num_rabbits = num_heads - num_chickens # j를 num_rabbits로 변경 (토끼의 수)\n",
    "        if 2 * num_chickens + 4 * num_rabbits == num_legs: # 닭 다리 + 토끼 다리 == 총 다리 수\n",
    "            return num_chickens, num_rabbits # 닭의 수, 토끼의 수 반환\n",
    "    return no_solution_msg, no_solution_msg # 해답을 찾지 못하면 메시지 반환\n",
    "\n",
    "\n",
    "total_heads = 35 # 변수명 numheads를 total_heads로 변경\n",
    "total_legs = 94 # 변수명 numlegs를 total_legs로 변경\n",
    "solution_counts = solve_puzzle(total_heads, total_legs) # 변수명 solutions를 solution_counts로 변경\n",
    "print(solution_counts) # Python 3의 print() 함수 사용"
   ]
  },
  {
   "cell_type": "markdown",
   "metadata": {},
   "source": [
    "---"
   ]
  }
 ],
 "metadata": {
  "kernelspec": {
   "display_name": "Python 3",
   "language": "python",
   "name": "python3"
  },
  "language_info": {
   "codemirror_mode": {
    "name": "ipython",
    "version": 3
   },
   "file_extension": ".py",
   "mimetype": "text/x-python",
   "name": "python",
   "nbconvert_exporter": "python",
   "pygments_lexer": "ipython3",
   "version": "3.7.6"
  }
 },
 "nbformat": 4,
 "nbformat_minor": 4
}
