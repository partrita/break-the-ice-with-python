{
 "cells": [
  {
   "cell_type": "markdown",
   "metadata": {},
   "source": [
    "# 문제 4\n",
    "\n",
    "### **문제:**\n",
    "\n",
    "> **_콘솔에서 쉼표로 구분된 숫자 시퀀스를 입력받아 모든 숫자를 포함하는 리스트와 튜플을 생성하는 프로그램을 작성하십시오. 다음과 같은 입력이 프로그램에 제공된다고 가정합니다:_**\n",
    "\n",
    "\n",
    "34,67,55,33,12,98\n",
    "\n",
    "\n",
    "> **_그러면 출력은 다음과 같아야 합니다:_**\n",
    "\n",
    "\n",
    "['34', '67', '55', '33', '12', '98']\n",
    "('34', '67', '55', '33', '12', '98')\n",
    "\n",
    "\n",
    "### 힌트:\n",
    "\n",
    "> **_문제에 입력 데이터가 제공되는 경우 콘솔 입력으로 간주해야 합니다. tuple() 메소드는 리스트를 튜플로 변환할 수 있습니다._**\n",
    "\n",
    "---\n",
    "\n",
    "\n",
    "\n",
    "**해결책:**"
   ]
  },
  {
   "cell_type": "code",
   "execution_count": 1,
   "metadata": {},
   "outputs": [
    {
     "name": "stdin",
     "output_type": "stream",
     "text": [
      " 34, 67, 55\n"
     ]
    },
    {
     "name": "stdout",
     "output_type": "stream",
     "text": [
      "['34', ' 67', ' 55']\n",
      "('34', ' 67', ' 55')\n"
     ]
    }
   ],
   "source": [
    "lst = input().split(\",\")\n",
    "# 입력은 문자열로 받아지고 문자열이므로 내장 메소드 split을 가집니다.\n",
    "# split 함수 안의 ','는 ','를 찾을 때마다 분할하고\n",
    "# 입력을 lst 변수에 리스트로 저장합니다.\n",
    "\n",
    "tpl = tuple(lst)  # tuple 메소드는 리스트를 튜플로 변환합니다.\n",
    "\n",
    "print(lst)\n",
    "print(tpl)"
   ]
  },
  {
   "cell_type": "markdown",
   "metadata": {},
   "source": [
    "---\n",
    "\n",
    "# 문제 5\n",
    "\n",
    "### **문제:**\n",
    "\n",
    "> **_최소 두 개의 메소드를 가진 클래스를 정의하십시오:_**\n",
    ">\n",
    "> - **_getString: 콘솔 입력에서 문자열을 가져옵니다._**\n",
    "> - **_printString: 문자열을 대문자로 인쇄합니다._**\n",
    "\n",
    "> **_또한 클래스 메소드를 테스트하기 위한 간단한 테스트 함수를 포함하십시오._**\n",
    "\n",
    "### 힌트:\n",
    "\n",
    "> **_**init** 메소드를 사용하여 일부 매개변수를 생성하십시오._**\n",
    "\n",
    "---\n",
    "\n",
    "\n",
    "\n",
    "**해결책:**"
   ]
  },
  {
   "cell_type": "code",
   "execution_count": 2,
   "metadata": {},
   "outputs": [
    {
     "name": "stdin",
     "output_type": "stream",
     "text": [
      " abc\n"
     ]
    },
    {
     "name": "stdout",
     "output_type": "stream",
     "text": [
      "ABC\n"
     ]
    }
   ],
   "source": [
    "class IOstring:\n",
    "    def __init__(self):\n",
    "        pass\n",
    "\n",
    "    def get_string(self):\n",
    "        self.s = input()\n",
    "\n",
    "    def print_string(self):\n",
    "        print(self.s.upper())\n",
    "\n",
    "\n",
    "xx = IOstring()\n",
    "xx.get_string()\n",
    "xx.print_string()"
   ]
  },
  {
   "cell_type": "markdown",
   "metadata": {},
   "source": [
    "---\n",
    "\n",
    "# 문제 6\n",
    "\n",
    "### **문제:**\n",
    "\n",
    "> **_주어진 공식에 따라 값을 계산하고 인쇄하는 프로그램을 작성하십시오:_**\n",
    "\n",
    "> **_Q = [(2 * C * D)/H]의 제곱근_**\n",
    "\n",
    "> **_다음은 C와 H의 고정 값입니다:_**\n",
    "\n",
    "> **_C는 50입니다. H는 30입니다._**\n",
    "\n",
    "> **_D는 쉼표로 구분된 시퀀스로 프로그램에 입력해야 하는 변수입니다. 예를 들어_**\n",
    "> **_다음과 같은 쉼표로 구분된 입력 시퀀스가 프로그램에 제공된다고 가정합니다:_**\n",
    "\n",
    "\n",
    "100,150,180\n",
    "\n",
    "\n",
    "> **_프로그램의 출력은 다음과 같아야 합니다:_**\n",
    "\n",
    "\n",
    "18,22,24\n",
    "\n",
    "\n",
    "---\n",
    "\n",
    "### 힌트:\n",
    "\n",
    "> **_받은 출력이 십진수 형태인 경우 가장 가까운 값으로 반올림해야 합니다 (예: 받은 출력이 26.0이면 26으로 인쇄해야 함). 문제에 입력 데이터가 제공되는 경우 콘솔 입력으로 간주해야 합니다._**\n",
    "\n",
    "---\n",
    "\n",
    "\n",
    "\n",
    "**해결책:**"
   ]
  },
  {
   "cell_type": "code",
   "execution_count": 3,
   "metadata": {},
   "outputs": [
    {
     "name": "stdin",
     "output_type": "stream",
     "text": [
      " 100, 150, 180\n"
     ]
    },
    {
     "name": "stdout",
     "output_type": "stream",
     "text": [
      "18,22,24\n"
     ]
    }
   ],
   "source": [
    "from math import sqrt  # *를 사용하여 모든 것을 가져오는 것은 좋지 않으므로 특정 함수만 가져옵니다.\n",
    "\n",
    "# 나쁜 습관입니다.\n",
    "\n",
    "C, H = 50, 30\n",
    "\n",
    "\n",
    "def calc(D):\n",
    "    return sqrt((2 * C * D) / H)\n",
    "\n",
    "\n",
    "D_input = [int(i) for i in input().split(\",\")]  # 쉼표 위치에서 분할하고 리스트에 설정합니다.\n",
    "# D_input = [int(i) for i in D_input]  # 문자열을 정수로 변환합니다. (위 라인에서 이미 수행됨)\n",
    "D_calc = [calc(i) for i in D_input]  # D_input의 모든 항목에 대해 calc 메소드로 부동 소수점 값을 반환합니다.\n",
    "D_round = [round(i) for i in D_calc]  # 모든 부동 소수점 값을 반올림합니다.\n",
    "D_str = [\n",
    "    str(i) for i in D_round\n",
    "]  # join 연산을 적용할 수 있도록 모든 정수를 문자열로 변환합니다.\n",
    "\n",
    "print(\",\".join(D_str))"
   ]
  },
  {
   "cell_type": "markdown",
   "metadata": {},
   "source": [
    "**또는**"
   ]
  },
  {
   "cell_type": "code",
   "execution_count": null,
   "metadata": {},
   "outputs": [],
   "source": [
    "from math import sqrt\n",
    "\n",
    "C, H = 50, 30\n",
    "\n",
    "\n",
    "def calc(D):\n",
    "    return sqrt((2 * C * D) / H)\n",
    "\n",
    "\n",
    "D_input = input().split(\",\")  # 쉼표 위치에서 분할하고 리스트에 설정합니다.\n",
    "D_processed = [\n",
    "    str(round(calc(int(i)))) for i in D_input\n",
    "]  # 컴프리헨션 메소드를 사용합니다. 이전 코드의 순서대로 작동합니다.\n",
    "print(\",\".join(D_processed))"
   ]
  },
  {
   "cell_type": "markdown",
   "metadata": {},
   "source": [
    "**또는**"
   ]
  },
  {
   "cell_type": "code",
   "execution_count": null,
   "metadata": {},
   "outputs": [],
   "source": [
    "from math import sqrt\n",
    "\n",
    "C, H = 50, 30\n",
    "\n",
    "\n",
    "def calc(D):\n",
    "    return sqrt((2 * C * D) / H)\n",
    "\n",
    "\n",
    "print(\",\".join([str(int(calc(int(i)))) for i in input().split(\",\")]))"
   ]
  },
  {
   "cell_type": "markdown",
   "metadata": {},
   "source": [
    "**또는**"
   ]
  },
  {
   "cell_type": "code",
   "execution_count": null,
   "metadata": {},
   "outputs": [],
   "source": [
    "from math import *  # 모든 수학 함수를 가져옵니다.\n",
    "\n",
    "C, H = 50, 30\n",
    "\n",
    "\n",
    "def calc(D_val):\n",
    "    D_int = int(D_val)\n",
    "    return str(int(sqrt((2 * C * D_int) / H)))\n",
    "\n",
    "\n",
    "D_list = input().split(\",\")\n",
    "D_mapped = list(map(calc, D_list))  # D_list에 calc 함수를 적용하고 리스트로 저장합니다.\n",
    "print(\",\".join(D_mapped))"
   ]
  },
  {
   "cell_type": "markdown",
   "metadata": {},
   "source": [
    "---\n",
    "\n",
    "# 문제 7\n",
    "\n",
    "### **문제:**\n",
    "\n",
    "> **_2개의 숫자 X,Y를 입력받아 2차원 배열을 생성하는 프로그램을 작성하십시오. 배열의 i번째 행과 j번째 열의 요소 값은 i * j여야 합니다._**\n",
    "\n",
    "> **_참고: i=0,1.., X-1; j=0,1,¡Y-1. 다음과 같은 입력이 프로그램에 제공된다고 가정합니다: 3,5_**\n",
    "\n",
    "> **_그러면 프로그램의 출력은 다음과 같아야 합니다:_**\n",
    "\n",
    "\n",
    "[[0, 0, 0, 0, 0], [0, 1, 2, 3, 4], [0, 2, 4, 6, 8]]\n",
    "\n",
    "\n",
    "---\n",
    "\n",
    "### 힌트:\n",
    "\n",
    "> **_참고: 문제에 입력 데이터가 제공되는 경우 쉼표로 구분된 형태로 콘솔 입력으로 간주해야 합니다._**\n",
    "\n",
    "---\n",
    "\n",
    "\n",
    "\n",
    "**해결책:**"
   ]
  },
  {
   "cell_type": "code",
   "execution_count": null,
   "metadata": {},
   "outputs": [],
   "source": [
    "x, y = map(int, input().split(\",\"))\n",
    "lst = []\n",
    "\n",
    "for i in range(x):\n",
    "    tmp = []\n",
    "    for j in range(y):\n",
    "        tmp.append(i * j)\n",
    "    lst.append(tmp)\n",
    "\n",
    "print(lst)"
   ]
  },
  {
   "cell_type": "markdown",
   "metadata": {},
   "source": [
    "**또는**"
   ]
  },
  {
   "cell_type": "code",
   "execution_count": null,
   "metadata": {},
   "outputs": [],
   "source": [
    "x, y = map(int, input().split(\",\"))\n",
    "lst = [[i * j for j in range(y)] for i in range(x)]\n",
    "print(lst)"
   ]
  },
  {
   "cell_type": "markdown",
   "metadata": {},
   "source": [
    "---\n",
    "\n",
    "# 문제 8\n",
    "\n",
    "### **문제:**\n",
    "\n",
    "> **_쉼표로 구분된 단어 시퀀스를 입력받아 알파벳순으로 정렬한 후 쉼표로 구분된 시퀀스로 단어를 인쇄하는 프로그램을 작성하십시오._**\n",
    "\n",
    "> **_다음과 같은 입력이 프로그램에 제공된다고 가정합니다:_**\n",
    "\n",
    "\n",
    "without,hello,bag,world\n",
    "\n",
    "\n",
    "> **_그러면 출력은 다음과 같아야 합니다:_**\n",
    "\n",
    "\n",
    "bag,hello,without,world\n",
    "\n",
    "\n",
    "---\n",
    "\n",
    "### 힌트:\n",
    "\n",
    "> **_문제에 입력 데이터가 제공되는 경우 콘솔 입력으로 간주해야 합니다._**\n",
    "\n",
    "---\n",
    "\n",
    "\n",
    "\n",
    "**해결책:**"
   ]
  },
  {
   "cell_type": "code",
   "execution_count": null,
   "metadata": {},
   "outputs": [],
   "source": [
    "lst = input().split(\",\")\n",
    "lst.sort()\n",
    "print(\",\".join(lst))"
   ]
  },
  {
   "cell_type": "markdown",
   "metadata": {},
   "source": [
    "---\n",
    "\n",
    "# 문제 9\n",
    "\n",
    "### **문제:**\n",
    "\n",
    "> **_여러 줄의 시퀀스를 입력받아 문장의 모든 문자를 대문자로 만든 후 줄을 인쇄하는 프로그램을 작성하십시오._**\n",
    "\n",
    "> **_다음과 같은 입력이 프로그램에 제공된다고 가정합니다:_**\n",
    "\n",
    "\n",
    "Hello world\n",
    "\n",
    "Practice makes perfect\n",
    "\n",
    "\n",
    "> **_그러면 출력은 다음과 같아야 합니다:_**\n",
    "\n",
    "\n",
    "HELLO WORLD\n",
    "\n",
    "PRACTICE MAKES PERFECT\n",
    "\n",
    "\n",
    "---\n",
    "\n",
    "### 힌트:\n",
    "\n",
    "> **_문제에 입력 데이터가 제공되는 경우 콘솔 입력으로 간주해야 합니다._**\n",
    "\n",
    "---\n",
    "\n",
    "\n",
    "\n",
    "**해결책:**"
   ]
  },
  {
   "cell_type": "code",
   "execution_count": null,
   "metadata": {},
   "outputs": [],
   "source": [
    "lst = []\n",
    "\n",
    "while True: # 무한 루프로 변경하여 빈 입력 전까지 계속 입력받도록 수정\n",
    "    x = input()\n",
    "    if len(x) == 0:\n",
    "        break\n",
    "    lst.append(x.upper())\n",
    "\n",
    "for line in lst:\n",
    "    print(line)"
   ]
  },
  {
   "cell_type": "markdown",
   "metadata": {},
   "source": [
    "**또는**"
   ]
  },
  {
   "cell_type": "code",
   "execution_count": null,
   "metadata": {},
   "outputs": [],
   "source": [
    "def user_input():\n",
    "    while True:\n",
    "        s = input()\n",
    "        if not s: # 빈 문자열이면 False가 되어 return\n",
    "            return\n",
    "        yield s # 입력된 문자열 반환\n",
    "\n",
    "\n",
    "for line in map(str.upper, user_input()): # user_input() 제너레이터의 각 라인에 str.upper 적용\n",
    "    print(line)"
   ]
  },
  {
   "cell_type": "markdown",
   "metadata": {},
   "source": [
    "---"
   ]
  }
 ],
 "metadata": {
  "kernelspec": {
   "display_name": "Python 3",
   "language": "python",
   "name": "python3"
  },
  "language_info": {
   "codemirror_mode": {
    "name": "ipython",
    "version": 3
   },
   "file_extension": ".py",
   "mimetype": "text/x-python",
   "name": "python",
   "nbconvert_exporter": "python",
   "pygments_lexer": "ipython3",
   "version": "3.7.6"
  }
 },
 "nbformat": 4,
 "nbformat_minor": 4
}
