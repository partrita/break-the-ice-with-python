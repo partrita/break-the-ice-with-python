{
 "cells": [
  {
   "cell_type": "markdown",
   "metadata": {},
   "source": [
    "# 문제 54\n",
    "\n",
    "### **문제**\n",
    "\n",
    "> **_\"username@companyname.com\" 형식의 이메일 주소가 있다고 가정하고, 주어진 이메일 주소의 회사 이름을 인쇄하는 프로그램을 작성하십시오. 사용자 이름과 회사 이름은 모두 문자로만 구성됩니다._**\n",
    "\n",
    "> **_예시:\n",
    "> 다음 이메일 주소가 프로그램에 입력으로 주어지면:_**\n",
    "\n",
    "\n",
    "> john@google.com\n",
    "\n",
    "\n",
    "> **_그러면 프로그램의 출력은 다음과 같아야 합니다:_**\n",
    "\n",
    "\n",
    "> google\n",
    "\n",
    "\n",
    "> **_문제에 입력 데이터가 제공되는 경우 콘솔 입력으로 간주해야 합니다._**\n",
    "\n",
    "---\n",
    "\n",
    "### 힌트\n",
    "\n",
    "> **_`\\w`를 사용하여 문자와 일치시킵니다._**\n",
    "\n",
    "---\n",
    "\n",
    "\n",
    "\n",
    "**해결책:**"
   ]
  },
  {
   "cell_type": "code",
   "execution_count": null,
   "metadata": {},
   "outputs": [],
   "source": [
    "import re\n",
    "\n",
    "email_input = \"john@google.com elise@python.com\" # 변수명 email을 email_input으로 변경\n",
    "# 정규 표현식 패턴: \\w+ (하나 이상의 영숫자 문자) @ 뒤에 (\\w+) (회사 이름, 그룹으로 캡처) .com\n",
    "pattern = r\"\\w+@(\\w+)\\.com\" # raw string 사용 및 . 이스케이프\n",
    "company_names = re.findall(pattern, email_input) # 변수명 ans를 company_names로 변경\n",
    "print(company_names) # 예: ['google', 'python']"
   ]
  },
  {
   "cell_type": "markdown",
   "metadata": {},
   "source": [
    "---\n",
    "\n",
    "# 문제 55\n",
    "\n",
    "### **문제**\n",
    "\n",
    "> **_공백으로 구분된 단어 시퀀스를 입력으로 받아 숫자만으로 구성된 단어를 인쇄하는 프로그램을 작성하십시오._**\n",
    "\n",
    "> **_예시:\n",
    "> 다음 단어가 프로그램에 입력으로 주어지면:_**\n",
    "\n",
    "\n",
    "> 2 cats and 3 dogs.\n",
    "\n",
    "\n",
    "> **_그러면 프로그램의 출력은 다음과 같아야 합니다:_**\n",
    "\n",
    "\n",
    "> ['2', '3']\n",
    "\n",
    "\n",
    "> **_문제에 입력 데이터가 제공되는 경우 콘솔 입력으로 간주해야 합니다._**\n",
    "\n",
    "---\n",
    "\n",
    "### 힌트\n",
    "\n",
    "> **_정규식을 사용하여 모든 하위 문자열을 찾으려면 `re.findall()`을 사용하십시오._**\n",
    "\n",
    "---\n",
    "\n",
    "\n",
    "\n",
    "**해결책:**"
   ]
  },
  {
   "cell_type": "code",
   "execution_count": null,
   "metadata": {},
   "outputs": [],
   "source": [
    "import re\n",
    "\n",
    "input_text = input() # 변수명 email을 input_text로 변경\n",
    "pattern = \"\\d+\" # 하나 이상의 숫자로 이루어진 시퀀스\n",
    "digits_found = re.findall(pattern, input_text) # 변수명 ans를 digits_found로 변경\n",
    "print(digits_found)"
   ]
  },
  {
   "cell_type": "markdown",
   "metadata": {},
   "source": [
    "**또는** (isdigit 사용)"
   ]
  },
  {
   "cell_type": "code",
   "execution_count": null,
   "metadata": {},
   "outputs": [],
   "source": [
    "input_words = input().split() # 변수명 email을 input_words로 변경\n",
    "digits_list = [] # 변수명 ans를 digits_list로 변경\n",
    "for word_item in input_words: # 변수명 word를 word_item으로 변경\n",
    "    if word_item.isdigit():  # isnumeric() / isdecimal() 함수도 유사하게 사용 가능합니다.\n",
    "        digits_list.append(word_item)\n",
    "print(digits_list)"
   ]
  },
  {
   "cell_type": "markdown",
   "metadata": {},
   "source": [
    "**또는** (리스트 컴프리헨션 사용)"
   ]
  },
  {
   "cell_type": "code",
   "execution_count": null,
   "metadata": {},
   "outputs": [],
   "source": [
    "input_words_comp = input().split() # 변수명 email을 input_words_comp로 변경\n",
    "digits_list_comp = [word_item for word_item in input_words_comp if word_item.isdigit()]  # 리스트 컴프리헨션 사용, 변수명 변경\n",
    "print(digits_list_comp)"
   ]
  },
  {
   "cell_type": "markdown",
   "metadata": {},
   "source": [
    "---\n",
    "\n",
    "# 문제 56\n",
    "\n",
    "### **문제**\n",
    "\n",
    "> **_유니코드 문자열 \"hello world\"를 인쇄하십시오._**\n",
    "\n",
    "---\n",
    "\n",
    "### 힌트\n",
    "\n",
    "> **_유니코드 문자열을 정의하려면 `u'문자열'` 형식을 사용하십시오._** (주: 파이썬 3에서는 모든 문자열이 기본적으로 유니코드입니다.)\n",
    "\n",
    "---\n",
    "\n",
    "\n",
    "\n",
    "# 문제 57\n",
    "\n",
    "### **문제**\n",
    "\n",
    "> **_ASCII 문자열을 읽어 utf-8로 인코딩된 유니코드 문자열(바이트 시퀀스)로 변환하는 프로그램을 작성하십시오._** (주: 원문은 \"unicode string encoded by utf-8\"인데, 이는 UTF-8 바이트 시퀀스를 의미합니다.)\n",
    "\n",
    "---\n",
    "\n",
    "### 힌트\n",
    "\n",
    "> **_변환하려면 `unicode()/encode()` 함수를 사용하십시오._** (주: 파이썬 2에서는 `unicode()`, 파이썬 3에서는 문자열의 `.encode()` 메소드)\n",
    "\n",
    "---\n",
    "\n",
    "\n",
    "\n",
    "**해결책:**"
   ]
  },
  {
   "cell_type": "code",
   "execution_count": null,
   "metadata": {},
   "outputs": [],
   "source": [
    "s_input = input(\"ASCII 문자열 입력: \") # 변수명 s를 s_input으로 변경, 프롬프트 추가\n",
    "# 파이썬 3에서 input()은 이미 유니코드 문자열을 반환합니다.\n",
    "# 이를 UTF-8 바이트 시퀀스로 \"인코딩\"하려면 .encode()를 사용합니다.\n",
    "u_encoded_bytes = s_input.encode(\"utf-8\") # 변수명 u를 u_encoded_bytes로 변경\n",
    "print(u_encoded_bytes)"
   ]
  },
  {
   "cell_type": "markdown",
   "metadata": {},
   "source": [
    "---\n",
    "\n",
    "# 문제 58\n",
    "\n",
    "### **문제**\n",
    "\n",
    "> **_파이썬 소스 코드 파일이 유니코드(UTF-8)임을 나타내는 특수 주석을 작성하십시오._**\n",
    "\n",
    "---\n",
    "\n",
    "### 힌트\n",
    "\n",
    "> **_변환하려면 `unicode()` 함수를 사용하십시오._** (주: 이 힌트는 문제와 직접 관련이 없어 보입니다. 인코딩 선언 주석에 대한 문제입니다.)\n",
    "\n",
    "---\n",
    "\n",
    "**해결책:**"
   ]
  },
  {
   "cell_type": "code",
   "execution_count": null,
   "metadata": {},
   "outputs": [],
   "source": [
    "# -*- coding: utf-8 -*-"
   ]
  },
  {
   "cell_type": "markdown",
   "metadata": {},
   "source": [
    "---\n",
    "\n",
    "# 문제 59\n",
    "\n",
    "### **문제**\n",
    "\n",
    "> **_콘솔에서 주어진 n(n>0)에 대해 1/2+2/3+3/4+...+n/(n+1)을 계산하는 프로그램을 작성하십시오._**\n",
    "\n",
    "> **_예시:\n",
    "> 다음 n이 프로그램에 입력으로 주어지면:_**\n",
    "\n",
    "\n",
    "> 5\n",
    "\n",
    "\n",
    "> **_그러면 프로그램의 출력은 다음과 같아야 합니다:_**\n",
    "\n",
    "\n",
    "> 3.55\n",
    "\n",
    "\n",
    "> **_문제에 입력 데이터가 제공되는 경우 콘솔 입력으로 간주해야 합니다._**\n",
    "\n",
    "---\n",
    "\n",
    "### 힌트\n",
    "\n",
    "> **_정수를 부동 소수점으로 변환하려면 `float()`를 사용하십시오. 변환하지 않아도 파이썬은 기본적으로 값의 데이터 유형을 이해하므로 문제가 발생하지 않습니다._** (주: 파이썬 2에서는 정수 나누기 정수는 정수 결과를 반환하므로 `float()` 변환이 중요합니다. 파이썬 3에서는 정수 나누기 정수가 부동 소수점 결과를 반환합니다.)\n",
    "\n",
    "---\n",
    "\n",
    "\n",
    "\n",
    "**해결책:**"
   ]
  },
  {
   "cell_type": "code",
   "execution_count": null,
   "metadata": {},
   "outputs": [],
   "source": [
    "n_val = int(input()) # 변수명 n을 n_val로 변경\n",
    "sum_result = 0 # 변수명 sum을 sum_result로 변경 (sum은 내장 함수)\n",
    "for i in range(1, n_val + 1):\n",
    "    sum_result += i / (i + 1) # 파이썬 3에서는 자동 부동 소수점 나누기\n",
    "print(round(sum_result, 2))  # 소수점 이하 2자리로 반올림"
   ]
  },
  {
   "cell_type": "markdown",
   "metadata": {},
   "source": [
    "---"
   ]
  }
 ],
 "metadata": {
  "kernelspec": {
   "display_name": "Python 3",
   "language": "python",
   "name": "python3"
  },
  "language_info": {
   "codemirror_mode": {
    "name": "ipython",
    "version": 3
   },
   "file_extension": ".py",
   "mimetype": "text/x-python",
   "name": "python",
   "nbconvert_exporter": "python",
   "pygments_lexer": "ipython3",
   "version": "3.7.6"
  }
 },
 "nbformat": 4,
 "nbformat_minor": 4
}
