{
 "cells": [
  {
   "cell_type": "markdown",
   "metadata": {},
   "source": [
    "# 문제 47\n",
    "\n",
    "### **문제**\n",
    "\n",
    "> **_반지름으로 생성될 수 있는 `Circle`이라는 클래스를 정의하십시오. `Circle` 클래스에는 넓이를 계산할 수 있는 메소드가 있습니다._**\n",
    "\n",
    "---\n",
    "\n",
    "### 힌트\n",
    "\n",
    "> **_메소드를 정의하려면 `def methodName(self)`를 사용하십시오._**\n",
    "\n",
    "---\n",
    "\n",
    "\n",
    "\n",
    "**해결책:**"
   ]
  },
  {
   "cell_type": "code",
   "execution_count": null,
   "metadata": {},
   "outputs": [],
   "source": [
    "class Circle:\n",
    "    def __init__(self, r):\n",
    "        self.radius = r # 반지름을 인스턴스 변수로 저장\n",
    "\n",
    "    def area(self):\n",
    "        # 원주율로 math.pi를 사용하는 것이 더 정확하지만, 여기서는 문제의 3.1416을 사용합니다.\n",
    "        return 3.1416 * (self.radius ** 2)\n",
    "\n",
    "\n",
    "circle_instance = Circle(5) # 변수명 circle을 circle_instance로 변경\n",
    "print(circle_instance.area())"
   ]
  },
  {
   "cell_type": "markdown",
   "metadata": {},
   "source": [
    "---\n",
    "\n",
    "# 문제 48\n",
    "\n",
    "### **문제**\n",
    "\n",
    "> **_길이와 너비로 생성될 수 있는 `Rectangle`이라는 클래스를 정의하십시오. `Rectangle` 클래스에는 넓이를 계산할 수 있는 메소드가 있습니다._**\n",
    "\n",
    "---\n",
    "\n",
    "### 힌트\n",
    "\n",
    "> **_메소드를 정의하려면 `def methodName(self)`를 사용하십시오._**\n",
    "\n",
    "---\n",
    "\n",
    "\n",
    "\n",
    "**해결책:**"
   ]
  },
  {
   "cell_type": "code",
   "execution_count": null,
   "metadata": {},
   "outputs": [],
   "source": [
    "class Rectangle:\n",
    "    def __init__(self, l, w):\n",
    "        self.length = l # 길이를 인스턴스 변수로 저장\n",
    "        self.width = w  # 너비를 인스턴스 변수로 저장\n",
    "\n",
    "    def area(self):\n",
    "        return self.length * self.width # 넓이 계산\n",
    "\n",
    "\n",
    "rect_instance = Rectangle(2, 4) # 변수명 rect를 rect_instance로 변경\n",
    "print(rect_instance.area())"
   ]
  },
  {
   "cell_type": "markdown",
   "metadata": {},
   "source": [
    "---\n",
    "\n",
    "# 문제 49\n",
    "\n",
    "### **문제**\n",
    "\n",
    "> **_`Shape`이라는 클래스와 그 하위 클래스 `Square`를 정의하십시오. `Square` 클래스에는 길이를 인수로 받는 `init` 함수가 있습니다. 두 클래스 모두 도형의 넓이를 인쇄할 수 있는 `area` 함수를 가지고 있으며, `Shape`의 넓이는 기본적으로 0입니다._** (주: "인쇄할 수 있는" 보다는 "계산하여 반환하는"이 일반적입니다.)\n",
    "\n",
    "---\n",
    "\n",
    "### 힌트\n",
    "\n",
    "> **_슈퍼클래스의 메소드를 재정의하려면, 하위클래스에서 동일한 이름의 메소드를 정의할 수 있습니다._**\n", # 원문 힌트 수정 ("in the super class" -> "in the sub class" 의 의미로 해석)
    "\n",
    "---\n",
    "\n",
    "\n",
    "\n",
    "**해결책:**"
   ]
  },
  {
   "cell_type": "code",
   "execution_count": null,
   "metadata": {},
   "outputs": [],
   "source": [
    "class Shape:\n",
    "    def __init__(self):\n",
    "        pass # 특별한 초기화 없음\n",
    "\n",
    "    def area(self):\n",
    "        return 0 # Shape의 기본 넓이는 0\n",
    "\n",
    "\n",
    "class Square(Shape): # Shape 클래스를 상속\n",
    "    def __init__(self, length=0): # length의 기본값을 0으로 설정\n",
    "        super().__init__() # 부모 클래스(Shape)의 __init__ 호출 (Python 3 스타일)\n",
    "        self.length = length\n",
    "\n",
    "    def area(self):\n",
    "        return self.length * self.length # 정사각형의 넓이 계산\n",
    "\n",
    "\n",
    "square_obj = Square(5) # 변수명 Asqr을 square_obj로 변경\n",
    "print(square_obj.area())  # 주어진 인수로 25를 인쇄합니다.\n",
    "\n",
    "print(Square().area())  # 기본 넓이로 0을 인쇄합니다 (length가 0으로 초기화됨)."
   ]
  },
  {
   "cell_type": "markdown",
   "metadata": {},
   "source": [
    "---\n",
    "\n",
    "# 문제 50\n",
    "\n",
    "### **문제**\n",
    "\n",
    "> **_`RuntimeError` 예외를 발생시키십시오._**\n",
    "\n",
    "---\n",
    "\n",
    "### 힌트\n",
    "\n",
    "> **_예외를 발생시키려면 `raise`를 사용하십시오._**\n",
    "\n",
    "---\n",
    "\n",
    "**해결책:**"
   ]
  },
  {
   "cell_type": "code",
   "execution_count": 1,
   "metadata": {},
   "outputs": [
    {
     "ename": "RuntimeError",
     "evalue": "something wrong",
     "output_type": "error",
     "traceback": [
      "\u001b[0;31m---------------------------------------------------------------------------\u001b[0m",
      "\u001b[0;31mRuntimeError\u001b[0m                              Traceback (most recent call last)",
      "\u001b[0;32m<ipython-input-1-5fe8f779d579>\u001b[0m in \u001b[0;36m<module>\u001b[0;34m\u001b[0m\n\u001b[0;32m----> 1\u001b[0;31m \u001b[0;32mraise\u001b[0m \u001b[0mRuntimeError\u001b[0m\u001b[0;34m(\u001b[0m\u001b[0;34m\"something wrong\"\u001b[0m\u001b[0;34m)\u001b[0m\u001b[0;34m\u001b[0m\u001b[0;34m\u001b[0m\u001b[0m\n\u001b[0m",
      "\u001b[0;31mRuntimeError\u001b[0m: something wrong"
     ]
    }
   ],
   "source": [
    "raise RuntimeError(\"무언가 잘못되었습니다\") # \"something wrong\" 번역"
   ]
  },
  {
   "cell_type": "markdown",
   "metadata": {},
   "source": [
    "---\n",
    "\n",
    "## 결론\n", # "Conclusion" 번역
    "\n",
    "**_음, 위의 문제들은 객체 지향 프로그래밍의 기본 개념과 구현에 매우 중점을 둔 것 같습니다. 개념이 기능적 문제를 해결하는 것이 아니라 구조를 설계하는 것이므로, 두 코드(Python 2와 Python 3) 모두 구현 부분에서 매우 유사합니다._**"
   ]
  }
 ],
 "metadata": {
  "kernelspec": {
   "display_name": "Python 3",
   "language": "python",
   "name": "python3"
  },
  "language_info": {
   "codemirror_mode": {
    "name": "ipython",
    "version": 3
   },
   "file_extension": ".py",
   "mimetype": "text/x-python",
   "name": "python",
   "nbconvert_exporter": "python",
   "pygments_lexer": "ipython3",
   "version": "3.7.6"
  }
 },
 "nbformat": 4,
 "nbformat_minor": 4
}
