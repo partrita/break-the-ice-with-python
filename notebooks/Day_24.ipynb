{
 "cells": [
  {
   "cell_type": "markdown",
   "metadata": {},
   "source": [
    "# 문제 100\n",
    "\n",
    "### **문제**\n",
    "\n",
    "> **_단어들이 주어집니다. 일부 단어는 반복될 수 있습니다. 각 단어에 대해 발생 횟수를 출력하십시오. 출력 순서는 단어가 입력에 나타난 순서와 일치해야 합니다. 명확성을 위해 샘플 입출력을 참조하십시오._**\n",
    "\n",
    "> **_다음과 같은 입력이 프로그램에 제공된다고 가정합니다:_**\n",
    ">\n",
    "> 4 (단어의 개수)\n",
    "> bcdef\n",
    "> abcdefg\n",
    "> bcde\n",
    "> bcdef\n",
    ">\n",
    "> **_그러면 프로그램의 출력은 다음과 같아야 합니다:_**\n",
    ">\n",
    "> 3 (고유한 단어의 개수)\n",
    "> 2 1 1 (각 고유 단어의 빈도수, 입력 순서대로)\n",
    "\n",
    "### 힌트\n",
    "\n",
    "> **_입력 순서를 유지하기 위해 리스트를 만들고, 단어 빈도를 계산하기 위해 딕셔너리를 사용하십시오._**\n",
    "\n",
    "---\n",
    "\n",
    "**해결책:**"
   ]
  },
  {
   "cell_type": "code",
   "execution_count": null,
   "metadata": {},
   "outputs": [],
   "source": [
    "num_words = int(input(\"입력할 단어의 개수를 입력하세요: \")) # 변수명 n을 num_words로, 프롬프트 추가\n",
    "\n",
    "ordered_word_list = [] # 입력 순서를 유지하는 리스트, 변수명 word_list를 ordered_word_list로 변경\n",
    "word_frequency_dict = {} # 단어 빈도수 딕셔너리, 변수명 word_dict를 word_frequency_dict로 변경\n",
    "\n",
    "for _ in range(num_words): # 변수명 i를 _로 변경 (사용하지 않음)\n",
    "    current_word = input(\"단어 입력: \") # 변수명 word를 current_word로, 프롬프트 추가\n",
    "    if current_word not in word_frequency_dict: # 단어가 딕셔너리에 처음 등장하면\n",
    "        ordered_word_list.append(current_word) # 순서 리스트에 추가\n",
    "    word_frequency_dict[current_word] = word_frequency_dict.get(current_word, 0) + 1 # 빈도수 증가\n",
    "\n",
    "print(len(ordered_word_list)) # 고유한 단어의 개수 출력\n",
    "output_frequencies = [] # 출력할 빈도수를 저장할 리스트\n",
    "for word_item in ordered_word_list: # 변수명 word를 word_item으로 변경\n",
    "    output_frequencies.append(str(word_frequency_dict[word_item]))\n",
    "print(\" \".join(output_frequencies)) # 빈도수를 공백으로 구분하여 출력"
   ]
  },
  {
   "cell_type": "markdown",
   "metadata": {},
   "source": [
    "---\n",
    "\n",
    "# 문제 101\n",
    "\n",
    "### **문제**\n",
    "\n",
    "> **_문자열이 주어집니다. 문자열의 문자 빈도를 계산하고 빈도수의 내림차순으로 문자를 인쇄하는 것이 당신의 과제입니다._** (주: 빈도수가 같을 경우 문자 순서에 대한 언급이 없으므로, 일반적인 정렬 순서(예: 알파벳 순)를 따르거나 입력 순서를 고려할 수 있습니다. 아래 솔루션은 빈도수 내림차순 후 문자 오름차순으로 정렬합니다.)\n",
    "\n",
    "> **_다음과 같은 입력이 프로그램에 제공된다고 가정합니다:_**\n",
    ">\n",
    "> aabbbccde\n",
    ">\n",
    "> **_그러면 프로그램의 출력은 다음과 같아야 합니다:_**\n",
    ">\n",
    "> b 3\n",
    "> a 2\n",
    "> c 2\n",
    "> d 1\n",
    "> e 1\n",
    "\n",
    "### 힌트\n",
    "\n",
    "> **_딕셔너리로 빈도를 계산하고 딕셔너리 아이템에서 값으로 정렬하십시오._**\n",
    "\n",
    "---\n",
    "\n",
    "**해결책:**"
   ]
  },
  {
   "cell_type": "code",
   "execution_count": null,
   "metadata": {},
   "outputs": [],
   "source": [
    "input_string_q101 = input(\"문자열 입력: \") # 변수명 word를 input_string_q101로 변경\n",
    "char_freq_dict = {} # 변수명 dct를 char_freq_dict로 변경\n",
    "for char_item_q101 in input_string_q101: # 변수명 i를 char_item_q101로 변경\n",
    "    char_freq_dict[char_item_q101] = char_freq_dict.get(char_item_q101, 0) + 1\n",
    "\n",
    "# 딕셔너리 아이템을 정렬합니다: 첫 번째 기준은 빈도수(x[1])의 내림차순 (-x[1]),\n",
    "# 두 번째 기준은 문자(x[0])의 오름차순입니다.\n",
    "sorted_char_freq = sorted(char_freq_dict.items(), key=lambda x: (-x[1], x[0])) # 변수명 dct를 sorted_char_freq로 변경\n",
    "for item_q101 in sorted_char_freq: # 변수명 i를 item_q101로 변경\n",
    "    print(item_q101[0], item_q101[1])"
   ]
  },
  {
   "cell_type": "markdown",
   "metadata": {},
   "source": [
    "--- (yuan1z 제공 솔루션)"
   ]
  },
  {
   "cell_type": "code",
   "execution_count": null,
   "metadata": {},
   "outputs": [],
   "source": [
    "\"\"\"yuan1z 제공 솔루션\"\"\"\n",
    "\n",
    "X_input_str = input(\"문자열 입력: \") # 변수명 X를 X_input_str로 변경\n",
    "unique_chars_set = set(X_input_str) # 변수명 my_set을 unique_chars_set으로 변경\n",
    "char_freq_array = [] # 변수명 arr을 char_freq_array로 변경\n",
    "for char_val in unique_chars_set: # 변수명 item을 char_val로 변경\n",
    "    char_freq_array.append([char_val, X_input_str.count(char_val)])\n",
    "sorted_array = sorted(char_freq_array, key=lambda x: (-x[1], x[0])) # 변수명 tmp를 sorted_array로 변경\n",
    "\n",
    "for item_arr in sorted_array: # 변수명 i를 item_arr로 변경\n",
    "    print(item_arr[0] + \" \" + str(item_arr[1]))"
   ]
  },
  {
   "cell_type": "markdown",
   "metadata": {},
   "source": [
    "--- (StartZer0 제공 솔루션)"
   ]
  },
  {
   "cell_type": "code",
   "execution_count": null,
   "metadata": {},
   "outputs": [],
   "source": [
    "\"\"\"StartZer0 제공 솔루션\"\"\"\n",
    "\n",
    "s_char_list = list(input(\"문자열 입력: \")) # 변수명 s를 s_char_list로 변경\n",
    "\n",
    "# 각 문자를 키로, 해당 문자의 빈도수를 값으로 하는 딕셔너리 생성 (딕셔너리 컴프리헨션 사용)\n",
    "char_count_dict_sz = {k: s_char_list.count(k) for k in s_char_list} # 변수명 dict_count_를 char_count_dict_sz로 변경\n",
    "# (주: 이 방식은 문자열이 길 경우 count()를 반복 호출하여 비효율적일 수 있습니다. collections.Counter가 더 효율적입니다.)\n",
    "list_of_freq_tuples = [(k, v) for k, v in char_count_dict_sz.items()] # 변수명 변경\n",
    "# 튜플 리스트를 빈도수(x[1])의 내림차순으로 정렬합니다.\n",
    "list_of_freq_tuples.sort(key=lambda x: x[1], reverse=True)\n",
    "# (주: 빈도수가 같을 경우 원래 순서 또는 예측 불가능한 순서가 될 수 있습니다. 안정적인 정렬을 원하면 추가 정렬 기준 필요)\n",
    "\n",
    "for item_tuple in list_of_freq_tuples: # 변수명 item을 item_tuple로 변경\n",
    "  print(item_tuple[0], item_tuple[1])"
   ]
  },
  {
   "cell_type": "markdown",
   "metadata": {},
   "source": [
    "---\n",
    "\n",
    "# 문제 102\n",
    "\n",
    "### **문제**\n",
    "\n",
    "> **_문자열을 입력받아 숫자와 문자의 개수를 계산하는 파이썬 프로그램을 작성하십시오._**\n",
    "\n",
    "**입력**\n",
    "\n",
    "> Hello321Bye360\n",
    "\n",
    "**출력**\n",
    "\n",
    "> Digit - 6\n",
    "\n",
    "> Letter - 8\n",
    "\n",
    "---\n",
    "\n",
    "### 힌트\n",
    "\n",
    "> **_`isdigit()` 및 `isalpha()` 함수를 사용하십시오._**\n",
    "\n",
    "---\n",
    "\n",
    "**해결책:**"
   ]
  },
  {
   "cell_type": "code",
   "execution_count": null,
   "metadata": {},
   "outputs": [],
   "source": [
    "input_word_q102 = input(\"문자열 입력: \") # 변수명 word를 input_word_q102로 변경\n",
    "digit_count_q102, letter_count_q102 = 0, 0 # 변수명 digit, letter를 각각 변경\n",
    "for char_item_q102 in input_word_q102: # 변수명 char를 char_item_q102로 변경\n",
    "    digit_count_q102 += char_item_q102.isdigit() # isdigit()는 숫자이면 True(1), 아니면 False(0)를 반환합니다.\n",
    "    letter_count_q102 += char_item_q102.isalpha() # isalpha()는 알파벳이면 True(1), 아니면 False(0)를 반환합니다.\n",
    "\n",
    "print('Digit -', digit_count_q102)\n",
    "print('Letter -', letter_count_q102)"
   ]
  },
  {
   "cell_type": "markdown",
   "metadata": {},
   "source": [
    "---\n",
    "\n",
    "# 문제 103\n",
    "\n",
    "### **문제**\n",
    "\n",
    "> **_숫자 N이 주어집니다. 재귀를 사용하여 1부터 N까지의 합을 찾으십시오._**\n",
    "\n",
    "**입력**\n",
    "\n",
    "> 5\n",
    "\n",
    "**출력**\n",
    "\n",
    "> 15\n",
    "\n",
    "---\n",
    "\n",
    "### 힌트\n",
    "\n",
    "> **_합계를 얻기 위해 재귀 함수를 만드십시오._**\n",
    "\n",
    "---\n",
    "\n",
    "**해결책:**"
   ]
  },
  {
   "cell_type": "code",
   "execution_count": null,
   "metadata": {},
   "outputs": [],
   "source": [
    "def recursive_sum_q103(n_val): # 함수명 rec를 recursive_sum_q103으로, 인자명 n을 n_val로 변경\n",
    "    if n_val == 0: # 기본 케이스: n_val이 0이면 0 반환\n",
    "        return n_val\n",
    "    return recursive_sum_q103(n_val - 1) + n_val # 재귀 단계: 이전 합계에 현재 n_val을 더하여 반환\n",
    "\n",
    "\n",
    "input_n_q103 = int(input(\"숫자 N 입력: \")) # 변수명 n을 input_n_q103으로, 프롬프트 추가\n",
    "total_sum_q103 = recursive_sum_q103(input_n_q103) # 변수명 sum을 total_sum_q103으로 변경 (sum은 내장 함수)\n",
    "print(total_sum_q103)"
   ]
  },
  {
   "cell_type": "markdown",
   "metadata": {},
   "source": [
    "---\n",
    "(popomaticbubble 제공 솔루션 - 꼬리 재귀 최적화가 파이썬에서는 자동으로 이루어지지 않으므로, 이 형태는 일반 재귀와 유사하게 동작합니다.)\n",
    "\n",
    "# 계속됩니다..."
   ]
  }
 ],
 "metadata": {
  "kernelspec": {
   "display_name": "Python 3",
   "language": "python",
   "name": "python3"
  },
  "language_info": {
   "codemirror_mode": {
    "name": "ipython",
    "version": 3
   },
   "file_extension": ".py",
   "mimetype": "text/x-python",
   "name": "python",
   "nbconvert_exporter": "python",
   "pygments_lexer": "ipython3",
   "version": "3.7.6"
  }
 },
 "nbformat": 4,
 "nbformat_minor": 4
}
