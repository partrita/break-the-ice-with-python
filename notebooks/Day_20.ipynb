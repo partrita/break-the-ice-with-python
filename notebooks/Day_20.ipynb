{
 "cells": [
  {
   "cell_type": "markdown",
   "metadata": {},
   "source": [
    "# 문제 80\n",
    "\n",
    "### **문제**\n",
    "\n",
    "> **_`[5,6,77,45,22,12,24]` 리스트에서 짝수를 제거한 후 리스트를 인쇄하는 프로그램을 작성하십시오._**\n",
    "\n",
    "---\n",
    "\n",
    "### 힌트\n",
    "\n",
    "> **_리스트에서 여러 요소를 삭제하려면 리스트 컴프리헨션을 사용하십시오._**\n",
    "\n",
    "---\n",
    "\n",
    "\n",
    "\n",
    "**해결책:**"
   ]
  },
  {
   "cell_type": "code",
   "execution_count": null,
   "metadata": {},
   "outputs": [],
   "source": [
    "def is_odd(n): # 함수명을 isEven에서 is_odd로 변경 (홀수를 남기므로)\n",
    "    return n % 2 != 0 # 홀수이면 True 반환\n",
    "\n",
    "\n",
    "original_list = [5, 6, 77, 45, 22, 12, 24] # 변수명 li를 original_list로 변경\n",
    "odd_numbers_list = list(filter(is_odd, original_list)) # 변수명 lst를 odd_numbers_list로 변경\n",
    "print(odd_numbers_list)"
   ]
  },
  {
   "cell_type": "markdown",
   "metadata": {},
   "source": [
    "**또는** (람다 함수 사용)"
   ]
  },
  {
   "cell_type": "code",
   "execution_count": null,
   "metadata": {},
   "outputs": [],
   "source": [
    "original_list_lambda = [5, 6, 77, 45, 22, 12, 24] # 변수명 li를 original_list_lambda로 변경\n",
    "# 람다 함수를 사용하여 n%2 != 0 (홀수)인 요소만 필터링합니다.\n",
    "odd_numbers_list_lambda = list(filter(lambda n: n % 2 != 0, original_list_lambda)) # 변수명 lst를 odd_numbers_list_lambda로 변경\n",
    "print(odd_numbers_list_lambda)"
   ]
  },
  {
   "cell_type": "markdown",
   "metadata": {},
   "source": [
    "---\n",
    "\n",
    "# 문제 81\n",
    "\n",
    "### **문제**\n",
    "\n",
    "> **_리스트 컴프리헨션을 사용하여 `[12,24,35,70,88,120,155]`에서 5와 7로 나누어지는 숫자를 제거한 후 리스트를 인쇄하는 프로그램을 작성하십시오._**\n",
    "\n",
    "---\n",
    "\n",
    "### 힌트\n",
    "\n",
    "> **_리스트에서 여러 요소를 삭제하려면 리스트 컴프리헨션을 사용하십시오._**\n",
    "\n",
    "---\n",
    "\n",
    "\n",
    "\n",
    "**해결책:**"
   ]
  },
  {
   "cell_type": "code",
   "execution_count": null,
   "metadata": {},
   "outputs": [],
   "source": [
    "num_list_q81 = [12, 24, 35, 70, 88, 120, 155] # 변수명 li를 num_list_q81로 변경\n",
    "# 5와 7로 모두 나누어지는 수는 35로 나누어지는 수입니다.\n",
    "# 따라서 x % 35 != 0 인 요소만 남깁니다.\n",
    "filtered_list_q81 = [x for x in num_list_q81 if x % 35 != 0] # 변수명 li를 filtered_list_q81로 변경\n",
    "print(filtered_list_q81)"
   ]
  },
  {
   "cell_type": "markdown",
   "metadata": {},
   "source": [
    "---\n",
    "\n",
    "# 문제 82\n",
    "\n",
    "### **문제**\n",
    "\n",
    "> **_리스트 컴프리헨션을 사용하여 `[12,24,35,70,88,120,155]`에서 0번째, 2번째, 4번째, 6번째 숫자를 제거한 후 리스트를 인쇄하는 프로그램을 작성하십시오._**\n",
    "\n",
    "---\n",
    "\n",
    "### 힌트\n",
    "\n",
    "> **_리스트에서 여러 요소를 삭제하려면 리스트 컴프리헨션을 사용하십시오.\n",
    "> (인덱스, 값) 튜플을 얻으려면 `enumerate()`를 사용하십시오._**\n",
    "\n",
    "---\n",
    "\n",
    "\n",
    "\n",
    "**해결책:**"
   ]
  },
  {
   "cell_type": "code",
   "execution_count": null,
   "metadata": {},
   "outputs": [],
   "source": [
    "num_list_q82 = [12, 24, 35, 70, 88, 120, 155] # 변수명 li를 num_list_q82로 변경\n",
    "# 0번째, 2번째, 4번째, 6번째 요소를 제거하려면, 홀수 인덱스(1, 3, 5)의 요소들을 선택합니다.\n",
    "filtered_list_q82 = [num_list_q82[i] for i in range(len(num_list_q82)) if i % 2 != 0] # 변수명 li를 filtered_list_q82로 변경\n",
    "print(filtered_list_q82)"
   ]
  },
  {
   "cell_type": "markdown",
   "metadata": {},
   "source": [
    "---\n",
    "\n",
    "# 문제 83\n",
    "\n",
    "### **문제**\n",
    "\n",
    "> **_리스트 컴프리헨션을 사용하여 `[12,24,35,70,88,120,155]`에서 2번째부터 4번째까지의 숫자(인덱스 1, 2, 3에 해당하는 값)를 제거한 후 리스트를 인쇄하는 프로그램을 작성하십시오._**\n",
    "\n",
    "---\n",
    "\n",
    "### 힌트\n",
    "\n",
    "> **_리스트에서 여러 요소를 삭제하려면 리스트 컴프리헨션을 사용하십시오.\n",
    "> (인덱스, 값) 튜플을 얻으려면 `enumerate()`를 사용하십시오._**\n",
    "\n",
    "---\n",
    "\n",
    "\n",
    "\n",
    "**해결책:**"
   ]
  },
  {
   "cell_type": "code",
   "execution_count": null,
   "metadata": {},
   "outputs": [],
   "source": [
    "# 작성 예정 -> 작성 완료\n",
    "num_list_q83 = [12, 24, 35, 70, 88, 120, 155] # 변수명 li를 num_list_q83로 변경\n",
    "# 2번째부터 4번째 숫자 (인덱스 1, 2, 3)를 제거합니다.\n",
    "# 즉, 인덱스가 1 미만이거나 3 초과인 요소들만 남깁니다.\n",
    "filtered_list_q83 = [num_list_q83[i] for i in range(len(num_list_q83)) if i < 1 or i > 3] # 변수명 li를 filtered_list_q83로 변경\n",
    "print(filtered_list_q83)"
   ]
  },
  {
   "cell_type": "markdown",
   "metadata": {},
   "source": [
    "---\n",
    "\n",
    "# 문제 84\n",
    "\n",
    "### **문제**\n",
    "\n",
    "> **_리스트 컴프리헨션을 사용하여 각 요소가 0인 3x5x8 3차원 배열을 생성하는 프로그램을 작성하십시오._**\n",
    "\n",
    "---\n",
    "\n",
    "### 힌트\n",
    "\n",
    "> **_배열을 만들려면 리스트 컴프리헨션을 사용하십시오._**\n",
    "\n",
    "---\n",
    "\n",
    "**해결책:**"
   ]
  },
  {
   "cell_type": "code",
   "execution_count": null,
   "metadata": {},
   "outputs": [],
   "source": [
    "# 가장 안쪽부터: 8개의 0으로 된 리스트 (열)\n",
    "# 중간: 위와 같은 리스트가 5개 있는 리스트 (행)\n",
    "# 가장 바깥쪽: 위와 같은 2차원 리스트가 3개 있는 리스트 (깊이)\n",
    "array_3d = [[[0 for _ in range(8)] for _ in range(5)] for _ in range(3)] # 변수명 col, row를 _로 변경\n",
    "print(array_3d) # Python 3의 print 함수 사용"
   ]
  }
 ],
 "metadata": {
  "kernelspec": {
   "display_name": "Python 3",
   "language": "python",
   "name": "python3"
  },
  "language_info": {
   "codemirror_mode": {
    "name": "ipython",
    "version": 3
   },
   "file_extension": ".py",
   "mimetype": "text/x-python",
   "name": "python",
   "nbconvert_exporter": "python",
   "pygments_lexer": "ipython3",
   "version": "3.7.6"
  }
 },
 "nbformat": 4,
 "nbformat_minor": 4
}
