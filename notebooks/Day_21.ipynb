{
 "cells": [
  {
   "cell_type": "markdown",
   "metadata": {},
   "source": [
    "# 문제 85\n",
    "\n",
    "### **문제**\n",
    "\n",
    "> **_리스트 컴프리헨션을 사용하여 `[12,24,35,70,88,120,155]`에서 0번째, 4번째, 5번째 숫자를 제거한 후 리스트를 인쇄하는 프로그램을 작성하십시오._**\n",
    "\n",
    "---\n",
    "\n",
    "### 힌트\n",
    "\n",
    "> **_리스트에서 여러 요소를 삭제하려면 리스트 컴프리헨션을 사용하십시오. (인덱스, 값) 튜플을 얻으려면 `enumerate()`를 사용하십시오._**\n",
    "\n",
    "---\n",
    "\n",
    "\n",
    "\n",
    "**해결책:**"
   ]
  },
  {
   "cell_type": "code",
   "execution_count": null,
   "metadata": {},
   "outputs": [],
   "source": [
    "original_list_q85 = [12, 24, 35, 70, 88, 120, 155] # 변수명 li를 original_list_q85로 변경\n",
    "# 인덱스 i가 (0, 4, 5)에 포함되지 않은 요소 original_list_q85[i]를 리스트에 포함합니다.\n",
    "filtered_list_q85 = [original_list_q85[i] for i in range(len(original_list_q85)) if i not in (0, 4, 5)] # 변수명 li를 filtered_list_q85로 변경\n",
    "print(filtered_list_q85)"
   ]
  },
  {
   "cell_type": "markdown",
   "metadata": {},
   "source": [
    "---\n",
    "(pratikb0501 제공 솔루션)",
    "\n",
    "# 문제 86\n",
    "\n",
    "### **문제**\n",
    "\n",
    "> **_리스트 컴프리헨션을 사용하여 `[12,24,35,24,88,120,155]`에서 값 24를 제거한 후 리스트를 인쇄하는 프로그램을 작성하십시오._** (주: 리스트 컴프리헨션을 사용하라는 것은 모든 24를 제거하라는 의미로 해석됩니다. `list.remove()`는 첫 번째 발생만 제거합니다.)\n",
    "\n",
    "---\n",
    "\n",
    "### 힌트\n",
    "\n",
    "> **_값을 삭제하려면 리스트의 `remove` 메소드를 사용하십시오._** (주: 이 힌트는 리스트 컴프리헨션 요구사항과 약간 상충됩니다. `remove`는 한 번에 하나만 제거하고 모든 중복 항목을 제거하지 않습니다.)\n",
    "\n",
    "---\n",
    "\n",
    "\n",
    "\n",
    "**해결책:**"
   ]
  },
  {
   "cell_type": "code",
   "execution_count": null,
   "metadata": {},
   "outputs": [],
   "source": [
    "original_list_q86 = [12, 24, 35, 24, 88, 120, 155] # 변수명 li를 original_list_q86으로 변경\n",
    "# original_list_q86.remove(24)  # 이 코드는 첫 번째로 나오는 24만 제거합니다.\n",
    "# 문제에서 리스트 컴프리헨션을 사용하라고 했고, 모든 24를 제거하는 것이 일반적인 의도이므로 아래와 같이 수정합니다.\n",
    "filtered_list_q86 = [x for x in original_list_q86 if x != 24]\n",
    "print(filtered_list_q86)"
   ]
  },
  {
   "cell_type": "markdown",
   "metadata": {},
   "source": [
    "---\n",
    "\n",
    "# 문제 87\n",
    "\n",
    "### **문제**\n",
    "\n",
    "> **_주어진 두 리스트 `[1,3,6,78,35,55]`와 `[12,24,35,24,88,120,155]`에 대해, 위 두 리스트의 교집합 요소를 포함하는 리스트를 만드는 프로그램을 작성하십시오._**\n",
    "\n",
    "---\n",
    "\n",
    "### 힌트\n",
    "\n",
    "> **_집합 교집합 연산을 수행하려면 `set()`과 `&` (또는 `&=`)를 사용하십시오._**\n",
    "\n",
    "---\n",
    "\n",
    "\n",
    "\n",
    "**해결책:**"
   ]
  },
  {
   "cell_type": "code",
   "execution_count": null,
   "metadata": {},
   "outputs": [],
   "source": [
    "list_a = [1, 3, 6, 78, 35, 55] # 변수명 list1을 list_a로 변경\n",
    "list_b = [12, 24, 35, 24, 88, 120, 155] # 변수명 list2를 list_b로 변경\n",
    "set_a = set(list_a)\n",
    "set_b = set(list_b)\n",
    "intersection_set = set_a & set_b # & 연산자로 교집합을 구합니다.\n",
    "print(list(intersection_set)) # 결과를 리스트로 변환하여 출력 (순서는 보장되지 않음)"
   ]
  },
  {
   "cell_type": "markdown",
   "metadata": {},
   "source": [
    "**또는** (`set.intersection()` 메소드 사용)"
   ]
  },
  {
   "cell_type": "code",
   "execution_count": null,
   "metadata": {},
   "outputs": [],
   "source": [
    "list_c = [1, 3, 6, 78, 35, 55] # 변수명 list1을 list_c로 변경\n",
    "list_d = [12, 24, 35, 24, 88, 120, 155] # 변수명 list2를 list_d로 변경\n",
    "set_c = set(list_c)\n",
    "set_d = set(list_d)\n",
    "intersection_set_method = set.intersection(set_c, set_d) # intersection() 메소드 사용\n",
    "print(list(intersection_set_method))"
   ]
  },
  {
   "cell_type": "markdown",
   "metadata": {},
   "source": [
    "---\n",
    "\n",
    "# 문제 88\n",
    "\n",
    "### **문제**\n",
    "\n",
    "> **_주어진 리스트 `[12,24,35,24,88,120,155,88,120,155]`에 대해, 원래 순서를 유지하면서 모든 중복 값을 제거한 후 이 리스트를 인쇄하는 프로그램을 작성하십시오._**\n",
    "\n",
    "---\n",
    "\n",
    "### 힌트\n",
    "\n",
    "> **_중복 없이 여러 값을 저장하려면 `set()`을 사용하십시오._** (주: `set()`만 사용하면 순서가 유지되지 않습니다. 순서 유지를 위해서는 다른 방법이 필요합니다.)\n",
    "\n",
    "---\n",
    "\n",
    "\n",
    "\n",
    "**해결책:**"
   ]
  },
  {
   "cell_type": "code",
   "execution_count": null,
   "metadata": {},
   "outputs": [],
   "source": [
    "# 이 방법은 리스트를 반복하면서 제거할 때 문제를 일으킬 수 있습니다.\n",
    "# 예를 들어 [1, 2, 2, 2]에서 첫 번째 2를 제거하면 다음 2는 건너뛰게 됩니다.\n",
    "# li_q88_original = [12, 24, 35, 24, 88, 120, 155, 88, 120, 155]\n",
    "# for i in li_q88_original:\n",
    "# if li_q88_original.count(i) > 1:\n",
    "# li_q88_original.remove(i)\n",
    "# print(li_q88_original)\n",
    "\n",
    "# 순서를 유지하면서 중복을 제거하는 올바른 방법 중 하나:\n",
    "original_list_q88 = [12, 24, 35, 24, 88, 120, 155, 88, 120, 155]\n",
    "result_list_q88 = []\n",
    "seen_items = set() # 변수명 seen을 seen_items로 변경\n",
    "for item_val in original_list_q88: # 변수명 item을 item_val로 변경\n",
    "    if item_val not in seen_items:\n",
    "        result_list_q88.append(item_val)\n",
    "        seen_items.add(item_val)\n",
    "print(result_list_q88)"
   ]
  },
  {
   "cell_type": "markdown",
   "metadata": {},
   "source": [
    "**또는** (제너레이터 사용, 순서 유지)"
   ]
  },
  {
   "cell_type": "code",
   "execution_count": null,
   "metadata": {},
   "outputs": [],
   "source": [
    "def remove_duplicates_generator(input_li): # 함수명 및 인자명 변경\n",
    "    seen_dict = {}  # 딕셔너리를 사용하여 순서 유지 (Python 3.7+에서는 기본적으로 삽입 순서 유지)\n",
    "                   # 여기서는 단순히 'in' 연산의 효율성을 위해 사용 (set과 유사)\n",
    "    for item_val_gen in input_li: # 변수명 item을 item_val_gen으로 변경\n",
    "        if item_val_gen not in seen_dict: # 아직 보지 못한 항목이면\n",
    "            seen_dict[item_val_gen] = True # 봤다고 표시\n",
    "            yield item_val_gen # 제너레이터로 반환\n",
    "\n",
    "\n",
    "original_list_gen_q88 = [12, 24, 35, 24, 88, 120, 155, 88, 120, 155] # 변수명 li를 original_list_gen_q88로 변경\n",
    "ans_list_q88 = list(remove_duplicates_generator(original_list_gen_q88)) # 변수명 ans를 ans_list_q88로 변경\n",
    "print(ans_list_q88)"
   ]
  },
  {
   "cell_type": "markdown",
   "metadata": {},
   "source": [
    "---\n",
    "\n",
    "# 문제 89\n",
    "\n",
    "### **문제**\n",
    "\n",
    "> **_`Person` 클래스와 그 두 하위 클래스인 `Male`과 `Female`을 정의하십시오. 모든 클래스에는 `\"getGender\"` 메소드가 있으며, `Male` 클래스는 `\"Male\"`을, `Female` 클래스는 `\"Female\"`을 반환해야 합니다._** (원문: print -> 반환하도록 수정)\n",
    "\n",
    "---\n",
    "\n",
    "### 힌트\n",
    "\n",
    "> **_하위 클래스를 정의하려면 `Subclass(Parentclass)`를 사용하십시오._**\n",
    "\n",
    "---\n",
    "\n",
    "**해결책:**"
   ]
  },
  {
   "cell_type": "code",
   "execution_count": null,
   "metadata": {},
   "outputs": [],
   "source": [
    "class Person(object): # Python 2에서는 object 명시적 상속, Python 3에서는 불필요\n",
    "    def getGender(self):\n",
    "        return \"알 수 없음\" # \"Unknown\" 번역\n",
    "\n",
    "\n",
    "class Male(Person): # Person 클래스 상속\n",
    "    def getGender(self):\n",
    "        return \"남성\" # \"Male\" 번역\n",
    "\n",
    "\n",
    "class Female(Person): # Person 클래스 상속\n",
    "    def getGender(self):\n",
    "        return \"여성\" # \"Female\" 번역\n",
    "\n",
    "\n",
    "male_obj = Male() # 변수명 aMale을 male_obj로 변경\n",
    "female_obj = Female() # 변수명 aFemale을 female_obj로 변경\n",
    "print(male_obj.getGender()) # Python 3 print 함수 사용\n",
    "print(female_obj.getGender())"
   ]
  },
  {
   "cell_type": "markdown",
   "metadata": {},
   "source": [
    "--- (popomaticbubble 제공 솔루션)"
   ]
  }
 ],
 "metadata": {
  "kernelspec": {
   "display_name": "Python 3",
   "language": "python",
   "name": "python3"
  },
  "language_info": {
   "codemirror_mode": {
    "name": "ipython",
    "version": 3
   },
   "file_extension": ".py",
   "mimetype": "text/x-python",
   "name": "python",
   "nbconvert_exporter": "python",
   "pygments_lexer": "ipython3",
   "version": "3.7.6"
  }
 },
 "nbformat": 4,
 "nbformat_minor": 4
}
