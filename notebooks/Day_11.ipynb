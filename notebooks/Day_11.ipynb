{
 "cells": [
  {
   "cell_type": "markdown",
   "metadata": {},
   "source": [
    "# 문제 38\n",
    "\n",
    "### **문제:**\n",
    "\n",
    "> **_주어진 튜플 (1,2,3,4,5,6,7,8,9,10)에 대해, 처음 절반의 값은 한 줄에, 마지막 절반의 값은 다른 한 줄에 인쇄하는 프로그램을 작성하십시오._**\n",
    "\n",
    "---\n",
    "\n",
    "### 힌트:\n",
    "\n",
    "> **_튜플에서 슬라이스를 가져오려면 `[n1:n2]` 표기법을 사용하십시오._**\n",
    "\n",
    "---\n",
    "\n",
    "\n",
    "\n",
    "**해결책:**"
   ]
  },
  {
   "cell_type": "code",
   "execution_count": null,
   "metadata": {},
   "outputs": [],
   "source": [
    "tpl = (1, 2, 3, 4, 5, 6, 7, 8, 9, 10)\n",
    "\n",
    "# 첫 번째 절반 (0부터 4까지 인덱스)\n",
    "for i in range(0, 5):\n",
    "    print(tpl[i], end=\" \") # 공백으로 구분하여 한 줄에 출력\n",
    "print() # 다음 줄로 이동\n",
    "# 마지막 절반 (5부터 9까지 인덱스)\n",
    "for i in range(5, 10):\n",
    "    print(tpl[i], end=\" \")\n"
   ]
  },
  {
   "cell_type": "markdown",
   "metadata": {},
   "source": [
    "**또는** (슬라이싱 사용)"
   ]
  },
  {
   "cell_type": "code",
   "execution_count": null,
   "metadata": {},
   "outputs": [],
   "source": [
    "tpl = (1, 2, 3, 4, 5, 6, 7, 8, 9, 10)\n",
    "half_len = len(tpl) // 2 # 튜플 길이의 절반 계산\n",
    "first_half = tpl[:half_len]\n",
    "second_half = tpl[half_len:]\n",
    "\n",
    "print(*first_half) # 리스트/튜플의 요소들을 개별 인자로 전달하여 print\n",
    "print(*second_half)"
   ]
  },
  {
   "cell_type": "markdown",
   "metadata": {},
   "source": [
    "**또는** (CoffeeBrakeInc 제공 솔루션)"
   ]
  },
  {
   "cell_type": "code",
   "execution_count": null,
   "metadata": {},
   "outputs": [],
   "source": [
    "\"\"\"\n",
    "CoffeeBrakeInc 제공 솔루션\n",
    "\"\"\"\n",
    "\n",
    "tup = (1, 2, 3, 4, 5, 6, 7, 8, 9, 10)\n",
    "lt = int(len(tup) / 2) # 튜플 길이의 절반을 정수로 계산 (// 연산자와 동일)\n",
    "print(tup[:lt], tup[lt:]) # 두 개의 튜플을 출력 (각각 괄호와 함께)"
   ]
  },
  {
   "cell_type": "markdown",
   "metadata": {},
   "source": [
    "---\n",
    "\n",
    "**또는** (AasaiAlangaram 제공 솔루션 - 리스트 컴프리헨션 활용)"
   ]
  },
  {
   "cell_type": "code",
   "execution_count": null,
   "metadata": {},
   "outputs": [],
   "source": [
    "\"\"\"\n",
    "AasaiAlangaram 제공 솔루션\n",
    "\"\"\"\n",
    "\n",
    "tp = (1, 2, 3, 4, 5, 6, 7, 8, 9, 10)\n",
    "\n",
    "print(\"원본 튜플:\", tp) # \"The Original Tuple:\" 번역\n",
    "\n",
    "# 리스트 컴프리헨션을 사용하여 5개 요소씩 분할하여 출력합니다.\n",
    "# range(0, len(tp), 5)는 0, 5를 생성합니다.\n",
    "# x가 0일 때 tp[0:5] 출력\n",
    "# x가 5일 때 tp[5:10] 출력\n",
    "[\n",
    "    print(\"분할된 리스트 :{List}\".format(List=tp[x : x + 5])) # \"Splitted List\" 번역\n",
    "    for x in range(0, len(tp), 5)\n",
    "]"
   ]
  },
  {
   "cell_type": "markdown",
   "metadata": {},
   "source": [
    "---\n",
    "\n",
    "# 문제 39\n",
    "\n",
    "### **문제:**\n",
    "\n",
    "> **_주어진 튜플 (1,2,3,4,5,6,7,8,9,10)에서 짝수 값만 포함하는 다른 튜플을 생성하고 인쇄하는 프로그램을 작성하십시오._**\n",
    "\n",
    "---\n",
    "\n",
    "### 힌트:\n",
    "\n",
    "> **_튜플을 반복하려면 \"for\"를 사용하십시오. 리스트에서 튜플을 생성하려면 `tuple()`을 사용하십시오._**\n",
    "\n",
    "---\n",
    "\n",
    "\n",
    "\n",
    "**해결책:**"
   ]
  },
  {
   "cell_type": "code",
   "execution_count": null,
   "metadata": {},
   "outputs": [],
   "source": [
    "original_tuple = (1, 2, 3, 4, 5, 6, 7, 8, 9, 10) # 변수명 tpl을 original_tuple로 변경\n",
    "# 제너레이터 표현식: original_tuple의 각 요소 i에 대해 i가 짝수이면 해당 i를 포함합니다.\n",
    "even_numbers_tuple = tuple(i for i in original_tuple if i % 2 == 0) # 변수명 tpl1을 even_numbers_tuple로 변경\n",
    "print(even_numbers_tuple)"
   ]
  },
  {
   "cell_type": "markdown",
   "metadata": {},
   "source": [
    "**또는** (filter와 lambda 사용)"
   ]
  },
  {
   "cell_type": "code",
   "execution_count": null,
   "metadata": {},
   "outputs": [],
   "source": [
    "original_tuple_filter = (1, 2, 3, 4, 5, 6, 7, 8, 9, 10) # 변수명 tpl을 original_tuple_filter로 변경\n",
    "even_numbers_tuple_filter = tuple(\n",
    "    filter(lambda x: x % 2 == 0, original_tuple_filter)\n",
    ")  # 람다 함수는 짝수 요소를 찾으면 True를 반환합니다.\n",
    "# filter는 함수가 False를 반환하는 데이터를 제거합니다.\n",
    "print(even_numbers_tuple_filter)"
   ]
  },
  {
   "cell_type": "markdown",
   "metadata": {},
   "source": [
    "---\n",
    "\n",
    "# 문제 40\n",
    "\n",
    "### **문제:**\n",
    "\n",
    "> **_문자열을 입력으로 받아 문자열이 \"yes\" 또는 \"YES\" 또는 \"Yes\"이면 \"Yes\"를 인쇄하고 그렇지 않으면 \"No\"를 인쇄하는 프로그램을 작성하십시오._**\n",
    "\n",
    "---\n",
    "\n",
    "### 힌트:\n",
    "\n",
    "> **_조건을 판단하려면 `if` 문을 사용하십시오._**\n",
    "\n",
    "---\n",
    "\n",
    "\n",
    "\n",
    "**해결책: 파이썬 3**"
   ]
  },
  {
   "cell_type": "code",
   "execution_count": null,
   "metadata": {},
   "outputs": [],
   "source": [
    "\"\"\"\n",
    "Seawolf159 제공 솔루션\n",
    "\"\"\"\n",
    "text_input = input(\"무언가를 입력하세요. --> \") # \"Please type something. --> \" 번역, 변수명 text를 text_input으로 변경\n",
    "if text_input == \"yes\" or text_input == \"YES\" or text_input == \"Yes\":\n",
    "    print(\"Yes\")\n",
    "else:\n",
    "    print(\"No\")"
   ]
  },
  {
   "cell_type": "markdown",
   "metadata": {},
   "source": [
    "--- (AasaiAlangaram 제공 솔루션)"
   ]
  },
  {
   "cell_type": "code",
   "execution_count": null,
   "metadata": {},
   "outputs": [],
   "source": [
    "\"\"\"\n",
    "AasaiAlangaram 제공 솔루션\n",
    "\"\"\"\n",
    "user_str_input = input(\"문자열 입력:\") # 변수명 input을 user_str_input으로 변경 (input은 내장 함수 이름과 충돌)\n",
    "# 조건부 표현식을 사용하여 'Yes' 또는 'No'를 리스트에 넣고 join으로 문자열화합니다.\n",
    "# 여기서는 리스트에 요소가 하나만 있으므로 join이 큰 의미는 없지만, 원래 코드 구조를 유지합니다.\n",
    "output_str = \"\".join(\n",
    "    [\"Yes\" if user_str_input == \"yes\" or user_str_input == \"YES\" or user_str_input == \"Yes\" else \"No\"]\n",
    ")\n",
    "print(str(output_str)) # output_str은 이미 문자열이므로 str() 변환은 불필요"
   ]
  },
  {
   "cell_type": "markdown",
   "metadata": {},
   "source": [
    "---\n",
    "\n",
    "# 문제 41\n",
    "\n",
    "### **문제:**\n",
    "\n",
    "> **_`map()`을 사용하여 `[1,2,3,4,5,6,7,8,9,10]`의 요소 제곱 값으로 구성된 리스트를 만드는 프로그램을 작성하십시오._**\n",
    "\n",
    "---\n",
    "\n",
    "### 힌트:\n",
    "\n",
    "> **_`map()`을 사용하여 리스트를 생성하십시오. 익명 함수를 정의하려면 `lambda`를 사용하십시오._**\n",
    "\n",
    "---\n",
    "\n",
    "\n",
    "\n",
    "**해결책:**"
   ]
  },
  {
   "cell_type": "code",
   "execution_count": null,
   "metadata": {},
   "outputs": [],
   "source": [
    "# 문제 설명에서 요구 사항이 구체적으로 언급되었으므로 다른 방식의 코드는 작성하지 않았습니다.\n",
    "\n",
    "original_list = [1, 2, 3, 4, 5, 6, 7, 8, 9, 10] # 변수명 li를 original_list로 변경\n",
    "squared_numbers_map = map(lambda x: x ** 2, original_list)  # map 타입 객체 데이터를 반환합니다.\n",
    "print(list(squared_numbers_map))  # 객체를 리스트로 변환합니다."
   ]
  },
  {
   "cell_type": "markdown",
   "metadata": {},
   "source": [
    "---\n",
    "\n",
    "# 문제 42\n",
    "\n",
    "### **문제:**\n",
    "\n",
    "> **_`map()`과 `filter()`를 사용하여 `[1,2,3,4,5,6,7,8,9,10]`에서 짝수의 제곱 값으로 구성된 리스트를 만드는 프로그램을 작성하십시오._**\n",
    "\n",
    "---\n",
    "\n",
    "### 힌트:\n",
    "\n",
    "> **_`map()`을 사용하여 리스트를 생성하십시오. `filter()`를 사용하여 리스트의 요소를 필터링하십시오. 익명 함수를 정의하려면 `lambda`를 사용하십시오._**\n",
    "\n",
    "---\n",
    "\n",
    "\n",
    "\n",
    "**해결책:**"
   ]
  },
  {
   "cell_type": "code",
   "execution_count": null,
   "metadata": {},
   "outputs": [],
   "source": [
    "def is_even(x): # 함수명 even을 is_even으로 변경\n",
    "    return x % 2 == 0\n",
    "\n",
    "\n",
    "def square_num(x): # 함수명 squer를 square_num으로 변경 (오타 수정 및 명확성)\n",
    "    return x * x\n",
    "\n",
    "\n",
    "num_list = [1, 2, 3, 4, 5, 6, 7, 8, 9, 10] # 변수명 li를 num_list로 변경\n",
    "# 먼저 is_even 함수로 숫자를 필터링한 다음, 결과 요소에 square_num 함수를 적용(map)합니다.\n",
    "result_list = map(\n",
    "    square_num, filter(is_even, num_list)\n",
    ")  \n",
    "print(list(result_list))"
   ]
  },
  {
   "cell_type": "markdown",
   "metadata": {},
   "source": [
    "---\n",
    "\n",
    "# 문제 43\n",
    "\n",
    "### **문제:**\n",
    "\n",
    "> **_`filter()`를 사용하여 1과 20 사이(둘 다 포함)의 짝수로 구성된 리스트를 만드는 프로그램을 작성하십시오._**\n",
    "\n",
    "---\n",
    "\n",
    "### 힌트:\n",
    "\n",
    "> **_`filter()`를 사용하여 리스트의 요소를 필터링하십시오. 익명 함수를 정의하려면 `lambda`를 사용하십시오._**\n",
    "\n",
    "---\n",
    "\n",
    "\n",
    "\n",
    "**해결책:**"
   ]
  },
  {
   "cell_type": "code",
   "execution_count": null,
   "metadata": {},
   "outputs": [],
   "source": [
    "def is_even_filter(x): # 함수명 even을 is_even_filter로 변경\n",
    "    return x % 2 == 0\n",
    "\n",
    "\n",
    "even_numbers_filtered = filter(is_even_filter, range(1, 21))\n",
    "print(list(even_numbers_filtered))"
   ]
  },
  {
   "cell_type": "markdown",
   "metadata": {},
   "source": [
    "---"
   ]
  }
 ],
 "metadata": {
  "kernelspec": {
   "display_name": "Python 3",
   "language": "python",
   "name": "python3"
  },
  "language_info": {
   "codemirror_mode": {
    "name": "ipython",
    "version": 3
   },
   "file_extension": ".py",
   "mimetype": "text/x-python",
   "name": "python",
   "nbconvert_exporter": "python",
   "pygments_lexer": "ipython3",
   "version": "3.7.6"
  }
 },
 "nbformat": 4,
 "nbformat_minor": 4
}
