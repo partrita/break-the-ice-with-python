{
 "cells": [
  {
   "cell_type": "markdown",
   "metadata": {},
   "source": [
    "# 문제 31\n",
    "\n",
    "### **문제:**\n",
    "\n",
    "> **_키가 1과 20 사이의 숫자(둘 다 포함)이고 값이 키의 제곱인 딕셔너리를 인쇄할 수 있는 함수를 정의하십시오._**\n",
    "\n",
    "---\n",
    "\n",
    "### 힌트:\n",
    "\n",
    "\n",
    "딕셔너리에 항목을 넣으려면 `dict[key]=value` 패턴을 사용하십시오. 숫자의 거듭제곱을 얻으려면 `**` 연산자를 사용하십시오. 루프에는 `range()`를 사용하십시오.\n",
    "\n",
    "\n",
    "---\n",
    "\n",
    "\n",
    "\n",
    "**해결책:**"
   ]
  },
  {
   "cell_type": "code",
   "execution_count": null,
   "metadata": {},
   "outputs": [],
   "source": [
    "def print_dict_squares(): # 함수명 변경\n",
    "    # 딕셔너리 컴프리헨션을 사용하여 1부터 20까지 각 숫자 i를 키로, i의 제곱을 값으로 하는 딕셔너리 생성\n",
    "    squares_dict = {i: i ** 2 for i in range(1, 21)} \n",
    "    print(squares_dict)\n",
    "\n",
    "\n",
    "print_dict_squares()"
   ]
  },
  {
   "cell_type": "markdown",
   "metadata": {},
   "source": [
    "---\n",
    "\n",
    "# 문제 32\n",
    "\n",
    "### **문제:**\n",
    "\n",
    "> **_키가 1과 20 사이의 숫자(둘 다 포함)이고 값이 키의 제곱인 딕셔너리를 생성할 수 있는 함수를 정의하십시오. 함수는 키만 인쇄해야 합니다._**\n",
    "\n",
    "---\n",
    "\n",
    "### 힌트:\n",
    "\n",
    "\n",
    "딕셔너리에 항목을 넣으려면 `dict[key]=value` 패턴을 사용하십시오. 숫자의 거듭제곱을 얻으려면 `**` 연산자를 사용하십시오. 루프에는 `range()`를 사용하십시오. 딕셔너리의 키를 반복하려면 `keys()`를 사용하십시오. 또한 `items()`를 사용하여 키/값 쌍을 가져올 수 있습니다.\n",
    "\n",
    "\n",
    "---\n",
    "\n",
    "\n",
    "\n",
    "**해결책:**"
   ]
  },
  {
   "cell_type": "code",
   "execution_count": null,
   "metadata": {},
   "outputs": [],
   "source": [
    "def print_dict_keys_squares(): # 함수명 변경\n",
    "    squares_keys_dict = {i: i ** 2 for i in range(1, 21)}\n",
    "    print(squares_keys_dict.keys())  # 딕셔너리의 키들을 인쇄합니다. (Python 3에서는 dict_keys 객체 반환)\n",
    "\n",
    "\n",
    "print_dict_keys_squares()"
   ]
  },
  {
   "cell_type": "markdown",
   "metadata": {},
   "source": [
    "---\n",
    "\n",
    "# 문제 33\n",
    "\n",
    "### **문제:**\n",
    "\n",
    "> **_값이 1과 20 사이의 숫자(둘 다 포함)의 제곱인 리스트를 생성하고 인쇄할 수 있는 함수를 정의하십시오._**\n",
    "\n",
    "---\n",
    "\n",
    "### 힌트:\n",
    "\n",
    "\n",
    "숫자의 거듭제곱을 얻으려면 `**` 연산자를 사용하십시오. 루프에는 `range()`를 사용하십시오. 리스트에 값을 추가하려면 `list.append()`를 사용하십시오.\n",
    "\n",
    "\n",
    "---\n",
    "\n",
    "\n",
    "\n",
    "**해결책:**"
   ]
  },
  {
   "cell_type": "code",
   "execution_count": null,
   "metadata": {},
   "outputs": [],
   "source": [
    "def print_list_squares(): # 함수명 변경\n",
    "    squares_list = [i ** 2 for i in range(1, 21)] # 리스트 컴프리헨션 사용\n",
    "    print(squares_list)\n",
    "\n",
    "\n",
    "print_list_squares()"
   ]
  },
  {
   "cell_type": "markdown",
   "metadata": {},
   "source": [
    "---\n",
    "\n",
    "# 문제 34\n",
    "\n",
    "### **문제:**\n",
    "\n",
    "> **_값이 1과 20 사이의 숫자(둘 다 포함)의 제곱인 리스트를 생성할 수 있는 함수를 정의하십시오. 그런 다음 함수는 리스트의 처음 5개 요소를 인쇄해야 합니다._**\n",
    "\n",
    "---\n",
    "\n",
    "### 힌트:\n",
    "\n",
    "\n",
    "숫자의 거듭제곱을 얻으려면 `**` 연산자를 사용하십시오. 루프에는 `range()`를 사용하십시오. 리스트에 값을 추가하려면 `list.append()`를 사용하십시오. 리스트를 슬라이스하려면 `[n1:n2]`를 사용하십시오.\n",
    "\n",
    "\n",
    "---\n",
    "\n",
    "\n",
    "\n",
    "**해결책:**"
   ]
  },
  {
   "cell_type": "code",
   "execution_count": null,
   "metadata": {},
   "outputs": [],
   "source": [
    "def print_first_five_squares(): # 함수명 변경\n",
    "    squares_list_first_five = [i ** 2 for i in range(1, 21)]\n",
    "\n",
    "    # 리스트의 처음 5개 요소를 인쇄 (각각 다른 줄에)\n",
    "    for i in range(5):\n",
    "        print(squares_list_first_five[i])\n",
    "    # 또는 한 줄에 인쇄하려면: print(squares_list_first_five[:5])\n",
    "\n",
    "print_first_five_squares()"
   ]
  },
  {
   "cell_type": "markdown",
   "metadata": {},
   "source": [
    "--- (yuan1z & apurvmishra99 제공 솔루션)"
   ]
  },
  {
   "cell_type": "code",
   "execution_count": 3,
   "metadata": {},
   "outputs": [
    {
     "name": "stdout",
     "output_type": "stream",
     "text": [
      "1\n",
      "4\n",
      "9\n",
      "16\n",
      "25\n"
     ]
    }
   ],
   "source": [
    "\"\"\"yuan1z 제공 및 apurvmishra99 편집 솔루션\"\"\"\n",
    "# 람다 함수는 1부터 20까지 숫자 제곱 리스트의 처음 5개 요소를 반환합니다.\n",
    "get_first_five_squares_lambda = lambda: ([i ** 2 for i in range(1, 21)][:5])\n",
    "# 반환된 리스트의 각 요소를 개행 문자로 구분하여 인쇄합니다.\n",
    "print(*(get_first_five_squares_lambda()), sep=\"\\n\")"
   ]
  },
  {
   "cell_type": "markdown",
   "metadata": {},
   "source": [
    "---\n",
    "\n",
    "# 문제 35\n",
    "\n",
    "### **문제:**\n",
    "\n",
    "> **_값이 1과 20 사이의 숫자(둘 다 포함)의 제곱인 리스트를 생성할 수 있는 함수를 정의하십시오. 그런 다음 함수는 리스트의 마지막 5개 요소를 인쇄해야 합니다._**\n",
    "\n",
    "---\n",
    "\n",
    "### 힌트:\n",
    "\n",
    "\n",
    "숫자의 거듭제곱을 얻으려면 `**` 연산자를 사용하십시오. 루프에는 `range()`를 사용하십시오. 리스트에 값을 추가하려면 `list.append()`를 사용하십시오. 리스트를 슬라이스하려면 `[n1:n2]`를 사용하십시오.\n",
    "\n",
    "\n",
    "---\n",
    "\n",
    "\n",
    "\n",
    "**해결책:**"
   ]
  },
  {
   "cell_type": "code",
   "execution_count": null,
   "metadata": {},
   "outputs": [],
   "source": [
    "def print_last_five_squares(): # 함수명 변경\n",
    "    squares_list_last_five = [i ** 2 for i in range(1, 21)]\n",
    "    # 리스트의 마지막 5개 요소를 인쇄 (역순으로 각 줄에)\n",
    "    # 원래 코드: for i in range(19, 14, -1): print(squares_list_last_five[i])\n",
    "    # 슬라이싱을 사용하여 순서대로 인쇄:\n",
    "    for item in squares_list_last_five[-5:]:\n",
    "        print(item)\n",
    "\n",
    "print_last_five_squares()"
   ]
  },
  {
   "cell_type": "markdown",
   "metadata": {},
   "source": [
    "---\n",
    "\n",
    "# 문제 36\n",
    "\n",
    "### **문제:**\n",
    "\n",
    "> **_값이 1과 20 사이의 숫자(둘 다 포함)의 제곱인 리스트를 생성할 수 있는 함수를 정의하십시오. 그런 다음 함수는 리스트에서 처음 5개 요소를 제외한 모든 값을 인쇄해야 합니다._**\n",
    "\n",
    "---\n",
    "\n",
    "\n",
    "힌트: 숫자의 거듭제곱을 얻으려면 `**` 연산자를 사용하십시오. 루프에는 `range()`를 사용하십시오. 리스트에 값을 추가하려면 `list.append()`를 사용하십시오. 리스트를 슬라이스하려면 `[n1:n2]`를 사용하십시오.\n", # Markdown 제목으로 변경
    "\n",
    "\n",
    "---\n",
    "\n",
    "\n",
    "\n",
    "**해결책:**"
   ]
  },
  {
   "cell_type": "code",
   "execution_count": null,
   "metadata": {},
   "outputs": [],
   "source": [
    "def print_squares_except_first_five(): # 함수명 변경\n",
    "    squares_list_except_five = [i ** 2 for i in range(1, 21)]\n",
    "    # 리스트의 인덱스 5부터 끝까지 요소를 인쇄 (각각 다른 줄에)\n",
    "    for i in range(5, 20):\n",
    "        print(squares_list_except_five[i])\n",
    "    # 또는 슬라이싱 사용: for item in squares_list_except_five[5:]: print(item)\n",
    "\n",
    "print_squares_except_first_five()"
   ]
  },
  {
   "cell_type": "markdown",
   "metadata": {},
   "source": [
    "---\n",
    "\n",
    "# 문제 37\n",
    "\n",
    "### **문제:**\n",
    "\n",
    "> **_값이 1과 20 사이의 숫자(둘 다 포함)의 제곱인 튜플을 생성하고 인쇄할 수 있는 함수를 정의하십시오._**\n",
    "\n",
    "---\n",
    "\n",
    "### 힌트:\n",
    "\n",
    "\n",
    "숫자의 거듭제곱을 얻으려면 `**` 연산자를 사용하십시오. 루프에는 `range()`를 사용하십시오. 리스트에 값을 추가하려면 `list.append()`를 사용하십시오. 리스트에서 튜플을 얻으려면 `tuple()`을 사용하십시오.\n",
    "\n",
    "\n",
    "---\n",
    "\n",
    "\n",
    "\n",
    "**해결책:**"
   ]
  },
  {
   "cell_type": "code",
   "execution_count": null,
   "metadata": {},
   "outputs": [],
   "source": [
    "def print_tuple_squares(): # 함수명 printTupple을 print_tuple_squares로 변경 (오타 수정 및 명확성)\n",
    "    squares_tuple_list = [i ** 2 for i in range(1, 21)]\n",
    "    print(tuple(squares_tuple_list))\n",
    "\n",
    "\n",
    "print_tuple_squares()"
   ]
  },
  {
   "cell_type": "markdown",
   "metadata": {},
   "source": [
    "---"
   ]
  },
  {
   "cell_type": "code",
   "execution_count": null,
   "metadata": {},
   "outputs": [],
   "source": [
    "\"\"\"\n",
    "Seawolf159 제공 솔루션\n",
    "\"\"\"\n",
    "\n",
    "\n",
    "def get_square_of_numbers_tuple(): # 함수명 변경\n",
    "    # 제너레이터 표현식을 사용하여 1부터 20까지 각 숫자 i의 제곱을 포함하는 튜플을 직접 생성하여 반환합니다.\n",
    "    return tuple(i ** 2 for i in range(1, 21))\n",
    "\n",
    "\n",
    "print(get_square_of_numbers_tuple())"
   ]
  },
  {
   "cell_type": "markdown",
   "metadata": {},
   "source": [
    "---\n",
    "\n",
    "### 코멘트\n", # Comment를 코멘트로 번역
    "\n",
    "**_이 섹션의 문제들은 매우 쉽고 모두 동일한 유형의 문제를 약간 변형한 것입니다. 주로 리스트, 딕셔너리, 튜플과 함께 사용되는 일반적으로 사용되는 일부 함수 작업을 사용하는 데 중점을 두었습니다. 전체 솔루션에서 효율적인 방식으로 문제를 해결하려고 시도하지 않았습니다. 오히려 제가 할 수 있는 다른 방식으로 해결하려고 노력했습니다. 이것은 초보자가 가장 간단한 문제를 다양한 방식으로 해결할 수 있는 방법을 아는 데 도움이 될 것입니다._**"
   ]
  },
  {
   "cell_type": "code",
   "execution_count": null,
   "metadata": {},
   "outputs": [],
   "source": []
  }
 ],
 "metadata": {
  "kernelspec": {
   "display_name": "Python 3",
   "language": "python",
   "name": "python3"
  },
  "language_info": {
   "codemirror_mode": {
    "name": "ipython",
    "version": 3
   },
   "file_extension": ".py",
   "mimetype": "text/x-python",
   "name": "python",
   "nbconvert_exporter": "python",
   "pygments_lexer": "ipython3",
   "version": "3.7.6"
  }
 },
 "nbformat": 4,
 "nbformat_minor": 4
}
